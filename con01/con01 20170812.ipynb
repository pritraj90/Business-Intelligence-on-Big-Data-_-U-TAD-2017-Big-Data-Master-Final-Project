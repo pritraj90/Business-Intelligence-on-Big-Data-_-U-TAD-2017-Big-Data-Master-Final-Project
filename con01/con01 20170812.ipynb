{
 "cells": [
  {
   "cell_type": "code",
   "execution_count": 1,
   "metadata": {},
   "outputs": [
    {
     "data": {
      "text/html": [
       "\n",
       "        <div>\n",
       "            <p><b>SparkContext</b></p>\n",
       "\n",
       "            <p><a href=\"http://192.168.32.172:4040\">Spark UI</a></p>\n",
       "\n",
       "            <dl>\n",
       "              <dt>Version</dt>\n",
       "                <dd><code>v2.2.0</code></dd>\n",
       "              <dt>Master</dt>\n",
       "                <dd><code>local[*]</code></dd>\n",
       "              <dt>AppName</dt>\n",
       "                <dd><code>PySparkShell</code></dd>\n",
       "            </dl>\n",
       "        </div>\n",
       "        "
      ],
      "text/plain": [
       "<SparkContext master=local[*] appName=PySparkShell>"
      ]
     },
     "execution_count": 1,
     "metadata": {},
     "output_type": "execute_result"
    }
   ],
   "source": [
    "sc"
   ]
  },
  {
   "cell_type": "code",
   "execution_count": 2,
   "metadata": {},
   "outputs": [
    {
     "data": {
      "text/html": [
       "\n",
       "            <div>\n",
       "                <p><b>SparkSession - hive</b></p>\n",
       "                \n",
       "        <div>\n",
       "            <p><b>SparkContext</b></p>\n",
       "\n",
       "            <p><a href=\"http://192.168.32.172:4040\">Spark UI</a></p>\n",
       "\n",
       "            <dl>\n",
       "              <dt>Version</dt>\n",
       "                <dd><code>v2.2.0</code></dd>\n",
       "              <dt>Master</dt>\n",
       "                <dd><code>local[*]</code></dd>\n",
       "              <dt>AppName</dt>\n",
       "                <dd><code>PySparkShell</code></dd>\n",
       "            </dl>\n",
       "        </div>\n",
       "        \n",
       "            </div>\n",
       "        "
      ],
      "text/plain": [
       "<pyspark.sql.session.SparkSession at 0x7fde8f9b5c50>"
      ]
     },
     "execution_count": 2,
     "metadata": {},
     "output_type": "execute_result"
    }
   ],
   "source": [
    "spark"
   ]
  },
  {
   "cell_type": "code",
   "execution_count": 4,
   "metadata": {
    "collapsed": true
   },
   "outputs": [],
   "source": [
    "year2016csvRDD = sc.textFile(\"/home/utad/spark-2.2.0-bin-hadoop2.7/con01/2016.csv\")"
   ]
  },
  {
   "cell_type": "code",
   "execution_count": 5,
   "metadata": {},
   "outputs": [
    {
     "data": {
      "text/plain": [
       "[u'US1NCCR0043,20160101,PRCP,79,,,N,',\n",
       " u'CA1AB000023,20160101,PRCP,0,,,N,',\n",
       " u'CA1AB000023,20160101,SNOW,0,,,N,',\n",
       " u'CA1AB000023,20160101,SNWD,102,,,N,',\n",
       " u'US1NCBC0113,20160101,PRCP,5,,,N,',\n",
       " u'ASN00015643,20160101,TMAX,308,,,a,',\n",
       " u'ASN00015643,20160101,TMIN,186,,,a,',\n",
       " u'ASN00015643,20160101,PRCP,0,,,a,',\n",
       " u'US1MTMH0019,20160101,PRCP,0,,,N,',\n",
       " u'US1MTMH0019,20160101,SNOW,0,,,N,',\n",
       " u'US1MTMH0019,20160101,SNWD,165,,,N,',\n",
       " u'US1MTMH0019,20160101,WESD,269,,,N,',\n",
       " u'ASN00085296,20160101,TMAX,338,,,a,',\n",
       " u'ASN00085296,20160101,TMIN,242,,,a,',\n",
       " u'ASN00085296,20160101,PRCP,0,,,a,',\n",
       " u'US1MNWR0029,20160101,PRCP,0,,,N,',\n",
       " u'ASN00040209,20160101,TMAX,285,,,a,',\n",
       " u'ASN00040209,20160101,TMIN,218,,,a,',\n",
       " u'ASN00040209,20160101,PRCP,1,,,a,',\n",
       " u'ASN00085280,20160101,TMAX,347,,,a,']"
      ]
     },
     "execution_count": 5,
     "metadata": {},
     "output_type": "execute_result"
    }
   ],
   "source": [
    "year2016csvRDD.take(20)"
   ]
  },
  {
   "cell_type": "code",
   "execution_count": 6,
   "metadata": {
    "collapsed": true
   },
   "outputs": [],
   "source": [
    "year2016csvDF = spark.read.text(\"/home/utad/spark-2.2.0-bin-hadoop2.7/con01/2016.csv\")"
   ]
  },
  {
   "cell_type": "code",
   "execution_count": 7,
   "metadata": {},
   "outputs": [
    {
     "data": {
      "text/plain": [
       "[Row(value=u'US1NCCR0043,20160101,PRCP,79,,,N,'),\n",
       " Row(value=u'CA1AB000023,20160101,PRCP,0,,,N,'),\n",
       " Row(value=u'CA1AB000023,20160101,SNOW,0,,,N,'),\n",
       " Row(value=u'CA1AB000023,20160101,SNWD,102,,,N,'),\n",
       " Row(value=u'US1NCBC0113,20160101,PRCP,5,,,N,'),\n",
       " Row(value=u'ASN00015643,20160101,TMAX,308,,,a,'),\n",
       " Row(value=u'ASN00015643,20160101,TMIN,186,,,a,'),\n",
       " Row(value=u'ASN00015643,20160101,PRCP,0,,,a,'),\n",
       " Row(value=u'US1MTMH0019,20160101,PRCP,0,,,N,'),\n",
       " Row(value=u'US1MTMH0019,20160101,SNOW,0,,,N,'),\n",
       " Row(value=u'US1MTMH0019,20160101,SNWD,165,,,N,'),\n",
       " Row(value=u'US1MTMH0019,20160101,WESD,269,,,N,'),\n",
       " Row(value=u'ASN00085296,20160101,TMAX,338,,,a,'),\n",
       " Row(value=u'ASN00085296,20160101,TMIN,242,,,a,'),\n",
       " Row(value=u'ASN00085296,20160101,PRCP,0,,,a,'),\n",
       " Row(value=u'US1MNWR0029,20160101,PRCP,0,,,N,'),\n",
       " Row(value=u'ASN00040209,20160101,TMAX,285,,,a,'),\n",
       " Row(value=u'ASN00040209,20160101,TMIN,218,,,a,'),\n",
       " Row(value=u'ASN00040209,20160101,PRCP,1,,,a,'),\n",
       " Row(value=u'ASN00085280,20160101,TMAX,347,,,a,')]"
      ]
     },
     "execution_count": 7,
     "metadata": {},
     "output_type": "execute_result"
    }
   ],
   "source": [
    "year2016csvDF.take(20)"
   ]
  },
  {
   "cell_type": "code",
   "execution_count": 9,
   "metadata": {
    "collapsed": true
   },
   "outputs": [],
   "source": [
    "year2016csv_PRCP_DF = year2016csvDF.filter(year2016csvDF.value.contains(\"PRCP\"))"
   ]
  },
  {
   "cell_type": "code",
   "execution_count": 10,
   "metadata": {},
   "outputs": [
    {
     "data": {
      "text/plain": [
       "[Row(value=u'US1NCCR0043,20160101,PRCP,79,,,N,'),\n",
       " Row(value=u'CA1AB000023,20160101,PRCP,0,,,N,'),\n",
       " Row(value=u'US1NCBC0113,20160101,PRCP,5,,,N,'),\n",
       " Row(value=u'ASN00015643,20160101,PRCP,0,,,a,'),\n",
       " Row(value=u'US1MTMH0019,20160101,PRCP,0,,,N,'),\n",
       " Row(value=u'ASN00085296,20160101,PRCP,0,,,a,'),\n",
       " Row(value=u'US1MNWR0029,20160101,PRCP,0,,,N,'),\n",
       " Row(value=u'ASN00040209,20160101,PRCP,1,,,a,'),\n",
       " Row(value=u'ASN00085280,20160101,PRCP,0,,,a,'),\n",
       " Row(value=u'US1MNCV0008,20160101,PRCP,0,T,,N,'),\n",
       " Row(value=u'US1MISW0005,20160101,PRCP,3,,,N,'),\n",
       " Row(value=u'US1LAEB0041,20160101,PRCP,64,,,N,'),\n",
       " Row(value=u'CA007020860,20160101,PRCP,20,,,C,'),\n",
       " Row(value=u'US1KSSG0097,20160101,PRCP,0,,,N,'),\n",
       " Row(value=u'US1KSGO0009,20160101,PRCP,0,,,N,'),\n",
       " Row(value=u'ASN00009661,20160101,PRCP,0,,,a,'),\n",
       " Row(value=u'US1KSEL0074,20160101,PRCP,0,,,N,'),\n",
       " Row(value=u'ASN00078001,20160101,PRCP,0,,,a,'),\n",
       " Row(value=u'US1INWN0004,20160101,PRCP,0,,,N,'),\n",
       " Row(value=u'US1INFL0003,20160101,PRCP,0,,,N,')]"
      ]
     },
     "execution_count": 10,
     "metadata": {},
     "output_type": "execute_result"
    }
   ],
   "source": [
    "year2016csv_PRCP_DF.take(20)"
   ]
  },
  {
   "cell_type": "code",
   "execution_count": 11,
   "metadata": {
    "collapsed": true
   },
   "outputs": [],
   "source": [
    "year2016csv_SNOW_DF = year2016csvDF.filter(year2016csvDF.value.contains(\"SNOW\"))"
   ]
  },
  {
   "cell_type": "code",
   "execution_count": 12,
   "metadata": {},
   "outputs": [
    {
     "data": {
      "text/plain": [
       "[Row(value=u'CA1AB000023,20160101,SNOW,0,,,N,'),\n",
       " Row(value=u'US1MTMH0019,20160101,SNOW,0,,,N,'),\n",
       " Row(value=u'US1MNCV0008,20160101,SNOW,0,T,,N,'),\n",
       " Row(value=u'US1MISW0005,20160101,SNOW,5,,,N,'),\n",
       " Row(value=u'CA007020860,20160101,SNOW,20,,,C,'),\n",
       " Row(value=u'US1KSSG0097,20160101,SNOW,0,,,N,'),\n",
       " Row(value=u'US1KSGO0009,20160101,SNOW,0,,,N,'),\n",
       " Row(value=u'US1INFL0003,20160101,SNOW,0,,,N,'),\n",
       " Row(value=u'US1INNW0001,20160101,SNOW,0,T,,N,'),\n",
       " Row(value=u'US1INKS0032,20160101,SNOW,0,T,,N,'),\n",
       " Row(value=u'US1INLK0068,20160101,SNOW,0,,,N,'),\n",
       " Row(value=u'US1ILMG0006,20160101,SNOW,0,,,N,'),\n",
       " Row(value=u'US1ILCK0232,20160101,SNOW,0,,,N,'),\n",
       " Row(value=u'CA005023225,20160101,SNOW,0,,,C,'),\n",
       " Row(value=u'US1ILCP0081,20160101,SNOW,0,,,N,'),\n",
       " Row(value=u'US1IACL0002,20160101,SNOW,0,,,N,'),\n",
       " Row(value=u'US1GACS0012,20160101,SNOW,0,,,N,'),\n",
       " Row(value=u'US1FLPS0018,20160101,SNOW,0,,,N,'),\n",
       " Row(value=u'US1FLPN0055,20160101,SNOW,0,,,N,'),\n",
       " Row(value=u'US1FLGC0003,20160101,SNOW,0,,,N,')]"
      ]
     },
     "execution_count": 12,
     "metadata": {},
     "output_type": "execute_result"
    }
   ],
   "source": [
    "year2016csv_SNOW_DF.take(20)"
   ]
  },
  {
   "cell_type": "code",
   "execution_count": 15,
   "metadata": {
    "collapsed": true
   },
   "outputs": [],
   "source": [
    "year2016csv_SNWD_DF = year2016csvDF.filter(year2016csvDF.value.contains(\"SNWD\"))"
   ]
  },
  {
   "cell_type": "code",
   "execution_count": 16,
   "metadata": {},
   "outputs": [
    {
     "data": {
      "text/plain": [
       "[Row(value=u'CA1AB000023,20160101,SNWD,102,,,N,'),\n",
       " Row(value=u'US1MTMH0019,20160101,SNWD,165,,,N,'),\n",
       " Row(value=u'US1MNCV0008,20160101,SNWD,127,,,N,'),\n",
       " Row(value=u'US1MISW0005,20160101,SNWD,13,,,N,'),\n",
       " Row(value=u'CA007020860,20160101,SNWD,250,,,C,'),\n",
       " Row(value=u'US1INFL0003,20160101,SNWD,0,,,N,'),\n",
       " Row(value=u'US1INNW0001,20160101,SNWD,0,T,,N,'),\n",
       " Row(value=u'US1INKS0032,20160101,SNWD,0,,,N,'),\n",
       " Row(value=u'US1INLK0068,20160101,SNWD,64,,,N,'),\n",
       " Row(value=u'US1ILCK0232,20160101,SNWD,25,,,N,'),\n",
       " Row(value=u'CA005023225,20160101,SNWD,260,,,C,'),\n",
       " Row(value=u'US1ILCP0081,20160101,SNWD,0,,,N,'),\n",
       " Row(value=u'US1IACL0002,20160101,SNWD,142,,,N,'),\n",
       " Row(value=u'CA003031094,20160101,SNWD,110,,,C,'),\n",
       " Row(value=u'US1COEP0343,20160101,SNWD,0,T,,N,'),\n",
       " Row(value=u'US1COEP0061,20160101,SNWD,25,,,N,'),\n",
       " Row(value=u'US1COEP0202,20160101,SNWD,0,,,N,'),\n",
       " Row(value=u'CA001168204,20160101,SNWD,1310,,,C,'),\n",
       " Row(value=u'USW00024229,20160101,SNWD,0,,,H,'),\n",
       " Row(value=u'USW00024061,20160101,SNWD,0,T,,W,')]"
      ]
     },
     "execution_count": 16,
     "metadata": {},
     "output_type": "execute_result"
    }
   ],
   "source": [
    "year2016csv_SNWD_DF.take(20)"
   ]
  },
  {
   "cell_type": "code",
   "execution_count": 17,
   "metadata": {
    "collapsed": true
   },
   "outputs": [],
   "source": [
    "year2016csv_TMAX_DF = year2016csvDF.filter(year2016csvDF.value.contains(\"TMAX\"))"
   ]
  },
  {
   "cell_type": "code",
   "execution_count": 18,
   "metadata": {},
   "outputs": [
    {
     "data": {
      "text/plain": [
       "[Row(value=u'ASN00015643,20160101,TMAX,308,,,a,'),\n",
       " Row(value=u'ASN00085296,20160101,TMAX,338,,,a,'),\n",
       " Row(value=u'ASN00040209,20160101,TMAX,285,,,a,'),\n",
       " Row(value=u'ASN00085280,20160101,TMAX,347,,,a,'),\n",
       " Row(value=u'CA007020860,20160101,TMAX,-10,,,C,'),\n",
       " Row(value=u'CA005030984,20160101,TMAX,-47,,,C,'),\n",
       " Row(value=u'CA003072151,20160101,TMAX,14,,,C,'),\n",
       " Row(value=u'CA003031094,20160101,TMAX,4,,,C,'),\n",
       " Row(value=u'ASN00068151,20160101,TMAX,244,,,a,'),\n",
       " Row(value=u'ARM00087582,20160101,TMAX,285,,,S,'),\n",
       " Row(value=u'CA002201903,20160101,TMAX,-73,,,C,'),\n",
       " Row(value=u'CA001168204,20160101,TMAX,25,,,C,'),\n",
       " Row(value=u'UVM00065518,20160101,TMAX,320,,,S,'),\n",
       " Row(value=u'USW00094626,20160101,TMAX,0,,,W,'),\n",
       " Row(value=u'USW00024229,20160101,TMAX,28,,,W,2400'),\n",
       " Row(value=u'USW00024061,20160101,TMAX,-71,,,W,'),\n",
       " Row(value=u'USW00012876,20160101,TMAX,283,,,W,'),\n",
       " Row(value=u'CA001107010,20160101,TMAX,38,,,C,'),\n",
       " Row(value=u'USW00014719,20160101,TMAX,72,,,W,'),\n",
       " Row(value=u'USW00003967,20160101,TMAX,33,,,W,')]"
      ]
     },
     "execution_count": 18,
     "metadata": {},
     "output_type": "execute_result"
    }
   ],
   "source": [
    "year2016csv_TMAX_DF.take(20)"
   ]
  },
  {
   "cell_type": "code",
   "execution_count": 19,
   "metadata": {
    "collapsed": true
   },
   "outputs": [],
   "source": [
    "year2016csv_TMIN_DF = year2016csvDF.filter(year2016csvDF.value.contains(\"TMIN\"))"
   ]
  },
  {
   "cell_type": "code",
   "execution_count": 20,
   "metadata": {},
   "outputs": [
    {
     "data": {
      "text/plain": [
       "[Row(value=u'ASN00015643,20160101,TMIN,186,,,a,'),\n",
       " Row(value=u'ASN00085296,20160101,TMIN,242,,,a,'),\n",
       " Row(value=u'ASN00040209,20160101,TMIN,218,,,a,'),\n",
       " Row(value=u'ASN00085280,20160101,TMIN,159,,,a,'),\n",
       " Row(value=u'CA007020860,20160101,TMIN,-50,,,C,'),\n",
       " Row(value=u'CA005030984,20160101,TMIN,-85,,,C,'),\n",
       " Row(value=u'CA003076680,20160101,TMIN,-154,,,C,'),\n",
       " Row(value=u'CA003072151,20160101,TMIN,-105,,,C,'),\n",
       " Row(value=u'CA003031094,20160101,TMIN,-129,,,C,'),\n",
       " Row(value=u'ASN00068151,20160101,TMIN,176,,,a,'),\n",
       " Row(value=u'CA002201903,20160101,TMIN,-124,,,C,'),\n",
       " Row(value=u'CA001168204,20160101,TMIN,-135,,,C,'),\n",
       " Row(value=u'UVM00065518,20160101,TMIN,168,,,S,'),\n",
       " Row(value=u'USW00094626,20160101,TMIN,-43,,,W,'),\n",
       " Row(value=u'USW00024229,20160101,TMIN,-5,,,W,2400'),\n",
       " Row(value=u'USW00024061,20160101,TMIN,-199,,,W,'),\n",
       " Row(value=u'USW00012876,20160101,TMIN,200,,,W,'),\n",
       " Row(value=u'CA001107010,20160101,TMIN,-6,,,C,'),\n",
       " Row(value=u'USW00014719,20160101,TMIN,-27,,,W,'),\n",
       " Row(value=u'USW00003967,20160101,TMIN,-60,,,W,')]"
      ]
     },
     "execution_count": 20,
     "metadata": {},
     "output_type": "execute_result"
    }
   ],
   "source": [
    "year2016csv_TMIN_DF.take(20)"
   ]
  },
  {
   "cell_type": "code",
   "execution_count": 24,
   "metadata": {
    "collapsed": true
   },
   "outputs": [],
   "source": [
    "year2016csv_filtered_DF = year2016csv_PRCP_DF.union(year2016csv_SNOW_DF)"
   ]
  },
  {
   "cell_type": "code",
   "execution_count": 25,
   "metadata": {},
   "outputs": [
    {
     "data": {
      "text/plain": [
       "[Row(value=u'US1NCCR0043,20160101,PRCP,79,,,N,'),\n",
       " Row(value=u'CA1AB000023,20160101,PRCP,0,,,N,'),\n",
       " Row(value=u'US1NCBC0113,20160101,PRCP,5,,,N,'),\n",
       " Row(value=u'ASN00015643,20160101,PRCP,0,,,a,'),\n",
       " Row(value=u'US1MTMH0019,20160101,PRCP,0,,,N,'),\n",
       " Row(value=u'ASN00085296,20160101,PRCP,0,,,a,'),\n",
       " Row(value=u'US1MNWR0029,20160101,PRCP,0,,,N,'),\n",
       " Row(value=u'ASN00040209,20160101,PRCP,1,,,a,'),\n",
       " Row(value=u'ASN00085280,20160101,PRCP,0,,,a,'),\n",
       " Row(value=u'US1MNCV0008,20160101,PRCP,0,T,,N,'),\n",
       " Row(value=u'US1MISW0005,20160101,PRCP,3,,,N,'),\n",
       " Row(value=u'US1LAEB0041,20160101,PRCP,64,,,N,'),\n",
       " Row(value=u'CA007020860,20160101,PRCP,20,,,C,'),\n",
       " Row(value=u'US1KSSG0097,20160101,PRCP,0,,,N,'),\n",
       " Row(value=u'US1KSGO0009,20160101,PRCP,0,,,N,'),\n",
       " Row(value=u'ASN00009661,20160101,PRCP,0,,,a,'),\n",
       " Row(value=u'US1KSEL0074,20160101,PRCP,0,,,N,'),\n",
       " Row(value=u'ASN00078001,20160101,PRCP,0,,,a,'),\n",
       " Row(value=u'US1INWN0004,20160101,PRCP,0,,,N,'),\n",
       " Row(value=u'US1INFL0003,20160101,PRCP,0,,,N,')]"
      ]
     },
     "execution_count": 25,
     "metadata": {},
     "output_type": "execute_result"
    }
   ],
   "source": [
    "year2016csv_filtered_DF.take(20)"
   ]
  },
  {
   "cell_type": "code",
   "execution_count": 26,
   "metadata": {},
   "outputs": [
    {
     "data": {
      "text/plain": [
       "9929010"
      ]
     },
     "execution_count": 26,
     "metadata": {},
     "output_type": "execute_result"
    }
   ],
   "source": [
    "year2016csv_PRCP_DF.count()"
   ]
  },
  {
   "cell_type": "code",
   "execution_count": 27,
   "metadata": {},
   "outputs": [
    {
     "data": {
      "text/plain": [
       "4379959"
      ]
     },
     "execution_count": 27,
     "metadata": {},
     "output_type": "execute_result"
    }
   ],
   "source": [
    "year2016csv_SNOW_DF.count()"
   ]
  },
  {
   "cell_type": "code",
   "execution_count": 28,
   "metadata": {},
   "outputs": [
    {
     "data": {
      "text/plain": [
       "14308969"
      ]
     },
     "execution_count": 28,
     "metadata": {},
     "output_type": "execute_result"
    }
   ],
   "source": [
    "year2016csv_filtered_DF.count()"
   ]
  },
  {
   "cell_type": "code",
   "execution_count": 29,
   "metadata": {
    "collapsed": true
   },
   "outputs": [],
   "source": [
    "year2016csv_filtered_DF = year2016csv_filtered_DF.union(year2016csv_SNWD_DF)"
   ]
  },
  {
   "cell_type": "code",
   "execution_count": 30,
   "metadata": {},
   "outputs": [
    {
     "data": {
      "text/plain": [
       "3129635"
      ]
     },
     "execution_count": 30,
     "metadata": {},
     "output_type": "execute_result"
    }
   ],
   "source": [
    "year2016csv_SNWD_DF.count()"
   ]
  },
  {
   "cell_type": "code",
   "execution_count": 31,
   "metadata": {},
   "outputs": [
    {
     "data": {
      "text/plain": [
       "17438604"
      ]
     },
     "execution_count": 31,
     "metadata": {},
     "output_type": "execute_result"
    }
   ],
   "source": [
    "year2016csv_filtered_DF.count()"
   ]
  },
  {
   "cell_type": "code",
   "execution_count": 32,
   "metadata": {
    "collapsed": true
   },
   "outputs": [],
   "source": [
    "year2016csv_filtered_DF = year2016csv_filtered_DF.union(year2016csv_TMAX_DF)"
   ]
  },
  {
   "cell_type": "code",
   "execution_count": 33,
   "metadata": {},
   "outputs": [
    {
     "data": {
      "text/plain": [
       "4375036"
      ]
     },
     "execution_count": 33,
     "metadata": {},
     "output_type": "execute_result"
    }
   ],
   "source": [
    "year2016csv_TMAX_DF.count()"
   ]
  },
  {
   "cell_type": "code",
   "execution_count": 34,
   "metadata": {},
   "outputs": [
    {
     "data": {
      "text/plain": [
       "21813640"
      ]
     },
     "execution_count": 34,
     "metadata": {},
     "output_type": "execute_result"
    }
   ],
   "source": [
    "year2016csv_filtered_DF.count()"
   ]
  },
  {
   "cell_type": "code",
   "execution_count": 35,
   "metadata": {
    "collapsed": true
   },
   "outputs": [],
   "source": [
    "year2016csv_filtered_DF = year2016csv_filtered_DF.union(year2016csv_TMIN_DF)"
   ]
  },
  {
   "cell_type": "code",
   "execution_count": 36,
   "metadata": {},
   "outputs": [
    {
     "data": {
      "text/plain": [
       "4372192"
      ]
     },
     "execution_count": 36,
     "metadata": {},
     "output_type": "execute_result"
    }
   ],
   "source": [
    "year2016csv_TMIN_DF.count()"
   ]
  },
  {
   "cell_type": "code",
   "execution_count": 37,
   "metadata": {},
   "outputs": [
    {
     "data": {
      "text/plain": [
       "26185832"
      ]
     },
     "execution_count": 37,
     "metadata": {},
     "output_type": "execute_result"
    }
   ],
   "source": [
    "year2016csv_filtered_DF.count()"
   ]
  },
  {
   "cell_type": "code",
   "execution_count": 38,
   "metadata": {},
   "outputs": [
    {
     "data": {
      "text/plain": [
       "34130828"
      ]
     },
     "execution_count": 38,
     "metadata": {},
     "output_type": "execute_result"
    }
   ],
   "source": [
    "year2016csvDF.count()"
   ]
  },
  {
   "cell_type": "code",
   "execution_count": 40,
   "metadata": {
    "collapsed": true
   },
   "outputs": [],
   "source": [
    "from pyspark.sql.functions import *"
   ]
  },
  {
   "cell_type": "code",
   "execution_count": 45,
   "metadata": {},
   "outputs": [
    {
     "data": {
      "text/plain": [
       "[Row(max(numElements)=8)]"
      ]
     },
     "execution_count": 45,
     "metadata": {},
     "output_type": "execute_result"
    }
   ],
   "source": [
    "year2016csv_filtered_DF.select(size(split(year2016csv_filtered_DF.value, \",\")).name(\"numElements\")).agg(max(col(\"numElements\"))).collect()"
   ]
  },
  {
   "cell_type": "code",
   "execution_count": 58,
   "metadata": {
    "collapsed": true
   },
   "outputs": [],
   "source": [
    "WordCountDF = year2016csv_filtered_DF.select(explode(split(year2016csv_filtered_DF.value,\",\")).name(\"numElements\")).groupby(\"numElements\").count()"
   ]
  },
  {
   "cell_type": "code",
   "execution_count": 59,
   "metadata": {},
   "outputs": [
    {
     "data": {
      "text/plain": [
       "[Row(numElements=u'US1NCBC0113', count=355),\n",
       " Row(numElements=u'USC00340027', count=1093),\n",
       " Row(numElements=u'FIE00145157', count=1098),\n",
       " Row(numElements=u'ASN00015005', count=355),\n",
       " Row(numElements=u'US1ARGN0006', count=582),\n",
       " Row(numElements=u'USW00063899', count=1092),\n",
       " Row(numElements=u'ASN00018175', count=31),\n",
       " Row(numElements=u'US1NCCY0003', count=605),\n",
       " Row(numElements=u'ASN00087147', count=366),\n",
       " Row(numElements=u'USC00431580', count=1818),\n",
       " Row(numElements=u'US1NCPT0025', count=485),\n",
       " Row(numElements=u'ASN00069088', count=358),\n",
       " Row(numElements=u'US1INFY0002', count=201),\n",
       " Row(numElements=u'K', count=1314),\n",
       " Row(numElements=u'SWE00137758', count=60),\n",
       " Row(numElements=u'US1MIOW0014', count=470),\n",
       " Row(numElements=u'US1MESM0004', count=163),\n",
       " Row(numElements=u'US1AZMR0170', count=535),\n",
       " Row(numElements=u'ASN00085063', count=365),\n",
       " Row(numElements=u'US1INOW0006', count=588)]"
      ]
     },
     "execution_count": 59,
     "metadata": {},
     "output_type": "execute_result"
    }
   ],
   "source": [
    "WordCountDF.take(20)"
   ]
  },
  {
   "cell_type": "code",
   "execution_count": 60,
   "metadata": {
    "collapsed": true
   },
   "outputs": [],
   "source": [
    "elementsCountDF = year2016csv_filtered_DF.select(size(split(year2016csv_filtered_DF.value, \",\")).name(\"numElements\"))"
   ]
  },
  {
   "cell_type": "code",
   "execution_count": 61,
   "metadata": {},
   "outputs": [
    {
     "data": {
      "text/plain": [
       "[Row(numElements=8),\n",
       " Row(numElements=8),\n",
       " Row(numElements=8),\n",
       " Row(numElements=8),\n",
       " Row(numElements=8),\n",
       " Row(numElements=8),\n",
       " Row(numElements=8),\n",
       " Row(numElements=8),\n",
       " Row(numElements=8),\n",
       " Row(numElements=8)]"
      ]
     },
     "execution_count": 61,
     "metadata": {},
     "output_type": "execute_result"
    }
   ],
   "source": [
    "elementsCountDF.take(10)"
   ]
  },
  {
   "cell_type": "code",
   "execution_count": 70,
   "metadata": {
    "collapsed": true
   },
   "outputs": [],
   "source": [
    "from pyspark import SparkContext, SparkConf"
   ]
  },
  {
   "cell_type": "code",
   "execution_count": 73,
   "metadata": {
    "scrolled": true
   },
   "outputs": [
    {
     "data": {
      "text/plain": [
       "[Column<value>]"
      ]
     },
     "execution_count": 73,
     "metadata": {},
     "output_type": "execute_result"
    }
   ],
   "source": [
    "sorted(year2016csv_filtered_DF)"
   ]
  },
  {
   "cell_type": "code",
   "execution_count": 83,
   "metadata": {
    "collapsed": true
   },
   "outputs": [],
   "source": [
    "def func(s):\n",
    "    words = s.split(\",\")\n",
    "    return words[0]"
   ]
  },
  {
   "cell_type": "code",
   "execution_count": 84,
   "metadata": {},
   "outputs": [
    {
     "data": {
      "text/plain": [
       "Row(value=u'US1NCCR0043,20160101,PRCP,79,,,N,')"
      ]
     },
     "execution_count": 84,
     "metadata": {},
     "output_type": "execute_result"
    }
   ],
   "source": [
    "year2016csv_filtered_DF.first()"
   ]
  },
  {
   "cell_type": "code",
   "execution_count": 82,
   "metadata": {},
   "outputs": [
    {
     "name": "stdout",
     "output_type": "stream",
     "text": [
      "+--------------------+\n",
      "|               value|\n",
      "+--------------------+\n",
      "|US1NCCR0043,20160...|\n",
      "|CA1AB000023,20160...|\n",
      "|US1NCBC0113,20160...|\n",
      "|ASN00015643,20160...|\n",
      "|US1MTMH0019,20160...|\n",
      "|ASN00085296,20160...|\n",
      "|US1MNWR0029,20160...|\n",
      "|ASN00040209,20160...|\n",
      "|ASN00085280,20160...|\n",
      "|US1MNCV0008,20160...|\n",
      "|US1MISW0005,20160...|\n",
      "|US1LAEB0041,20160...|\n",
      "|CA007020860,20160...|\n",
      "|US1KSSG0097,20160...|\n",
      "|US1KSGO0009,20160...|\n",
      "|ASN00009661,20160...|\n",
      "|US1KSEL0074,20160...|\n",
      "|ASN00078001,20160...|\n",
      "|US1INWN0004,20160...|\n",
      "|US1INFL0003,20160...|\n",
      "+--------------------+\n",
      "only showing top 20 rows\n",
      "\n"
     ]
    }
   ],
   "source": [
    "year2016csv_filtered_DF.show()"
   ]
  },
  {
   "cell_type": "code",
   "execution_count": 93,
   "metadata": {
    "collapsed": true
   },
   "outputs": [],
   "source": [
    "year2016csv_filtered_RDD = year2016csv_filtered_DF.rdd\n",
    "#muy importante instruccion para pasar un dataframe a rdd"
   ]
  },
  {
   "cell_type": "code",
   "execution_count": 94,
   "metadata": {},
   "outputs": [
    {
     "data": {
      "text/plain": [
       "[Row(value=u'US1NCCR0043,20160101,PRCP,79,,,N,'),\n",
       " Row(value=u'CA1AB000023,20160101,PRCP,0,,,N,'),\n",
       " Row(value=u'US1NCBC0113,20160101,PRCP,5,,,N,'),\n",
       " Row(value=u'ASN00015643,20160101,PRCP,0,,,a,'),\n",
       " Row(value=u'US1MTMH0019,20160101,PRCP,0,,,N,'),\n",
       " Row(value=u'ASN00085296,20160101,PRCP,0,,,a,'),\n",
       " Row(value=u'US1MNWR0029,20160101,PRCP,0,,,N,'),\n",
       " Row(value=u'ASN00040209,20160101,PRCP,1,,,a,'),\n",
       " Row(value=u'ASN00085280,20160101,PRCP,0,,,a,'),\n",
       " Row(value=u'US1MNCV0008,20160101,PRCP,0,T,,N,')]"
      ]
     },
     "execution_count": 94,
     "metadata": {},
     "output_type": "execute_result"
    }
   ],
   "source": [
    "year2016csv_filtered_RDD.take(10)"
   ]
  },
  {
   "cell_type": "code",
   "execution_count": 95,
   "metadata": {},
   "outputs": [
    {
     "data": {
      "text/plain": [
       "MapPartitionsRDD[261] at javaToPython at NativeMethodAccessorImpl.java:0"
      ]
     },
     "execution_count": 95,
     "metadata": {},
     "output_type": "execute_result"
    }
   ],
   "source": [
    "year2016csv_filtered_RDD"
   ]
  },
  {
   "cell_type": "code",
   "execution_count": 96,
   "metadata": {},
   "outputs": [
    {
     "data": {
      "text/plain": [
       "DataFrame[value: string]"
      ]
     },
     "execution_count": 96,
     "metadata": {},
     "output_type": "execute_result"
    }
   ],
   "source": [
    "year2016csv_filtered_DF"
   ]
  },
  {
   "cell_type": "code",
   "execution_count": 97,
   "metadata": {
    "collapsed": true
   },
   "outputs": [],
   "source": [
    "year2016csv_filtered_RDD.saveAsTextFile(\"/home/utad/spark-2.2.0-bin-hadoop2.7/con01/year2016csv_filtered_RDD\")\n",
    "#ya sabes como grabar como un fichero de texto un RDD"
   ]
  },
  {
   "cell_type": "code",
   "execution_count": 99,
   "metadata": {
    "collapsed": true
   },
   "outputs": [],
   "source": [
    "#comienzas aqui a mirarte sqlProgrammingGuide de Spark"
   ]
  },
  {
   "cell_type": "code",
   "execution_count": 100,
   "metadata": {},
   "outputs": [
    {
     "name": "stdout",
     "output_type": "stream",
     "text": [
      "root\n",
      " |-- value: string (nullable = true)\n",
      "\n"
     ]
    }
   ],
   "source": [
    "year2016csv_filtered_DF.printSchema()"
   ]
  },
  {
   "cell_type": "code",
   "execution_count": 101,
   "metadata": {},
   "outputs": [
    {
     "name": "stdout",
     "output_type": "stream",
     "text": [
      "+--------------------+\n",
      "|               value|\n",
      "+--------------------+\n",
      "|US1NCCR0043,20160...|\n",
      "|CA1AB000023,20160...|\n",
      "|US1NCBC0113,20160...|\n",
      "|ASN00015643,20160...|\n",
      "|US1MTMH0019,20160...|\n",
      "|ASN00085296,20160...|\n",
      "|US1MNWR0029,20160...|\n",
      "|ASN00040209,20160...|\n",
      "|ASN00085280,20160...|\n",
      "|US1MNCV0008,20160...|\n",
      "|US1MISW0005,20160...|\n",
      "|US1LAEB0041,20160...|\n",
      "|CA007020860,20160...|\n",
      "|US1KSSG0097,20160...|\n",
      "|US1KSGO0009,20160...|\n",
      "|ASN00009661,20160...|\n",
      "|US1KSEL0074,20160...|\n",
      "|ASN00078001,20160...|\n",
      "|US1INWN0004,20160...|\n",
      "|US1INFL0003,20160...|\n",
      "+--------------------+\n",
      "only showing top 20 rows\n",
      "\n"
     ]
    }
   ],
   "source": [
    "year2016csv_filtered_DF.show()"
   ]
  },
  {
   "cell_type": "code",
   "execution_count": 102,
   "metadata": {},
   "outputs": [
    {
     "data": {
      "text/plain": [
       "Column<value>"
      ]
     },
     "execution_count": 102,
     "metadata": {},
     "output_type": "execute_result"
    }
   ],
   "source": [
    "year2016csv_filtered_DF.value\n",
    "#para acceder a una columna del dataframe por atributo"
   ]
  },
  {
   "cell_type": "code",
   "execution_count": 103,
   "metadata": {},
   "outputs": [
    {
     "data": {
      "text/plain": [
       "Column<value>"
      ]
     },
     "execution_count": 103,
     "metadata": {},
     "output_type": "execute_result"
    }
   ],
   "source": [
    "year2016csv_filtered_DF['value']"
   ]
  },
  {
   "cell_type": "code",
   "execution_count": 104,
   "metadata": {
    "collapsed": true
   },
   "outputs": [],
   "source": [
    "#para acceder a una columna del dataframe por indexacion"
   ]
  },
  {
   "cell_type": "code",
   "execution_count": 114,
   "metadata": {
    "collapsed": true
   },
   "outputs": [],
   "source": [
    "year2016csv_selectedColumnsRDD = year2016csv_filtered_RDD \\\n",
    "    .map(lambda line: line.split(\",\")) \\\n",
    "    .filter(lambda line: len(line)<=3) \\\n",
    "    .map(lambda line: (line[0],line[1],line[2],line[3]))\n"
   ]
  },
  {
   "cell_type": "code",
   "execution_count": 115,
   "metadata": {},
   "outputs": [
    {
     "data": {
      "text/plain": [
       "PythonRDD[284] at RDD at PythonRDD.scala:48"
      ]
     },
     "execution_count": 115,
     "metadata": {},
     "output_type": "execute_result"
    }
   ],
   "source": [
    "year2016csv_selectedColumnsRDD"
   ]
  },
  {
   "cell_type": "code",
   "execution_count": 116,
   "metadata": {},
   "outputs": [
    {
     "ename": "Py4JJavaError",
     "evalue": "An error occurred while calling z:org.apache.spark.api.python.PythonRDD.runJob.\n: org.apache.spark.SparkException: Job aborted due to stage failure: Task 0 in stage 52.0 failed 1 times, most recent failure: Lost task 0.0 in stage 52.0 (TID 494, localhost, executor driver): org.apache.spark.api.python.PythonException: Traceback (most recent call last):\n  File \"/home/utad/spark-2.2.0-bin-hadoop2.7/python/lib/pyspark.zip/pyspark/worker.py\", line 177, in main\n    process()\n  File \"/home/utad/spark-2.2.0-bin-hadoop2.7/python/lib/pyspark.zip/pyspark/worker.py\", line 172, in process\n    serializer.dump_stream(func(split_index, iterator), outfile)\n  File \"/home/utad/spark-2.2.0-bin-hadoop2.7/python/lib/pyspark.zip/pyspark/serializers.py\", line 268, in dump_stream\n    vs = list(itertools.islice(iterator, batch))\n  File \"/home/utad/spark-2.2.0-bin-hadoop2.7/python/pyspark/rdd.py\", line 1339, in takeUpToNumLeft\n    yield next(iterator)\n  File \"<ipython-input-114-ce5bd5ba2d77>\", line 1, in <lambda>\n  File \"/home/utad/spark-2.2.0-bin-hadoop2.7/python/lib/pyspark.zip/pyspark/sql/types.py\", line 1504, in __getattr__\n    raise AttributeError(item)\nAttributeError: split\n\n\tat org.apache.spark.api.python.PythonRunner$$anon$1.read(PythonRDD.scala:193)\n\tat org.apache.spark.api.python.PythonRunner$$anon$1.<init>(PythonRDD.scala:234)\n\tat org.apache.spark.api.python.PythonRunner.compute(PythonRDD.scala:152)\n\tat org.apache.spark.api.python.PythonRDD.compute(PythonRDD.scala:63)\n\tat org.apache.spark.rdd.RDD.computeOrReadCheckpoint(RDD.scala:323)\n\tat org.apache.spark.rdd.RDD.iterator(RDD.scala:287)\n\tat org.apache.spark.scheduler.ResultTask.runTask(ResultTask.scala:87)\n\tat org.apache.spark.scheduler.Task.run(Task.scala:108)\n\tat org.apache.spark.executor.Executor$TaskRunner.run(Executor.scala:335)\n\tat java.util.concurrent.ThreadPoolExecutor.runWorker(ThreadPoolExecutor.java:1142)\n\tat java.util.concurrent.ThreadPoolExecutor$Worker.run(ThreadPoolExecutor.java:617)\n\tat java.lang.Thread.run(Thread.java:745)\n\nDriver stacktrace:\n\tat org.apache.spark.scheduler.DAGScheduler.org$apache$spark$scheduler$DAGScheduler$$failJobAndIndependentStages(DAGScheduler.scala:1499)\n\tat org.apache.spark.scheduler.DAGScheduler$$anonfun$abortStage$1.apply(DAGScheduler.scala:1487)\n\tat org.apache.spark.scheduler.DAGScheduler$$anonfun$abortStage$1.apply(DAGScheduler.scala:1486)\n\tat scala.collection.mutable.ResizableArray$class.foreach(ResizableArray.scala:59)\n\tat scala.collection.mutable.ArrayBuffer.foreach(ArrayBuffer.scala:48)\n\tat org.apache.spark.scheduler.DAGScheduler.abortStage(DAGScheduler.scala:1486)\n\tat org.apache.spark.scheduler.DAGScheduler$$anonfun$handleTaskSetFailed$1.apply(DAGScheduler.scala:814)\n\tat org.apache.spark.scheduler.DAGScheduler$$anonfun$handleTaskSetFailed$1.apply(DAGScheduler.scala:814)\n\tat scala.Option.foreach(Option.scala:257)\n\tat org.apache.spark.scheduler.DAGScheduler.handleTaskSetFailed(DAGScheduler.scala:814)\n\tat org.apache.spark.scheduler.DAGSchedulerEventProcessLoop.doOnReceive(DAGScheduler.scala:1714)\n\tat org.apache.spark.scheduler.DAGSchedulerEventProcessLoop.onReceive(DAGScheduler.scala:1669)\n\tat org.apache.spark.scheduler.DAGSchedulerEventProcessLoop.onReceive(DAGScheduler.scala:1658)\n\tat org.apache.spark.util.EventLoop$$anon$1.run(EventLoop.scala:48)\n\tat org.apache.spark.scheduler.DAGScheduler.runJob(DAGScheduler.scala:630)\n\tat org.apache.spark.SparkContext.runJob(SparkContext.scala:2022)\n\tat org.apache.spark.SparkContext.runJob(SparkContext.scala:2043)\n\tat org.apache.spark.SparkContext.runJob(SparkContext.scala:2062)\n\tat org.apache.spark.api.python.PythonRDD$.runJob(PythonRDD.scala:446)\n\tat org.apache.spark.api.python.PythonRDD.runJob(PythonRDD.scala)\n\tat sun.reflect.NativeMethodAccessorImpl.invoke0(Native Method)\n\tat sun.reflect.NativeMethodAccessorImpl.invoke(NativeMethodAccessorImpl.java:62)\n\tat sun.reflect.DelegatingMethodAccessorImpl.invoke(DelegatingMethodAccessorImpl.java:43)\n\tat java.lang.reflect.Method.invoke(Method.java:498)\n\tat py4j.reflection.MethodInvoker.invoke(MethodInvoker.java:244)\n\tat py4j.reflection.ReflectionEngine.invoke(ReflectionEngine.java:357)\n\tat py4j.Gateway.invoke(Gateway.java:280)\n\tat py4j.commands.AbstractCommand.invokeMethod(AbstractCommand.java:132)\n\tat py4j.commands.CallCommand.execute(CallCommand.java:79)\n\tat py4j.GatewayConnection.run(GatewayConnection.java:214)\n\tat java.lang.Thread.run(Thread.java:745)\nCaused by: org.apache.spark.api.python.PythonException: Traceback (most recent call last):\n  File \"/home/utad/spark-2.2.0-bin-hadoop2.7/python/lib/pyspark.zip/pyspark/worker.py\", line 177, in main\n    process()\n  File \"/home/utad/spark-2.2.0-bin-hadoop2.7/python/lib/pyspark.zip/pyspark/worker.py\", line 172, in process\n    serializer.dump_stream(func(split_index, iterator), outfile)\n  File \"/home/utad/spark-2.2.0-bin-hadoop2.7/python/lib/pyspark.zip/pyspark/serializers.py\", line 268, in dump_stream\n    vs = list(itertools.islice(iterator, batch))\n  File \"/home/utad/spark-2.2.0-bin-hadoop2.7/python/pyspark/rdd.py\", line 1339, in takeUpToNumLeft\n    yield next(iterator)\n  File \"<ipython-input-114-ce5bd5ba2d77>\", line 1, in <lambda>\n  File \"/home/utad/spark-2.2.0-bin-hadoop2.7/python/lib/pyspark.zip/pyspark/sql/types.py\", line 1504, in __getattr__\n    raise AttributeError(item)\nAttributeError: split\n\n\tat org.apache.spark.api.python.PythonRunner$$anon$1.read(PythonRDD.scala:193)\n\tat org.apache.spark.api.python.PythonRunner$$anon$1.<init>(PythonRDD.scala:234)\n\tat org.apache.spark.api.python.PythonRunner.compute(PythonRDD.scala:152)\n\tat org.apache.spark.api.python.PythonRDD.compute(PythonRDD.scala:63)\n\tat org.apache.spark.rdd.RDD.computeOrReadCheckpoint(RDD.scala:323)\n\tat org.apache.spark.rdd.RDD.iterator(RDD.scala:287)\n\tat org.apache.spark.scheduler.ResultTask.runTask(ResultTask.scala:87)\n\tat org.apache.spark.scheduler.Task.run(Task.scala:108)\n\tat org.apache.spark.executor.Executor$TaskRunner.run(Executor.scala:335)\n\tat java.util.concurrent.ThreadPoolExecutor.runWorker(ThreadPoolExecutor.java:1142)\n\tat java.util.concurrent.ThreadPoolExecutor$Worker.run(ThreadPoolExecutor.java:617)\n\t... 1 more\n",
     "output_type": "error",
     "traceback": [
      "\u001b[0;31m---------------------------------------------------------------------------\u001b[0m",
      "\u001b[0;31mPy4JJavaError\u001b[0m                             Traceback (most recent call last)",
      "\u001b[0;32m<ipython-input-116-6e5bddea5a21>\u001b[0m in \u001b[0;36m<module>\u001b[0;34m()\u001b[0m\n\u001b[0;32m----> 1\u001b[0;31m \u001b[0myear2016csv_selectedColumnsRDD\u001b[0m\u001b[0;34m.\u001b[0m\u001b[0mfirst\u001b[0m\u001b[0;34m(\u001b[0m\u001b[0;34m)\u001b[0m\u001b[0;34m\u001b[0m\u001b[0m\n\u001b[0m",
      "\u001b[0;32m/home/utad/spark-2.2.0-bin-hadoop2.7/python/pyspark/rdd.py\u001b[0m in \u001b[0;36mfirst\u001b[0;34m(self)\u001b[0m\n\u001b[1;32m   1359\u001b[0m         \u001b[0mValueError\u001b[0m\u001b[0;34m:\u001b[0m \u001b[0mRDD\u001b[0m \u001b[0;32mis\u001b[0m \u001b[0mempty\u001b[0m\u001b[0;34m\u001b[0m\u001b[0m\n\u001b[1;32m   1360\u001b[0m         \"\"\"\n\u001b[0;32m-> 1361\u001b[0;31m         \u001b[0mrs\u001b[0m \u001b[0;34m=\u001b[0m \u001b[0mself\u001b[0m\u001b[0;34m.\u001b[0m\u001b[0mtake\u001b[0m\u001b[0;34m(\u001b[0m\u001b[0;36m1\u001b[0m\u001b[0;34m)\u001b[0m\u001b[0;34m\u001b[0m\u001b[0m\n\u001b[0m\u001b[1;32m   1362\u001b[0m         \u001b[0;32mif\u001b[0m \u001b[0mrs\u001b[0m\u001b[0;34m:\u001b[0m\u001b[0;34m\u001b[0m\u001b[0m\n\u001b[1;32m   1363\u001b[0m             \u001b[0;32mreturn\u001b[0m \u001b[0mrs\u001b[0m\u001b[0;34m[\u001b[0m\u001b[0;36m0\u001b[0m\u001b[0;34m]\u001b[0m\u001b[0;34m\u001b[0m\u001b[0m\n",
      "\u001b[0;32m/home/utad/spark-2.2.0-bin-hadoop2.7/python/pyspark/rdd.py\u001b[0m in \u001b[0;36mtake\u001b[0;34m(self, num)\u001b[0m\n\u001b[1;32m   1341\u001b[0m \u001b[0;34m\u001b[0m\u001b[0m\n\u001b[1;32m   1342\u001b[0m             \u001b[0mp\u001b[0m \u001b[0;34m=\u001b[0m \u001b[0mrange\u001b[0m\u001b[0;34m(\u001b[0m\u001b[0mpartsScanned\u001b[0m\u001b[0;34m,\u001b[0m \u001b[0mmin\u001b[0m\u001b[0;34m(\u001b[0m\u001b[0mpartsScanned\u001b[0m \u001b[0;34m+\u001b[0m \u001b[0mnumPartsToTry\u001b[0m\u001b[0;34m,\u001b[0m \u001b[0mtotalParts\u001b[0m\u001b[0;34m)\u001b[0m\u001b[0;34m)\u001b[0m\u001b[0;34m\u001b[0m\u001b[0m\n\u001b[0;32m-> 1343\u001b[0;31m             \u001b[0mres\u001b[0m \u001b[0;34m=\u001b[0m \u001b[0mself\u001b[0m\u001b[0;34m.\u001b[0m\u001b[0mcontext\u001b[0m\u001b[0;34m.\u001b[0m\u001b[0mrunJob\u001b[0m\u001b[0;34m(\u001b[0m\u001b[0mself\u001b[0m\u001b[0;34m,\u001b[0m \u001b[0mtakeUpToNumLeft\u001b[0m\u001b[0;34m,\u001b[0m \u001b[0mp\u001b[0m\u001b[0;34m)\u001b[0m\u001b[0;34m\u001b[0m\u001b[0m\n\u001b[0m\u001b[1;32m   1344\u001b[0m \u001b[0;34m\u001b[0m\u001b[0m\n\u001b[1;32m   1345\u001b[0m             \u001b[0mitems\u001b[0m \u001b[0;34m+=\u001b[0m \u001b[0mres\u001b[0m\u001b[0;34m\u001b[0m\u001b[0m\n",
      "\u001b[0;32m/home/utad/spark-2.2.0-bin-hadoop2.7/python/pyspark/context.py\u001b[0m in \u001b[0;36mrunJob\u001b[0;34m(self, rdd, partitionFunc, partitions, allowLocal)\u001b[0m\n\u001b[1;32m    990\u001b[0m         \u001b[0;31m# SparkContext#runJob.\u001b[0m\u001b[0;34m\u001b[0m\u001b[0;34m\u001b[0m\u001b[0m\n\u001b[1;32m    991\u001b[0m         \u001b[0mmappedRDD\u001b[0m \u001b[0;34m=\u001b[0m \u001b[0mrdd\u001b[0m\u001b[0;34m.\u001b[0m\u001b[0mmapPartitions\u001b[0m\u001b[0;34m(\u001b[0m\u001b[0mpartitionFunc\u001b[0m\u001b[0;34m)\u001b[0m\u001b[0;34m\u001b[0m\u001b[0m\n\u001b[0;32m--> 992\u001b[0;31m         \u001b[0mport\u001b[0m \u001b[0;34m=\u001b[0m \u001b[0mself\u001b[0m\u001b[0;34m.\u001b[0m\u001b[0m_jvm\u001b[0m\u001b[0;34m.\u001b[0m\u001b[0mPythonRDD\u001b[0m\u001b[0;34m.\u001b[0m\u001b[0mrunJob\u001b[0m\u001b[0;34m(\u001b[0m\u001b[0mself\u001b[0m\u001b[0;34m.\u001b[0m\u001b[0m_jsc\u001b[0m\u001b[0;34m.\u001b[0m\u001b[0msc\u001b[0m\u001b[0;34m(\u001b[0m\u001b[0;34m)\u001b[0m\u001b[0;34m,\u001b[0m \u001b[0mmappedRDD\u001b[0m\u001b[0;34m.\u001b[0m\u001b[0m_jrdd\u001b[0m\u001b[0;34m,\u001b[0m \u001b[0mpartitions\u001b[0m\u001b[0;34m)\u001b[0m\u001b[0;34m\u001b[0m\u001b[0m\n\u001b[0m\u001b[1;32m    993\u001b[0m         \u001b[0;32mreturn\u001b[0m \u001b[0mlist\u001b[0m\u001b[0;34m(\u001b[0m\u001b[0m_load_from_socket\u001b[0m\u001b[0;34m(\u001b[0m\u001b[0mport\u001b[0m\u001b[0;34m,\u001b[0m \u001b[0mmappedRDD\u001b[0m\u001b[0;34m.\u001b[0m\u001b[0m_jrdd_deserializer\u001b[0m\u001b[0;34m)\u001b[0m\u001b[0;34m)\u001b[0m\u001b[0;34m\u001b[0m\u001b[0m\n\u001b[1;32m    994\u001b[0m \u001b[0;34m\u001b[0m\u001b[0m\n",
      "\u001b[0;32m/home/utad/spark-2.2.0-bin-hadoop2.7/python/lib/py4j-0.10.4-src.zip/py4j/java_gateway.py\u001b[0m in \u001b[0;36m__call__\u001b[0;34m(self, *args)\u001b[0m\n\u001b[1;32m   1131\u001b[0m         \u001b[0manswer\u001b[0m \u001b[0;34m=\u001b[0m \u001b[0mself\u001b[0m\u001b[0;34m.\u001b[0m\u001b[0mgateway_client\u001b[0m\u001b[0;34m.\u001b[0m\u001b[0msend_command\u001b[0m\u001b[0;34m(\u001b[0m\u001b[0mcommand\u001b[0m\u001b[0;34m)\u001b[0m\u001b[0;34m\u001b[0m\u001b[0m\n\u001b[1;32m   1132\u001b[0m         return_value = get_return_value(\n\u001b[0;32m-> 1133\u001b[0;31m             answer, self.gateway_client, self.target_id, self.name)\n\u001b[0m\u001b[1;32m   1134\u001b[0m \u001b[0;34m\u001b[0m\u001b[0m\n\u001b[1;32m   1135\u001b[0m         \u001b[0;32mfor\u001b[0m \u001b[0mtemp_arg\u001b[0m \u001b[0;32min\u001b[0m \u001b[0mtemp_args\u001b[0m\u001b[0;34m:\u001b[0m\u001b[0;34m\u001b[0m\u001b[0m\n",
      "\u001b[0;32m/home/utad/spark-2.2.0-bin-hadoop2.7/python/pyspark/sql/utils.py\u001b[0m in \u001b[0;36mdeco\u001b[0;34m(*a, **kw)\u001b[0m\n\u001b[1;32m     61\u001b[0m     \u001b[0;32mdef\u001b[0m \u001b[0mdeco\u001b[0m\u001b[0;34m(\u001b[0m\u001b[0;34m*\u001b[0m\u001b[0ma\u001b[0m\u001b[0;34m,\u001b[0m \u001b[0;34m**\u001b[0m\u001b[0mkw\u001b[0m\u001b[0;34m)\u001b[0m\u001b[0;34m:\u001b[0m\u001b[0;34m\u001b[0m\u001b[0m\n\u001b[1;32m     62\u001b[0m         \u001b[0;32mtry\u001b[0m\u001b[0;34m:\u001b[0m\u001b[0;34m\u001b[0m\u001b[0m\n\u001b[0;32m---> 63\u001b[0;31m             \u001b[0;32mreturn\u001b[0m \u001b[0mf\u001b[0m\u001b[0;34m(\u001b[0m\u001b[0;34m*\u001b[0m\u001b[0ma\u001b[0m\u001b[0;34m,\u001b[0m \u001b[0;34m**\u001b[0m\u001b[0mkw\u001b[0m\u001b[0;34m)\u001b[0m\u001b[0;34m\u001b[0m\u001b[0m\n\u001b[0m\u001b[1;32m     64\u001b[0m         \u001b[0;32mexcept\u001b[0m \u001b[0mpy4j\u001b[0m\u001b[0;34m.\u001b[0m\u001b[0mprotocol\u001b[0m\u001b[0;34m.\u001b[0m\u001b[0mPy4JJavaError\u001b[0m \u001b[0;32mas\u001b[0m \u001b[0me\u001b[0m\u001b[0;34m:\u001b[0m\u001b[0;34m\u001b[0m\u001b[0m\n\u001b[1;32m     65\u001b[0m             \u001b[0ms\u001b[0m \u001b[0;34m=\u001b[0m \u001b[0me\u001b[0m\u001b[0;34m.\u001b[0m\u001b[0mjava_exception\u001b[0m\u001b[0;34m.\u001b[0m\u001b[0mtoString\u001b[0m\u001b[0;34m(\u001b[0m\u001b[0;34m)\u001b[0m\u001b[0;34m\u001b[0m\u001b[0m\n",
      "\u001b[0;32m/home/utad/spark-2.2.0-bin-hadoop2.7/python/lib/py4j-0.10.4-src.zip/py4j/protocol.py\u001b[0m in \u001b[0;36mget_return_value\u001b[0;34m(answer, gateway_client, target_id, name)\u001b[0m\n\u001b[1;32m    317\u001b[0m                 raise Py4JJavaError(\n\u001b[1;32m    318\u001b[0m                     \u001b[0;34m\"An error occurred while calling {0}{1}{2}.\\n\"\u001b[0m\u001b[0;34m.\u001b[0m\u001b[0;34m\u001b[0m\u001b[0m\n\u001b[0;32m--> 319\u001b[0;31m                     format(target_id, \".\", name), value)\n\u001b[0m\u001b[1;32m    320\u001b[0m             \u001b[0;32melse\u001b[0m\u001b[0;34m:\u001b[0m\u001b[0;34m\u001b[0m\u001b[0m\n\u001b[1;32m    321\u001b[0m                 raise Py4JError(\n",
      "\u001b[0;31mPy4JJavaError\u001b[0m: An error occurred while calling z:org.apache.spark.api.python.PythonRDD.runJob.\n: org.apache.spark.SparkException: Job aborted due to stage failure: Task 0 in stage 52.0 failed 1 times, most recent failure: Lost task 0.0 in stage 52.0 (TID 494, localhost, executor driver): org.apache.spark.api.python.PythonException: Traceback (most recent call last):\n  File \"/home/utad/spark-2.2.0-bin-hadoop2.7/python/lib/pyspark.zip/pyspark/worker.py\", line 177, in main\n    process()\n  File \"/home/utad/spark-2.2.0-bin-hadoop2.7/python/lib/pyspark.zip/pyspark/worker.py\", line 172, in process\n    serializer.dump_stream(func(split_index, iterator), outfile)\n  File \"/home/utad/spark-2.2.0-bin-hadoop2.7/python/lib/pyspark.zip/pyspark/serializers.py\", line 268, in dump_stream\n    vs = list(itertools.islice(iterator, batch))\n  File \"/home/utad/spark-2.2.0-bin-hadoop2.7/python/pyspark/rdd.py\", line 1339, in takeUpToNumLeft\n    yield next(iterator)\n  File \"<ipython-input-114-ce5bd5ba2d77>\", line 1, in <lambda>\n  File \"/home/utad/spark-2.2.0-bin-hadoop2.7/python/lib/pyspark.zip/pyspark/sql/types.py\", line 1504, in __getattr__\n    raise AttributeError(item)\nAttributeError: split\n\n\tat org.apache.spark.api.python.PythonRunner$$anon$1.read(PythonRDD.scala:193)\n\tat org.apache.spark.api.python.PythonRunner$$anon$1.<init>(PythonRDD.scala:234)\n\tat org.apache.spark.api.python.PythonRunner.compute(PythonRDD.scala:152)\n\tat org.apache.spark.api.python.PythonRDD.compute(PythonRDD.scala:63)\n\tat org.apache.spark.rdd.RDD.computeOrReadCheckpoint(RDD.scala:323)\n\tat org.apache.spark.rdd.RDD.iterator(RDD.scala:287)\n\tat org.apache.spark.scheduler.ResultTask.runTask(ResultTask.scala:87)\n\tat org.apache.spark.scheduler.Task.run(Task.scala:108)\n\tat org.apache.spark.executor.Executor$TaskRunner.run(Executor.scala:335)\n\tat java.util.concurrent.ThreadPoolExecutor.runWorker(ThreadPoolExecutor.java:1142)\n\tat java.util.concurrent.ThreadPoolExecutor$Worker.run(ThreadPoolExecutor.java:617)\n\tat java.lang.Thread.run(Thread.java:745)\n\nDriver stacktrace:\n\tat org.apache.spark.scheduler.DAGScheduler.org$apache$spark$scheduler$DAGScheduler$$failJobAndIndependentStages(DAGScheduler.scala:1499)\n\tat org.apache.spark.scheduler.DAGScheduler$$anonfun$abortStage$1.apply(DAGScheduler.scala:1487)\n\tat org.apache.spark.scheduler.DAGScheduler$$anonfun$abortStage$1.apply(DAGScheduler.scala:1486)\n\tat scala.collection.mutable.ResizableArray$class.foreach(ResizableArray.scala:59)\n\tat scala.collection.mutable.ArrayBuffer.foreach(ArrayBuffer.scala:48)\n\tat org.apache.spark.scheduler.DAGScheduler.abortStage(DAGScheduler.scala:1486)\n\tat org.apache.spark.scheduler.DAGScheduler$$anonfun$handleTaskSetFailed$1.apply(DAGScheduler.scala:814)\n\tat org.apache.spark.scheduler.DAGScheduler$$anonfun$handleTaskSetFailed$1.apply(DAGScheduler.scala:814)\n\tat scala.Option.foreach(Option.scala:257)\n\tat org.apache.spark.scheduler.DAGScheduler.handleTaskSetFailed(DAGScheduler.scala:814)\n\tat org.apache.spark.scheduler.DAGSchedulerEventProcessLoop.doOnReceive(DAGScheduler.scala:1714)\n\tat org.apache.spark.scheduler.DAGSchedulerEventProcessLoop.onReceive(DAGScheduler.scala:1669)\n\tat org.apache.spark.scheduler.DAGSchedulerEventProcessLoop.onReceive(DAGScheduler.scala:1658)\n\tat org.apache.spark.util.EventLoop$$anon$1.run(EventLoop.scala:48)\n\tat org.apache.spark.scheduler.DAGScheduler.runJob(DAGScheduler.scala:630)\n\tat org.apache.spark.SparkContext.runJob(SparkContext.scala:2022)\n\tat org.apache.spark.SparkContext.runJob(SparkContext.scala:2043)\n\tat org.apache.spark.SparkContext.runJob(SparkContext.scala:2062)\n\tat org.apache.spark.api.python.PythonRDD$.runJob(PythonRDD.scala:446)\n\tat org.apache.spark.api.python.PythonRDD.runJob(PythonRDD.scala)\n\tat sun.reflect.NativeMethodAccessorImpl.invoke0(Native Method)\n\tat sun.reflect.NativeMethodAccessorImpl.invoke(NativeMethodAccessorImpl.java:62)\n\tat sun.reflect.DelegatingMethodAccessorImpl.invoke(DelegatingMethodAccessorImpl.java:43)\n\tat java.lang.reflect.Method.invoke(Method.java:498)\n\tat py4j.reflection.MethodInvoker.invoke(MethodInvoker.java:244)\n\tat py4j.reflection.ReflectionEngine.invoke(ReflectionEngine.java:357)\n\tat py4j.Gateway.invoke(Gateway.java:280)\n\tat py4j.commands.AbstractCommand.invokeMethod(AbstractCommand.java:132)\n\tat py4j.commands.CallCommand.execute(CallCommand.java:79)\n\tat py4j.GatewayConnection.run(GatewayConnection.java:214)\n\tat java.lang.Thread.run(Thread.java:745)\nCaused by: org.apache.spark.api.python.PythonException: Traceback (most recent call last):\n  File \"/home/utad/spark-2.2.0-bin-hadoop2.7/python/lib/pyspark.zip/pyspark/worker.py\", line 177, in main\n    process()\n  File \"/home/utad/spark-2.2.0-bin-hadoop2.7/python/lib/pyspark.zip/pyspark/worker.py\", line 172, in process\n    serializer.dump_stream(func(split_index, iterator), outfile)\n  File \"/home/utad/spark-2.2.0-bin-hadoop2.7/python/lib/pyspark.zip/pyspark/serializers.py\", line 268, in dump_stream\n    vs = list(itertools.islice(iterator, batch))\n  File \"/home/utad/spark-2.2.0-bin-hadoop2.7/python/pyspark/rdd.py\", line 1339, in takeUpToNumLeft\n    yield next(iterator)\n  File \"<ipython-input-114-ce5bd5ba2d77>\", line 1, in <lambda>\n  File \"/home/utad/spark-2.2.0-bin-hadoop2.7/python/lib/pyspark.zip/pyspark/sql/types.py\", line 1504, in __getattr__\n    raise AttributeError(item)\nAttributeError: split\n\n\tat org.apache.spark.api.python.PythonRunner$$anon$1.read(PythonRDD.scala:193)\n\tat org.apache.spark.api.python.PythonRunner$$anon$1.<init>(PythonRDD.scala:234)\n\tat org.apache.spark.api.python.PythonRunner.compute(PythonRDD.scala:152)\n\tat org.apache.spark.api.python.PythonRDD.compute(PythonRDD.scala:63)\n\tat org.apache.spark.rdd.RDD.computeOrReadCheckpoint(RDD.scala:323)\n\tat org.apache.spark.rdd.RDD.iterator(RDD.scala:287)\n\tat org.apache.spark.scheduler.ResultTask.runTask(ResultTask.scala:87)\n\tat org.apache.spark.scheduler.Task.run(Task.scala:108)\n\tat org.apache.spark.executor.Executor$TaskRunner.run(Executor.scala:335)\n\tat java.util.concurrent.ThreadPoolExecutor.runWorker(ThreadPoolExecutor.java:1142)\n\tat java.util.concurrent.ThreadPoolExecutor$Worker.run(ThreadPoolExecutor.java:617)\n\t... 1 more\n"
     ]
    }
   ],
   "source": [
    "year2016csv_selectedColumnsRDD.first()"
   ]
  },
  {
   "cell_type": "code",
   "execution_count": 1,
   "metadata": {
    "collapsed": true
   },
   "outputs": [],
   "source": [
    "year2016csvReadAsDF=spark.read.csv(\"/home/utad/spark-2.2.0-bin-hadoop2.7/con01/2016.csv\")\n",
    "#ya sabes leer un csv como dataframe separado por columnas --> 20170813 a partir de aqui ejecutas el notebook"
   ]
  },
  {
   "cell_type": "code",
   "execution_count": 2,
   "metadata": {},
   "outputs": [
    {
     "data": {
      "text/plain": [
       "Row(_c0=u'US1NCCR0043', _c1=u'20160101', _c2=u'PRCP', _c3=u'79', _c4=None, _c5=None, _c6=u'N', _c7=None)"
      ]
     },
     "execution_count": 2,
     "metadata": {},
     "output_type": "execute_result"
    }
   ],
   "source": [
    "year2016csvReadAsDF.first()"
   ]
  },
  {
   "cell_type": "code",
   "execution_count": 3,
   "metadata": {},
   "outputs": [
    {
     "data": {
      "text/plain": [
       "[Row(_c0=u'US1NCCR0043', _c1=u'20160101', _c2=u'PRCP', _c3=u'79', _c4=None, _c5=None, _c6=u'N', _c7=None),\n",
       " Row(_c0=u'CA1AB000023', _c1=u'20160101', _c2=u'PRCP', _c3=u'0', _c4=None, _c5=None, _c6=u'N', _c7=None),\n",
       " Row(_c0=u'CA1AB000023', _c1=u'20160101', _c2=u'SNOW', _c3=u'0', _c4=None, _c5=None, _c6=u'N', _c7=None),\n",
       " Row(_c0=u'CA1AB000023', _c1=u'20160101', _c2=u'SNWD', _c3=u'102', _c4=None, _c5=None, _c6=u'N', _c7=None),\n",
       " Row(_c0=u'US1NCBC0113', _c1=u'20160101', _c2=u'PRCP', _c3=u'5', _c4=None, _c5=None, _c6=u'N', _c7=None),\n",
       " Row(_c0=u'ASN00015643', _c1=u'20160101', _c2=u'TMAX', _c3=u'308', _c4=None, _c5=None, _c6=u'a', _c7=None),\n",
       " Row(_c0=u'ASN00015643', _c1=u'20160101', _c2=u'TMIN', _c3=u'186', _c4=None, _c5=None, _c6=u'a', _c7=None),\n",
       " Row(_c0=u'ASN00015643', _c1=u'20160101', _c2=u'PRCP', _c3=u'0', _c4=None, _c5=None, _c6=u'a', _c7=None),\n",
       " Row(_c0=u'US1MTMH0019', _c1=u'20160101', _c2=u'PRCP', _c3=u'0', _c4=None, _c5=None, _c6=u'N', _c7=None),\n",
       " Row(_c0=u'US1MTMH0019', _c1=u'20160101', _c2=u'SNOW', _c3=u'0', _c4=None, _c5=None, _c6=u'N', _c7=None)]"
      ]
     },
     "execution_count": 3,
     "metadata": {},
     "output_type": "execute_result"
    }
   ],
   "source": [
    "year2016csvReadAsDF.take(10)"
   ]
  },
  {
   "cell_type": "code",
   "execution_count": 4,
   "metadata": {
    "collapsed": true
   },
   "outputs": [],
   "source": [
    "year2016csvReadAsDF_RDD=year2016csvReadAsDF.rdd"
   ]
  },
  {
   "cell_type": "code",
   "execution_count": 5,
   "metadata": {},
   "outputs": [
    {
     "data": {
      "text/plain": [
       "MapPartitionsRDD[17] at javaToPython at NativeMethodAccessorImpl.java:0"
      ]
     },
     "execution_count": 5,
     "metadata": {},
     "output_type": "execute_result"
    }
   ],
   "source": [
    "year2016csvReadAsDF_RDD"
   ]
  },
  {
   "cell_type": "code",
   "execution_count": 6,
   "metadata": {},
   "outputs": [
    {
     "data": {
      "text/plain": [
       "[Row(_c0=u'US1NCCR0043', _c1=u'20160101', _c2=u'PRCP', _c3=u'79', _c4=None, _c5=None, _c6=u'N', _c7=None),\n",
       " Row(_c0=u'CA1AB000023', _c1=u'20160101', _c2=u'PRCP', _c3=u'0', _c4=None, _c5=None, _c6=u'N', _c7=None),\n",
       " Row(_c0=u'CA1AB000023', _c1=u'20160101', _c2=u'SNOW', _c3=u'0', _c4=None, _c5=None, _c6=u'N', _c7=None),\n",
       " Row(_c0=u'CA1AB000023', _c1=u'20160101', _c2=u'SNWD', _c3=u'102', _c4=None, _c5=None, _c6=u'N', _c7=None),\n",
       " Row(_c0=u'US1NCBC0113', _c1=u'20160101', _c2=u'PRCP', _c3=u'5', _c4=None, _c5=None, _c6=u'N', _c7=None),\n",
       " Row(_c0=u'ASN00015643', _c1=u'20160101', _c2=u'TMAX', _c3=u'308', _c4=None, _c5=None, _c6=u'a', _c7=None),\n",
       " Row(_c0=u'ASN00015643', _c1=u'20160101', _c2=u'TMIN', _c3=u'186', _c4=None, _c5=None, _c6=u'a', _c7=None),\n",
       " Row(_c0=u'ASN00015643', _c1=u'20160101', _c2=u'PRCP', _c3=u'0', _c4=None, _c5=None, _c6=u'a', _c7=None),\n",
       " Row(_c0=u'US1MTMH0019', _c1=u'20160101', _c2=u'PRCP', _c3=u'0', _c4=None, _c5=None, _c6=u'N', _c7=None),\n",
       " Row(_c0=u'US1MTMH0019', _c1=u'20160101', _c2=u'SNOW', _c3=u'0', _c4=None, _c5=None, _c6=u'N', _c7=None)]"
      ]
     },
     "execution_count": 6,
     "metadata": {},
     "output_type": "execute_result"
    }
   ],
   "source": [
    "year2016csvReadAsDF_RDD.take(10)"
   ]
  },
  {
   "cell_type": "code",
   "execution_count": 7,
   "metadata": {},
   "outputs": [
    {
     "data": {
      "text/plain": [
       "DataFrame[_c0: string, _c1: string, _c2: string, _c3: string, _c4: string, _c5: string, _c6: string, _c7: string]"
      ]
     },
     "execution_count": 7,
     "metadata": {},
     "output_type": "execute_result"
    }
   ],
   "source": [
    "year2016csvReadAsDF"
   ]
  },
  {
   "cell_type": "code",
   "execution_count": 8,
   "metadata": {},
   "outputs": [
    {
     "ename": "TypeError",
     "evalue": "toDF() takes at most 3 arguments (9 given)",
     "output_type": "error",
     "traceback": [
      "\u001b[0;31m---------------------------------------------------------------------------\u001b[0m",
      "\u001b[0;31mTypeError\u001b[0m                                 Traceback (most recent call last)",
      "\u001b[0;32m<ipython-input-8-35e95966194f>\u001b[0m in \u001b[0;36m<module>\u001b[0;34m()\u001b[0m\n\u001b[0;32m----> 1\u001b[0;31m \u001b[0myear2016csvReadBackAsDF\u001b[0m \u001b[0;34m=\u001b[0m \u001b[0myear2016csvReadAsDF_RDD\u001b[0m\u001b[0;34m.\u001b[0m\u001b[0mtoDF\u001b[0m\u001b[0;34m(\u001b[0m\u001b[0;34m'ID'\u001b[0m\u001b[0;34m,\u001b[0m\u001b[0;34m'DATE'\u001b[0m\u001b[0;34m,\u001b[0m\u001b[0;34m'ELEMENT'\u001b[0m\u001b[0;34m,\u001b[0m\u001b[0;34m'DATA_VALUE'\u001b[0m\u001b[0;34m,\u001b[0m\u001b[0;34m'M-FLAG'\u001b[0m\u001b[0;34m,\u001b[0m\u001b[0;34m'Q-FLAG'\u001b[0m\u001b[0;34m,\u001b[0m\u001b[0;34m'S-FLAG'\u001b[0m\u001b[0;34m,\u001b[0m\u001b[0;34m'OBS-TIME'\u001b[0m\u001b[0;34m)\u001b[0m\u001b[0;34m\u001b[0m\u001b[0m\n\u001b[0m\u001b[1;32m      2\u001b[0m \u001b[0;31m#esto no funciona porque DF toma como mucho 3 argumentos\u001b[0m\u001b[0;34m\u001b[0m\u001b[0;34m\u001b[0m\u001b[0m\n",
      "\u001b[0;31mTypeError\u001b[0m: toDF() takes at most 3 arguments (9 given)"
     ]
    }
   ],
   "source": [
    "year2016csvReadBackAsDF = year2016csvReadAsDF_RDD.toDF('ID','DATE','ELEMENT','DATA_VALUE','M-FLAG','Q-FLAG','S-FLAG','OBS-TIME')\n",
    "#esto no funciona porque DF toma como mucho 3 argumentos"
   ]
  },
  {
   "cell_type": "code",
   "execution_count": 8,
   "metadata": {
    "collapsed": true
   },
   "outputs": [],
   "source": [
    "year2016csvReadAsDF=year2016csvReadAsDF.withColumnRenamed('_c0','ID')"
   ]
  },
  {
   "cell_type": "code",
   "execution_count": 9,
   "metadata": {
    "collapsed": true
   },
   "outputs": [],
   "source": [
    "year2016csvReadAsDF=year2016csvReadAsDF.withColumnRenamed('_c1','DATE')"
   ]
  },
  {
   "cell_type": "code",
   "execution_count": 10,
   "metadata": {
    "collapsed": true
   },
   "outputs": [],
   "source": [
    "year2016csvReadAsDF=year2016csvReadAsDF.withColumnRenamed('_c2','ELEMENT')"
   ]
  },
  {
   "cell_type": "code",
   "execution_count": 11,
   "metadata": {
    "collapsed": true
   },
   "outputs": [],
   "source": [
    "year2016csvReadAsDF=year2016csvReadAsDF.withColumnRenamed('_c3','DATA_VALUE')"
   ]
  },
  {
   "cell_type": "code",
   "execution_count": 12,
   "metadata": {
    "collapsed": true
   },
   "outputs": [],
   "source": [
    "year2016csvReadAsDF=year2016csvReadAsDF.withColumnRenamed('_c4','M-FLAG')"
   ]
  },
  {
   "cell_type": "code",
   "execution_count": 13,
   "metadata": {
    "collapsed": true
   },
   "outputs": [],
   "source": [
    "year2016csvReadAsDF=year2016csvReadAsDF.withColumnRenamed('_c5','Q-FLAG')"
   ]
  },
  {
   "cell_type": "code",
   "execution_count": 14,
   "metadata": {
    "collapsed": true
   },
   "outputs": [],
   "source": [
    "year2016csvReadAsDF=year2016csvReadAsDF.withColumnRenamed('_c6','S-FLAG')"
   ]
  },
  {
   "cell_type": "code",
   "execution_count": 15,
   "metadata": {
    "collapsed": true
   },
   "outputs": [],
   "source": [
    "year2016csvReadAsDF=year2016csvReadAsDF.withColumnRenamed('_c7','OBS-TIME')"
   ]
  },
  {
   "cell_type": "code",
   "execution_count": 16,
   "metadata": {},
   "outputs": [
    {
     "name": "stdout",
     "output_type": "stream",
     "text": [
      "+-----------+--------+-------+----------+------+------+------+--------+\n",
      "|         ID|    DATE|ELEMENT|DATA_VALUE|M-FLAG|Q-FLAG|S-FLAG|OBS-TIME|\n",
      "+-----------+--------+-------+----------+------+------+------+--------+\n",
      "|US1NCCR0043|20160101|   PRCP|        79|  null|  null|     N|    null|\n",
      "|CA1AB000023|20160101|   PRCP|         0|  null|  null|     N|    null|\n",
      "|CA1AB000023|20160101|   SNOW|         0|  null|  null|     N|    null|\n",
      "|CA1AB000023|20160101|   SNWD|       102|  null|  null|     N|    null|\n",
      "|US1NCBC0113|20160101|   PRCP|         5|  null|  null|     N|    null|\n",
      "|ASN00015643|20160101|   TMAX|       308|  null|  null|     a|    null|\n",
      "|ASN00015643|20160101|   TMIN|       186|  null|  null|     a|    null|\n",
      "|ASN00015643|20160101|   PRCP|         0|  null|  null|     a|    null|\n",
      "|US1MTMH0019|20160101|   PRCP|         0|  null|  null|     N|    null|\n",
      "|US1MTMH0019|20160101|   SNOW|         0|  null|  null|     N|    null|\n",
      "|US1MTMH0019|20160101|   SNWD|       165|  null|  null|     N|    null|\n",
      "|US1MTMH0019|20160101|   WESD|       269|  null|  null|     N|    null|\n",
      "|ASN00085296|20160101|   TMAX|       338|  null|  null|     a|    null|\n",
      "|ASN00085296|20160101|   TMIN|       242|  null|  null|     a|    null|\n",
      "|ASN00085296|20160101|   PRCP|         0|  null|  null|     a|    null|\n",
      "|US1MNWR0029|20160101|   PRCP|         0|  null|  null|     N|    null|\n",
      "|ASN00040209|20160101|   TMAX|       285|  null|  null|     a|    null|\n",
      "|ASN00040209|20160101|   TMIN|       218|  null|  null|     a|    null|\n",
      "|ASN00040209|20160101|   PRCP|         1|  null|  null|     a|    null|\n",
      "|ASN00085280|20160101|   TMAX|       347|  null|  null|     a|    null|\n",
      "+-----------+--------+-------+----------+------+------+------+--------+\n",
      "only showing top 20 rows\n",
      "\n"
     ]
    }
   ],
   "source": [
    "year2016csvReadAsDF.show()"
   ]
  },
  {
   "cell_type": "code",
   "execution_count": 17,
   "metadata": {
    "collapsed": true
   },
   "outputs": [],
   "source": [
    "year2016csv_PRCP_DF = year2016csvReadAsDF.filter(year2016csvReadAsDF.ELEMENT.contains(\"PRCP\"))"
   ]
  },
  {
   "cell_type": "code",
   "execution_count": 18,
   "metadata": {},
   "outputs": [
    {
     "name": "stdout",
     "output_type": "stream",
     "text": [
      "+-----------+--------+-------+----------+------+------+------+--------+\n",
      "|         ID|    DATE|ELEMENT|DATA_VALUE|M-FLAG|Q-FLAG|S-FLAG|OBS-TIME|\n",
      "+-----------+--------+-------+----------+------+------+------+--------+\n",
      "|US1NCCR0043|20160101|   PRCP|        79|  null|  null|     N|    null|\n",
      "|CA1AB000023|20160101|   PRCP|         0|  null|  null|     N|    null|\n",
      "|US1NCBC0113|20160101|   PRCP|         5|  null|  null|     N|    null|\n",
      "|ASN00015643|20160101|   PRCP|         0|  null|  null|     a|    null|\n",
      "|US1MTMH0019|20160101|   PRCP|         0|  null|  null|     N|    null|\n",
      "|ASN00085296|20160101|   PRCP|         0|  null|  null|     a|    null|\n",
      "|US1MNWR0029|20160101|   PRCP|         0|  null|  null|     N|    null|\n",
      "|ASN00040209|20160101|   PRCP|         1|  null|  null|     a|    null|\n",
      "|ASN00085280|20160101|   PRCP|         0|  null|  null|     a|    null|\n",
      "|US1MNCV0008|20160101|   PRCP|         0|     T|  null|     N|    null|\n",
      "|US1MISW0005|20160101|   PRCP|         3|  null|  null|     N|    null|\n",
      "|US1LAEB0041|20160101|   PRCP|        64|  null|  null|     N|    null|\n",
      "|CA007020860|20160101|   PRCP|        20|  null|  null|     C|    null|\n",
      "|US1KSSG0097|20160101|   PRCP|         0|  null|  null|     N|    null|\n",
      "|US1KSGO0009|20160101|   PRCP|         0|  null|  null|     N|    null|\n",
      "|ASN00009661|20160101|   PRCP|         0|  null|  null|     a|    null|\n",
      "|US1KSEL0074|20160101|   PRCP|         0|  null|  null|     N|    null|\n",
      "|ASN00078001|20160101|   PRCP|         0|  null|  null|     a|    null|\n",
      "|US1INWN0004|20160101|   PRCP|         0|  null|  null|     N|    null|\n",
      "|US1INFL0003|20160101|   PRCP|         0|  null|  null|     N|    null|\n",
      "+-----------+--------+-------+----------+------+------+------+--------+\n",
      "only showing top 20 rows\n",
      "\n"
     ]
    }
   ],
   "source": [
    "year2016csv_PRCP_DF.show()"
   ]
  },
  {
   "cell_type": "code",
   "execution_count": 19,
   "metadata": {
    "collapsed": true
   },
   "outputs": [],
   "source": [
    "year2016csv_SNOW_DF = year2016csvReadAsDF.filter(year2016csvReadAsDF.ELEMENT.contains(\"SNOW\"))"
   ]
  },
  {
   "cell_type": "code",
   "execution_count": 20,
   "metadata": {},
   "outputs": [
    {
     "name": "stdout",
     "output_type": "stream",
     "text": [
      "+-----------+--------+-------+----------+------+------+------+--------+\n",
      "|         ID|    DATE|ELEMENT|DATA_VALUE|M-FLAG|Q-FLAG|S-FLAG|OBS-TIME|\n",
      "+-----------+--------+-------+----------+------+------+------+--------+\n",
      "|CA1AB000023|20160101|   SNOW|         0|  null|  null|     N|    null|\n",
      "|US1MTMH0019|20160101|   SNOW|         0|  null|  null|     N|    null|\n",
      "|US1MNCV0008|20160101|   SNOW|         0|     T|  null|     N|    null|\n",
      "|US1MISW0005|20160101|   SNOW|         5|  null|  null|     N|    null|\n",
      "|CA007020860|20160101|   SNOW|        20|  null|  null|     C|    null|\n",
      "|US1KSSG0097|20160101|   SNOW|         0|  null|  null|     N|    null|\n",
      "|US1KSGO0009|20160101|   SNOW|         0|  null|  null|     N|    null|\n",
      "|US1INFL0003|20160101|   SNOW|         0|  null|  null|     N|    null|\n",
      "|US1INNW0001|20160101|   SNOW|         0|     T|  null|     N|    null|\n",
      "|US1INKS0032|20160101|   SNOW|         0|     T|  null|     N|    null|\n",
      "|US1INLK0068|20160101|   SNOW|         0|  null|  null|     N|    null|\n",
      "|US1ILMG0006|20160101|   SNOW|         0|  null|  null|     N|    null|\n",
      "|US1ILCK0232|20160101|   SNOW|         0|  null|  null|     N|    null|\n",
      "|CA005023225|20160101|   SNOW|         0|  null|  null|     C|    null|\n",
      "|US1ILCP0081|20160101|   SNOW|         0|  null|  null|     N|    null|\n",
      "|US1IACL0002|20160101|   SNOW|         0|  null|  null|     N|    null|\n",
      "|US1GACS0012|20160101|   SNOW|         0|  null|  null|     N|    null|\n",
      "|US1FLPS0018|20160101|   SNOW|         0|  null|  null|     N|    null|\n",
      "|US1FLPN0055|20160101|   SNOW|         0|  null|  null|     N|    null|\n",
      "|US1FLGC0003|20160101|   SNOW|         0|  null|  null|     N|    null|\n",
      "+-----------+--------+-------+----------+------+------+------+--------+\n",
      "only showing top 20 rows\n",
      "\n"
     ]
    }
   ],
   "source": [
    "year2016csv_SNOW_DF.show()"
   ]
  },
  {
   "cell_type": "code",
   "execution_count": 21,
   "metadata": {
    "collapsed": true
   },
   "outputs": [],
   "source": [
    "year2016csv_SNWD_DF = year2016csvReadAsDF.filter(year2016csvReadAsDF.ELEMENT.contains(\"SNWD\"))"
   ]
  },
  {
   "cell_type": "code",
   "execution_count": 22,
   "metadata": {},
   "outputs": [
    {
     "name": "stdout",
     "output_type": "stream",
     "text": [
      "+-----------+--------+-------+----------+------+------+------+--------+\n",
      "|         ID|    DATE|ELEMENT|DATA_VALUE|M-FLAG|Q-FLAG|S-FLAG|OBS-TIME|\n",
      "+-----------+--------+-------+----------+------+------+------+--------+\n",
      "|CA1AB000023|20160101|   SNWD|       102|  null|  null|     N|    null|\n",
      "|US1MTMH0019|20160101|   SNWD|       165|  null|  null|     N|    null|\n",
      "|US1MNCV0008|20160101|   SNWD|       127|  null|  null|     N|    null|\n",
      "|US1MISW0005|20160101|   SNWD|        13|  null|  null|     N|    null|\n",
      "|CA007020860|20160101|   SNWD|       250|  null|  null|     C|    null|\n",
      "|US1INFL0003|20160101|   SNWD|         0|  null|  null|     N|    null|\n",
      "|US1INNW0001|20160101|   SNWD|         0|     T|  null|     N|    null|\n",
      "|US1INKS0032|20160101|   SNWD|         0|  null|  null|     N|    null|\n",
      "|US1INLK0068|20160101|   SNWD|        64|  null|  null|     N|    null|\n",
      "|US1ILCK0232|20160101|   SNWD|        25|  null|  null|     N|    null|\n",
      "|CA005023225|20160101|   SNWD|       260|  null|  null|     C|    null|\n",
      "|US1ILCP0081|20160101|   SNWD|         0|  null|  null|     N|    null|\n",
      "|US1IACL0002|20160101|   SNWD|       142|  null|  null|     N|    null|\n",
      "|CA003031094|20160101|   SNWD|       110|  null|  null|     C|    null|\n",
      "|US1COEP0343|20160101|   SNWD|         0|     T|  null|     N|    null|\n",
      "|US1COEP0061|20160101|   SNWD|        25|  null|  null|     N|    null|\n",
      "|US1COEP0202|20160101|   SNWD|         0|  null|  null|     N|    null|\n",
      "|CA001168204|20160101|   SNWD|      1310|  null|  null|     C|    null|\n",
      "|USW00024229|20160101|   SNWD|         0|  null|  null|     H|    null|\n",
      "|USW00024061|20160101|   SNWD|         0|     T|  null|     W|    null|\n",
      "+-----------+--------+-------+----------+------+------+------+--------+\n",
      "only showing top 20 rows\n",
      "\n"
     ]
    }
   ],
   "source": [
    "year2016csv_SNWD_DF.show()"
   ]
  },
  {
   "cell_type": "code",
   "execution_count": 23,
   "metadata": {
    "collapsed": true
   },
   "outputs": [],
   "source": [
    "year2016csv_TMAX_DF = year2016csvReadAsDF.filter(year2016csvReadAsDF.ELEMENT.contains(\"TMAX\"))"
   ]
  },
  {
   "cell_type": "code",
   "execution_count": 24,
   "metadata": {},
   "outputs": [
    {
     "name": "stdout",
     "output_type": "stream",
     "text": [
      "+-----------+--------+-------+----------+------+------+------+--------+\n",
      "|         ID|    DATE|ELEMENT|DATA_VALUE|M-FLAG|Q-FLAG|S-FLAG|OBS-TIME|\n",
      "+-----------+--------+-------+----------+------+------+------+--------+\n",
      "|ASN00015643|20160101|   TMAX|       308|  null|  null|     a|    null|\n",
      "|ASN00085296|20160101|   TMAX|       338|  null|  null|     a|    null|\n",
      "|ASN00040209|20160101|   TMAX|       285|  null|  null|     a|    null|\n",
      "|ASN00085280|20160101|   TMAX|       347|  null|  null|     a|    null|\n",
      "|CA007020860|20160101|   TMAX|       -10|  null|  null|     C|    null|\n",
      "|CA005030984|20160101|   TMAX|       -47|  null|  null|     C|    null|\n",
      "|CA003072151|20160101|   TMAX|        14|  null|  null|     C|    null|\n",
      "|CA003031094|20160101|   TMAX|         4|  null|  null|     C|    null|\n",
      "|ASN00068151|20160101|   TMAX|       244|  null|  null|     a|    null|\n",
      "|ARM00087582|20160101|   TMAX|       285|  null|  null|     S|    null|\n",
      "|CA002201903|20160101|   TMAX|       -73|  null|  null|     C|    null|\n",
      "|CA001168204|20160101|   TMAX|        25|  null|  null|     C|    null|\n",
      "|UVM00065518|20160101|   TMAX|       320|  null|  null|     S|    null|\n",
      "|USW00094626|20160101|   TMAX|         0|  null|  null|     W|    null|\n",
      "|USW00024229|20160101|   TMAX|        28|  null|  null|     W|    2400|\n",
      "|USW00024061|20160101|   TMAX|       -71|  null|  null|     W|    null|\n",
      "|USW00012876|20160101|   TMAX|       283|  null|  null|     W|    null|\n",
      "|CA001107010|20160101|   TMAX|        38|  null|  null|     C|    null|\n",
      "|USW00014719|20160101|   TMAX|        72|  null|  null|     W|    null|\n",
      "|USW00003967|20160101|   TMAX|        33|  null|  null|     W|    null|\n",
      "+-----------+--------+-------+----------+------+------+------+--------+\n",
      "only showing top 20 rows\n",
      "\n"
     ]
    }
   ],
   "source": [
    "year2016csv_TMAX_DF.show()"
   ]
  },
  {
   "cell_type": "code",
   "execution_count": 25,
   "metadata": {
    "collapsed": true
   },
   "outputs": [],
   "source": [
    "year2016csv_TMIN_DF = year2016csvReadAsDF.filter(year2016csvReadAsDF.ELEMENT.contains(\"TMIN\"))"
   ]
  },
  {
   "cell_type": "code",
   "execution_count": 26,
   "metadata": {},
   "outputs": [
    {
     "name": "stdout",
     "output_type": "stream",
     "text": [
      "+-----------+--------+-------+----------+------+------+------+--------+\n",
      "|         ID|    DATE|ELEMENT|DATA_VALUE|M-FLAG|Q-FLAG|S-FLAG|OBS-TIME|\n",
      "+-----------+--------+-------+----------+------+------+------+--------+\n",
      "|ASN00015643|20160101|   TMIN|       186|  null|  null|     a|    null|\n",
      "|ASN00085296|20160101|   TMIN|       242|  null|  null|     a|    null|\n",
      "|ASN00040209|20160101|   TMIN|       218|  null|  null|     a|    null|\n",
      "|ASN00085280|20160101|   TMIN|       159|  null|  null|     a|    null|\n",
      "|CA007020860|20160101|   TMIN|       -50|  null|  null|     C|    null|\n",
      "|CA005030984|20160101|   TMIN|       -85|  null|  null|     C|    null|\n",
      "|CA003076680|20160101|   TMIN|      -154|  null|  null|     C|    null|\n",
      "|CA003072151|20160101|   TMIN|      -105|  null|  null|     C|    null|\n",
      "|CA003031094|20160101|   TMIN|      -129|  null|  null|     C|    null|\n",
      "|ASN00068151|20160101|   TMIN|       176|  null|  null|     a|    null|\n",
      "|CA002201903|20160101|   TMIN|      -124|  null|  null|     C|    null|\n",
      "|CA001168204|20160101|   TMIN|      -135|  null|  null|     C|    null|\n",
      "|UVM00065518|20160101|   TMIN|       168|  null|  null|     S|    null|\n",
      "|USW00094626|20160101|   TMIN|       -43|  null|  null|     W|    null|\n",
      "|USW00024229|20160101|   TMIN|        -5|  null|  null|     W|    2400|\n",
      "|USW00024061|20160101|   TMIN|      -199|  null|  null|     W|    null|\n",
      "|USW00012876|20160101|   TMIN|       200|  null|  null|     W|    null|\n",
      "|CA001107010|20160101|   TMIN|        -6|  null|  null|     C|    null|\n",
      "|USW00014719|20160101|   TMIN|       -27|  null|  null|     W|    null|\n",
      "|USW00003967|20160101|   TMIN|       -60|  null|  null|     W|    null|\n",
      "+-----------+--------+-------+----------+------+------+------+--------+\n",
      "only showing top 20 rows\n",
      "\n"
     ]
    }
   ],
   "source": [
    "year2016csv_TMIN_DF.show()"
   ]
  },
  {
   "cell_type": "code",
   "execution_count": 27,
   "metadata": {
    "collapsed": true
   },
   "outputs": [],
   "source": [
    "year2016csv_filtered_DF = year2016csv_PRCP_DF.union(year2016csv_SNOW_DF)"
   ]
  },
  {
   "cell_type": "code",
   "execution_count": 28,
   "metadata": {
    "collapsed": true
   },
   "outputs": [],
   "source": [
    "year2016csv_filtered_DF = year2016csv_filtered_DF.union(year2016csv_SNWD_DF)"
   ]
  },
  {
   "cell_type": "code",
   "execution_count": 29,
   "metadata": {
    "collapsed": true
   },
   "outputs": [],
   "source": [
    "year2016csv_filtered_DF = year2016csv_filtered_DF.union(year2016csv_TMAX_DF)"
   ]
  },
  {
   "cell_type": "code",
   "execution_count": 30,
   "metadata": {
    "collapsed": true
   },
   "outputs": [],
   "source": [
    "year2016csv_filtered_DF = year2016csv_filtered_DF.union(year2016csv_TMIN_DF)"
   ]
  },
  {
   "cell_type": "code",
   "execution_count": 31,
   "metadata": {},
   "outputs": [
    {
     "data": {
      "text/plain": [
       "26185832"
      ]
     },
     "execution_count": 31,
     "metadata": {},
     "output_type": "execute_result"
    }
   ],
   "source": [
    "year2016csv_filtered_DF.count()"
   ]
  },
  {
   "cell_type": "code",
   "execution_count": 32,
   "metadata": {},
   "outputs": [
    {
     "name": "stdout",
     "output_type": "stream",
     "text": [
      "+-----------+--------+-------+----------+------+------+------+--------+\n",
      "|         ID|    DATE|ELEMENT|DATA_VALUE|M-FLAG|Q-FLAG|S-FLAG|OBS-TIME|\n",
      "+-----------+--------+-------+----------+------+------+------+--------+\n",
      "|US1NCCR0043|20160101|   PRCP|        79|  null|  null|     N|    null|\n",
      "|CA1AB000023|20160101|   PRCP|         0|  null|  null|     N|    null|\n",
      "|US1NCBC0113|20160101|   PRCP|         5|  null|  null|     N|    null|\n",
      "|ASN00015643|20160101|   PRCP|         0|  null|  null|     a|    null|\n",
      "|US1MTMH0019|20160101|   PRCP|         0|  null|  null|     N|    null|\n",
      "|ASN00085296|20160101|   PRCP|         0|  null|  null|     a|    null|\n",
      "|US1MNWR0029|20160101|   PRCP|         0|  null|  null|     N|    null|\n",
      "|ASN00040209|20160101|   PRCP|         1|  null|  null|     a|    null|\n",
      "|ASN00085280|20160101|   PRCP|         0|  null|  null|     a|    null|\n",
      "|US1MNCV0008|20160101|   PRCP|         0|     T|  null|     N|    null|\n",
      "|US1MISW0005|20160101|   PRCP|         3|  null|  null|     N|    null|\n",
      "|US1LAEB0041|20160101|   PRCP|        64|  null|  null|     N|    null|\n",
      "|CA007020860|20160101|   PRCP|        20|  null|  null|     C|    null|\n",
      "|US1KSSG0097|20160101|   PRCP|         0|  null|  null|     N|    null|\n",
      "|US1KSGO0009|20160101|   PRCP|         0|  null|  null|     N|    null|\n",
      "|ASN00009661|20160101|   PRCP|         0|  null|  null|     a|    null|\n",
      "|US1KSEL0074|20160101|   PRCP|         0|  null|  null|     N|    null|\n",
      "|ASN00078001|20160101|   PRCP|         0|  null|  null|     a|    null|\n",
      "|US1INWN0004|20160101|   PRCP|         0|  null|  null|     N|    null|\n",
      "|US1INFL0003|20160101|   PRCP|         0|  null|  null|     N|    null|\n",
      "+-----------+--------+-------+----------+------+------+------+--------+\n",
      "only showing top 20 rows\n",
      "\n"
     ]
    }
   ],
   "source": [
    "year2016csv_filtered_DF.show()"
   ]
  },
  {
   "cell_type": "code",
   "execution_count": 33,
   "metadata": {},
   "outputs": [
    {
     "name": "stdout",
     "output_type": "stream",
     "text": [
      "root\n",
      " |-- ID: string (nullable = true)\n",
      " |-- DATE: string (nullable = true)\n",
      " |-- ELEMENT: string (nullable = true)\n",
      " |-- DATA_VALUE: string (nullable = true)\n",
      " |-- M-FLAG: string (nullable = true)\n",
      " |-- Q-FLAG: string (nullable = true)\n",
      " |-- S-FLAG: string (nullable = true)\n",
      " |-- OBS-TIME: string (nullable = true)\n",
      "\n"
     ]
    }
   ],
   "source": [
    "year2016csv_filtered_DF.printSchema()"
   ]
  },
  {
   "cell_type": "code",
   "execution_count": 34,
   "metadata": {
    "collapsed": true
   },
   "outputs": [],
   "source": [
    "year2016csv_filtered_RDD=year2016csv_filtered_DF.rdd"
   ]
  },
  {
   "cell_type": "code",
   "execution_count": 35,
   "metadata": {},
   "outputs": [
    {
     "data": {
      "text/plain": [
       "MapPartitionsRDD[77] at javaToPython at NativeMethodAccessorImpl.java:0"
      ]
     },
     "execution_count": 35,
     "metadata": {},
     "output_type": "execute_result"
    }
   ],
   "source": [
    "year2016csv_filtered_RDD"
   ]
  },
  {
   "cell_type": "code",
   "execution_count": 36,
   "metadata": {},
   "outputs": [
    {
     "data": {
      "text/plain": [
       "[Row(ID=u'US1NCCR0043', DATE=u'20160101', ELEMENT=u'PRCP', DATA_VALUE=u'79', M-FLAG=None, Q-FLAG=None, S-FLAG=u'N', OBS-TIME=None),\n",
       " Row(ID=u'CA1AB000023', DATE=u'20160101', ELEMENT=u'PRCP', DATA_VALUE=u'0', M-FLAG=None, Q-FLAG=None, S-FLAG=u'N', OBS-TIME=None),\n",
       " Row(ID=u'US1NCBC0113', DATE=u'20160101', ELEMENT=u'PRCP', DATA_VALUE=u'5', M-FLAG=None, Q-FLAG=None, S-FLAG=u'N', OBS-TIME=None),\n",
       " Row(ID=u'ASN00015643', DATE=u'20160101', ELEMENT=u'PRCP', DATA_VALUE=u'0', M-FLAG=None, Q-FLAG=None, S-FLAG=u'a', OBS-TIME=None),\n",
       " Row(ID=u'US1MTMH0019', DATE=u'20160101', ELEMENT=u'PRCP', DATA_VALUE=u'0', M-FLAG=None, Q-FLAG=None, S-FLAG=u'N', OBS-TIME=None),\n",
       " Row(ID=u'ASN00085296', DATE=u'20160101', ELEMENT=u'PRCP', DATA_VALUE=u'0', M-FLAG=None, Q-FLAG=None, S-FLAG=u'a', OBS-TIME=None),\n",
       " Row(ID=u'US1MNWR0029', DATE=u'20160101', ELEMENT=u'PRCP', DATA_VALUE=u'0', M-FLAG=None, Q-FLAG=None, S-FLAG=u'N', OBS-TIME=None),\n",
       " Row(ID=u'ASN00040209', DATE=u'20160101', ELEMENT=u'PRCP', DATA_VALUE=u'1', M-FLAG=None, Q-FLAG=None, S-FLAG=u'a', OBS-TIME=None),\n",
       " Row(ID=u'ASN00085280', DATE=u'20160101', ELEMENT=u'PRCP', DATA_VALUE=u'0', M-FLAG=None, Q-FLAG=None, S-FLAG=u'a', OBS-TIME=None),\n",
       " Row(ID=u'US1MNCV0008', DATE=u'20160101', ELEMENT=u'PRCP', DATA_VALUE=u'0', M-FLAG=u'T', Q-FLAG=None, S-FLAG=u'N', OBS-TIME=None),\n",
       " Row(ID=u'US1MISW0005', DATE=u'20160101', ELEMENT=u'PRCP', DATA_VALUE=u'3', M-FLAG=None, Q-FLAG=None, S-FLAG=u'N', OBS-TIME=None),\n",
       " Row(ID=u'US1LAEB0041', DATE=u'20160101', ELEMENT=u'PRCP', DATA_VALUE=u'64', M-FLAG=None, Q-FLAG=None, S-FLAG=u'N', OBS-TIME=None),\n",
       " Row(ID=u'CA007020860', DATE=u'20160101', ELEMENT=u'PRCP', DATA_VALUE=u'20', M-FLAG=None, Q-FLAG=None, S-FLAG=u'C', OBS-TIME=None),\n",
       " Row(ID=u'US1KSSG0097', DATE=u'20160101', ELEMENT=u'PRCP', DATA_VALUE=u'0', M-FLAG=None, Q-FLAG=None, S-FLAG=u'N', OBS-TIME=None),\n",
       " Row(ID=u'US1KSGO0009', DATE=u'20160101', ELEMENT=u'PRCP', DATA_VALUE=u'0', M-FLAG=None, Q-FLAG=None, S-FLAG=u'N', OBS-TIME=None),\n",
       " Row(ID=u'ASN00009661', DATE=u'20160101', ELEMENT=u'PRCP', DATA_VALUE=u'0', M-FLAG=None, Q-FLAG=None, S-FLAG=u'a', OBS-TIME=None),\n",
       " Row(ID=u'US1KSEL0074', DATE=u'20160101', ELEMENT=u'PRCP', DATA_VALUE=u'0', M-FLAG=None, Q-FLAG=None, S-FLAG=u'N', OBS-TIME=None),\n",
       " Row(ID=u'ASN00078001', DATE=u'20160101', ELEMENT=u'PRCP', DATA_VALUE=u'0', M-FLAG=None, Q-FLAG=None, S-FLAG=u'a', OBS-TIME=None),\n",
       " Row(ID=u'US1INWN0004', DATE=u'20160101', ELEMENT=u'PRCP', DATA_VALUE=u'0', M-FLAG=None, Q-FLAG=None, S-FLAG=u'N', OBS-TIME=None),\n",
       " Row(ID=u'US1INFL0003', DATE=u'20160101', ELEMENT=u'PRCP', DATA_VALUE=u'0', M-FLAG=None, Q-FLAG=None, S-FLAG=u'N', OBS-TIME=None)]"
      ]
     },
     "execution_count": 36,
     "metadata": {},
     "output_type": "execute_result"
    }
   ],
   "source": [
    "year2016csv_filtered_RDD.take(20)"
   ]
  },
  {
   "cell_type": "code",
   "execution_count": 46,
   "metadata": {
    "collapsed": true
   },
   "outputs": [],
   "source": [
    "year2016csv_filtered_RDD.saveAsTextFile(\"/home/utad/spark-2.2.0-bin-hadoop2.7/con01/year2016csv_filtered_RDD\")"
   ]
  },
  {
   "cell_type": "code",
   "execution_count": 37,
   "metadata": {
    "collapsed": true
   },
   "outputs": [],
   "source": [
    "pruebaRDD = year2016csv_filtered_RDD.map(lambda s: s[:4])"
   ]
  },
  {
   "cell_type": "code",
   "execution_count": 38,
   "metadata": {},
   "outputs": [
    {
     "data": {
      "text/plain": [
       "PythonRDD[79] at RDD at PythonRDD.scala:48"
      ]
     },
     "execution_count": 38,
     "metadata": {},
     "output_type": "execute_result"
    }
   ],
   "source": [
    "pruebaRDD"
   ]
  },
  {
   "cell_type": "code",
   "execution_count": 39,
   "metadata": {},
   "outputs": [
    {
     "data": {
      "text/plain": [
       "[(u'US1NCCR0043', u'20160101', u'PRCP', u'79'),\n",
       " (u'CA1AB000023', u'20160101', u'PRCP', u'0'),\n",
       " (u'US1NCBC0113', u'20160101', u'PRCP', u'5'),\n",
       " (u'ASN00015643', u'20160101', u'PRCP', u'0'),\n",
       " (u'US1MTMH0019', u'20160101', u'PRCP', u'0'),\n",
       " (u'ASN00085296', u'20160101', u'PRCP', u'0'),\n",
       " (u'US1MNWR0029', u'20160101', u'PRCP', u'0'),\n",
       " (u'ASN00040209', u'20160101', u'PRCP', u'1'),\n",
       " (u'ASN00085280', u'20160101', u'PRCP', u'0'),\n",
       " (u'US1MNCV0008', u'20160101', u'PRCP', u'0'),\n",
       " (u'US1MISW0005', u'20160101', u'PRCP', u'3'),\n",
       " (u'US1LAEB0041', u'20160101', u'PRCP', u'64'),\n",
       " (u'CA007020860', u'20160101', u'PRCP', u'20'),\n",
       " (u'US1KSSG0097', u'20160101', u'PRCP', u'0'),\n",
       " (u'US1KSGO0009', u'20160101', u'PRCP', u'0'),\n",
       " (u'ASN00009661', u'20160101', u'PRCP', u'0'),\n",
       " (u'US1KSEL0074', u'20160101', u'PRCP', u'0'),\n",
       " (u'ASN00078001', u'20160101', u'PRCP', u'0'),\n",
       " (u'US1INWN0004', u'20160101', u'PRCP', u'0'),\n",
       " (u'US1INFL0003', u'20160101', u'PRCP', u'0')]"
      ]
     },
     "execution_count": 39,
     "metadata": {},
     "output_type": "execute_result"
    }
   ],
   "source": [
    "pruebaRDD.take(20)"
   ]
  },
  {
   "cell_type": "code",
   "execution_count": 40,
   "metadata": {
    "collapsed": true
   },
   "outputs": [],
   "source": [
    "pruebaDF = pruebaRDD.toDF(['ID','DATE','ELEMENT','DATA_VALUE'])"
   ]
  },
  {
   "cell_type": "code",
   "execution_count": 41,
   "metadata": {},
   "outputs": [
    {
     "data": {
      "text/plain": [
       "DataFrame[ID: string, DATE: string, ELEMENT: string, DATA_VALUE: string]"
      ]
     },
     "execution_count": 41,
     "metadata": {},
     "output_type": "execute_result"
    }
   ],
   "source": [
    "pruebaDF"
   ]
  },
  {
   "cell_type": "code",
   "execution_count": 42,
   "metadata": {},
   "outputs": [
    {
     "name": "stdout",
     "output_type": "stream",
     "text": [
      "+-----------+--------+-------+----------+\n",
      "|         ID|    DATE|ELEMENT|DATA_VALUE|\n",
      "+-----------+--------+-------+----------+\n",
      "|US1NCCR0043|20160101|   PRCP|        79|\n",
      "|CA1AB000023|20160101|   PRCP|         0|\n",
      "|US1NCBC0113|20160101|   PRCP|         5|\n",
      "|ASN00015643|20160101|   PRCP|         0|\n",
      "|US1MTMH0019|20160101|   PRCP|         0|\n",
      "|ASN00085296|20160101|   PRCP|         0|\n",
      "|US1MNWR0029|20160101|   PRCP|         0|\n",
      "|ASN00040209|20160101|   PRCP|         1|\n",
      "|ASN00085280|20160101|   PRCP|         0|\n",
      "|US1MNCV0008|20160101|   PRCP|         0|\n",
      "|US1MISW0005|20160101|   PRCP|         3|\n",
      "|US1LAEB0041|20160101|   PRCP|        64|\n",
      "|CA007020860|20160101|   PRCP|        20|\n",
      "|US1KSSG0097|20160101|   PRCP|         0|\n",
      "|US1KSGO0009|20160101|   PRCP|         0|\n",
      "|ASN00009661|20160101|   PRCP|         0|\n",
      "|US1KSEL0074|20160101|   PRCP|         0|\n",
      "|ASN00078001|20160101|   PRCP|         0|\n",
      "|US1INWN0004|20160101|   PRCP|         0|\n",
      "|US1INFL0003|20160101|   PRCP|         0|\n",
      "+-----------+--------+-------+----------+\n",
      "only showing top 20 rows\n",
      "\n"
     ]
    }
   ],
   "source": [
    "pruebaDF.show()"
   ]
  },
  {
   "cell_type": "code",
   "execution_count": 43,
   "metadata": {},
   "outputs": [
    {
     "name": "stdout",
     "output_type": "stream",
     "text": [
      "root\n",
      " |-- ID: string (nullable = true)\n",
      " |-- DATE: string (nullable = true)\n",
      " |-- ELEMENT: string (nullable = true)\n",
      " |-- DATA_VALUE: string (nullable = true)\n",
      "\n"
     ]
    }
   ],
   "source": [
    "pruebaDF.printSchema()"
   ]
  },
  {
   "cell_type": "code",
   "execution_count": 44,
   "metadata": {},
   "outputs": [
    {
     "data": {
      "text/plain": [
       "[Row(ID=u'US1NCCR0043', DATE=u'20160101', ELEMENT=u'PRCP', DATA_VALUE=u'79', M-FLAG=None, Q-FLAG=None, S-FLAG=u'N', OBS-TIME=None),\n",
       " Row(ID=u'CA1AB000023', DATE=u'20160101', ELEMENT=u'PRCP', DATA_VALUE=u'0', M-FLAG=None, Q-FLAG=None, S-FLAG=u'N', OBS-TIME=None),\n",
       " Row(ID=u'US1NCBC0113', DATE=u'20160101', ELEMENT=u'PRCP', DATA_VALUE=u'5', M-FLAG=None, Q-FLAG=None, S-FLAG=u'N', OBS-TIME=None),\n",
       " Row(ID=u'ASN00015643', DATE=u'20160101', ELEMENT=u'PRCP', DATA_VALUE=u'0', M-FLAG=None, Q-FLAG=None, S-FLAG=u'a', OBS-TIME=None),\n",
       " Row(ID=u'US1MTMH0019', DATE=u'20160101', ELEMENT=u'PRCP', DATA_VALUE=u'0', M-FLAG=None, Q-FLAG=None, S-FLAG=u'N', OBS-TIME=None),\n",
       " Row(ID=u'ASN00085296', DATE=u'20160101', ELEMENT=u'PRCP', DATA_VALUE=u'0', M-FLAG=None, Q-FLAG=None, S-FLAG=u'a', OBS-TIME=None),\n",
       " Row(ID=u'US1MNWR0029', DATE=u'20160101', ELEMENT=u'PRCP', DATA_VALUE=u'0', M-FLAG=None, Q-FLAG=None, S-FLAG=u'N', OBS-TIME=None),\n",
       " Row(ID=u'ASN00040209', DATE=u'20160101', ELEMENT=u'PRCP', DATA_VALUE=u'1', M-FLAG=None, Q-FLAG=None, S-FLAG=u'a', OBS-TIME=None),\n",
       " Row(ID=u'ASN00085280', DATE=u'20160101', ELEMENT=u'PRCP', DATA_VALUE=u'0', M-FLAG=None, Q-FLAG=None, S-FLAG=u'a', OBS-TIME=None),\n",
       " Row(ID=u'US1MNCV0008', DATE=u'20160101', ELEMENT=u'PRCP', DATA_VALUE=u'0', M-FLAG=u'T', Q-FLAG=None, S-FLAG=u'N', OBS-TIME=None)]"
      ]
     },
     "execution_count": 44,
     "metadata": {},
     "output_type": "execute_result"
    }
   ],
   "source": [
    "year2016csv_filtered_RDD.take(10)"
   ]
  },
  {
   "cell_type": "code",
   "execution_count": 45,
   "metadata": {},
   "outputs": [
    {
     "data": {
      "text/plain": [
       "MapPartitionsRDD[77] at javaToPython at NativeMethodAccessorImpl.java:0"
      ]
     },
     "execution_count": 45,
     "metadata": {},
     "output_type": "execute_result"
    }
   ],
   "source": [
    "year2016csv_filtered_RDD.unpersist()"
   ]
  },
  {
   "cell_type": "code",
   "execution_count": 46,
   "metadata": {},
   "outputs": [
    {
     "data": {
      "text/plain": [
       "[Row(ID=u'US1NCCR0043', DATE=u'20160101', ELEMENT=u'PRCP', DATA_VALUE=u'79', M-FLAG=None, Q-FLAG=None, S-FLAG=u'N', OBS-TIME=None),\n",
       " Row(ID=u'CA1AB000023', DATE=u'20160101', ELEMENT=u'PRCP', DATA_VALUE=u'0', M-FLAG=None, Q-FLAG=None, S-FLAG=u'N', OBS-TIME=None),\n",
       " Row(ID=u'US1NCBC0113', DATE=u'20160101', ELEMENT=u'PRCP', DATA_VALUE=u'5', M-FLAG=None, Q-FLAG=None, S-FLAG=u'N', OBS-TIME=None),\n",
       " Row(ID=u'ASN00015643', DATE=u'20160101', ELEMENT=u'PRCP', DATA_VALUE=u'0', M-FLAG=None, Q-FLAG=None, S-FLAG=u'a', OBS-TIME=None),\n",
       " Row(ID=u'US1MTMH0019', DATE=u'20160101', ELEMENT=u'PRCP', DATA_VALUE=u'0', M-FLAG=None, Q-FLAG=None, S-FLAG=u'N', OBS-TIME=None),\n",
       " Row(ID=u'ASN00085296', DATE=u'20160101', ELEMENT=u'PRCP', DATA_VALUE=u'0', M-FLAG=None, Q-FLAG=None, S-FLAG=u'a', OBS-TIME=None),\n",
       " Row(ID=u'US1MNWR0029', DATE=u'20160101', ELEMENT=u'PRCP', DATA_VALUE=u'0', M-FLAG=None, Q-FLAG=None, S-FLAG=u'N', OBS-TIME=None),\n",
       " Row(ID=u'ASN00040209', DATE=u'20160101', ELEMENT=u'PRCP', DATA_VALUE=u'1', M-FLAG=None, Q-FLAG=None, S-FLAG=u'a', OBS-TIME=None),\n",
       " Row(ID=u'ASN00085280', DATE=u'20160101', ELEMENT=u'PRCP', DATA_VALUE=u'0', M-FLAG=None, Q-FLAG=None, S-FLAG=u'a', OBS-TIME=None),\n",
       " Row(ID=u'US1MNCV0008', DATE=u'20160101', ELEMENT=u'PRCP', DATA_VALUE=u'0', M-FLAG=u'T', Q-FLAG=None, S-FLAG=u'N', OBS-TIME=None)]"
      ]
     },
     "execution_count": 46,
     "metadata": {},
     "output_type": "execute_result"
    }
   ],
   "source": [
    "year2016csv_filtered_RDD.take(10)"
   ]
  },
  {
   "cell_type": "code",
   "execution_count": 55,
   "metadata": {
    "collapsed": true
   },
   "outputs": [],
   "source": [
    "year2016csv_filtered_RDD=spark.read.csv(\"/home/utad/spark-2.2.0-bin-hadoop2.7/con01/year2016csv_filtered_RDD\")"
   ]
  },
  {
   "cell_type": "code",
   "execution_count": 48,
   "metadata": {},
   "outputs": [
    {
     "data": {
      "text/plain": [
       "[Row(_c0=u\"Row(ID=u'RSM00028224'\", _c1=u\" DATE=u'20160430'\", _c2=u\" ELEMENT=u'PRCP'\", _c3=u\" DATA_VALUE=u'0'\", _c4=u\" M-FLAG=u'B'\", _c5=u' Q-FLAG=None', _c6=u\" S-FLAG=u'S'\", _c7=u' OBS-TIME=None)'),\n",
       " Row(_c0=u\"Row(ID=u'USC00242793'\", _c1=u\" DATE=u'20160430'\", _c2=u\" ELEMENT=u'PRCP'\", _c3=u\" DATA_VALUE=u'0'\", _c4=u' M-FLAG=None', _c5=u' Q-FLAG=None', _c6=u\" S-FLAG=u'7'\", _c7=u\" OBS-TIME=u'1800')\"),\n",
       " Row(_c0=u\"Row(ID=u'USC00231924'\", _c1=u\" DATE=u'20160430'\", _c2=u\" ELEMENT=u'PRCP'\", _c3=u\" DATA_VALUE=u'0'\", _c4=u\" M-FLAG=u'T'\", _c5=u' Q-FLAG=None', _c6=u\" S-FLAG=u'7'\", _c7=u\" OBS-TIME=u'0800')\"),\n",
       " Row(_c0=u\"Row(ID=u'USC00225070'\", _c1=u\" DATE=u'20160430'\", _c2=u\" ELEMENT=u'PRCP'\", _c3=u\" DATA_VALUE=u'0'\", _c4=u' M-FLAG=None', _c5=u' Q-FLAG=None', _c6=u\" S-FLAG=u'7'\", _c7=u\" OBS-TIME=u'0700')\"),\n",
       " Row(_c0=u\"Row(ID=u'RSM00020087'\", _c1=u\" DATE=u'20160430'\", _c2=u\" ELEMENT=u'PRCP'\", _c3=u\" DATA_VALUE=u'0'\", _c4=u\" M-FLAG=u'B'\", _c5=u' Q-FLAG=None', _c6=u\" S-FLAG=u'S'\", _c7=u' OBS-TIME=None)'),\n",
       " Row(_c0=u\"Row(ID=u'ASN00023748'\", _c1=u\" DATE=u'20160430'\", _c2=u\" ELEMENT=u'PRCP'\", _c3=u\" DATA_VALUE=u'0'\", _c4=u' M-FLAG=None', _c5=u' Q-FLAG=None', _c6=u\" S-FLAG=u'a'\", _c7=u' OBS-TIME=None)'),\n",
       " Row(_c0=u\"Row(ID=u'USC00213303'\", _c1=u\" DATE=u'20160430'\", _c2=u\" ELEMENT=u'PRCP'\", _c3=u\" DATA_VALUE=u'0'\", _c4=u' M-FLAG=None', _c5=u' Q-FLAG=None', _c6=u\" S-FLAG=u'7'\", _c7=u\" OBS-TIME=u'2400')\"),\n",
       " Row(_c0=u\"Row(ID=u'USC00175305'\", _c1=u\" DATE=u'20160430'\", _c2=u\" ELEMENT=u'PRCP'\", _c3=u\" DATA_VALUE=u'0'\", _c4=u' M-FLAG=None', _c5=u' Q-FLAG=None', _c6=u\" S-FLAG=u'7'\", _c7=u\" OBS-TIME=u'0700')\"),\n",
       " Row(_c0=u\"Row(ID=u'USC00202804'\", _c1=u\" DATE=u'20160430'\", _c2=u\" ELEMENT=u'PRCP'\", _c3=u\" DATA_VALUE=u'10'\", _c4=u' M-FLAG=None', _c5=u' Q-FLAG=None', _c6=u\" S-FLAG=u'7'\", _c7=u\" OBS-TIME=u'0630')\"),\n",
       " Row(_c0=u\"Row(ID=u'USC00210939'\", _c1=u\" DATE=u'20160430'\", _c2=u\" ELEMENT=u'PRCP'\", _c3=u\" DATA_VALUE=u'0'\", _c4=u' M-FLAG=None', _c5=u' Q-FLAG=None', _c6=u\" S-FLAG=u'7'\", _c7=u\" OBS-TIME=u'0700')\")]"
      ]
     },
     "execution_count": 48,
     "metadata": {},
     "output_type": "execute_result"
    }
   ],
   "source": [
    "year2016csv_filtered_RDD.take(10)"
   ]
  },
  {
   "cell_type": "code",
   "execution_count": 53,
   "metadata": {
    "collapsed": true
   },
   "outputs": [],
   "source": [
    "year2016csv_filtered_DF = year2016csv_filtered_RDD.toDF('ID','DATE','ELEMENT','DATA_VALUE','M-FLAG','Q-FLAG','S-FLAG','OBS-TIME')"
   ]
  },
  {
   "cell_type": "code",
   "execution_count": 54,
   "metadata": {},
   "outputs": [
    {
     "name": "stdout",
     "output_type": "stream",
     "text": [
      "+--------------------+-----------------+----------------+------------------+------------+------------+------------+------------------+\n",
      "|                  ID|             DATE|         ELEMENT|        DATA_VALUE|      M-FLAG|      Q-FLAG|      S-FLAG|          OBS-TIME|\n",
      "+--------------------+-----------------+----------------+------------------+------------+------------+------------+------------------+\n",
      "|Row(ID=u'RSM00028...| DATE=u'20160430'| ELEMENT=u'PRCP'|   DATA_VALUE=u'0'| M-FLAG=u'B'| Q-FLAG=None| S-FLAG=u'S'|    OBS-TIME=None)|\n",
      "|Row(ID=u'USC00242...| DATE=u'20160430'| ELEMENT=u'PRCP'|   DATA_VALUE=u'0'| M-FLAG=None| Q-FLAG=None| S-FLAG=u'7'| OBS-TIME=u'1800')|\n",
      "|Row(ID=u'USC00231...| DATE=u'20160430'| ELEMENT=u'PRCP'|   DATA_VALUE=u'0'| M-FLAG=u'T'| Q-FLAG=None| S-FLAG=u'7'| OBS-TIME=u'0800')|\n",
      "|Row(ID=u'USC00225...| DATE=u'20160430'| ELEMENT=u'PRCP'|   DATA_VALUE=u'0'| M-FLAG=None| Q-FLAG=None| S-FLAG=u'7'| OBS-TIME=u'0700')|\n",
      "|Row(ID=u'RSM00020...| DATE=u'20160430'| ELEMENT=u'PRCP'|   DATA_VALUE=u'0'| M-FLAG=u'B'| Q-FLAG=None| S-FLAG=u'S'|    OBS-TIME=None)|\n",
      "|Row(ID=u'ASN00023...| DATE=u'20160430'| ELEMENT=u'PRCP'|   DATA_VALUE=u'0'| M-FLAG=None| Q-FLAG=None| S-FLAG=u'a'|    OBS-TIME=None)|\n",
      "|Row(ID=u'USC00213...| DATE=u'20160430'| ELEMENT=u'PRCP'|   DATA_VALUE=u'0'| M-FLAG=None| Q-FLAG=None| S-FLAG=u'7'| OBS-TIME=u'2400')|\n",
      "|Row(ID=u'USC00175...| DATE=u'20160430'| ELEMENT=u'PRCP'|   DATA_VALUE=u'0'| M-FLAG=None| Q-FLAG=None| S-FLAG=u'7'| OBS-TIME=u'0700')|\n",
      "|Row(ID=u'USC00202...| DATE=u'20160430'| ELEMENT=u'PRCP'|  DATA_VALUE=u'10'| M-FLAG=None| Q-FLAG=None| S-FLAG=u'7'| OBS-TIME=u'0630')|\n",
      "|Row(ID=u'USC00210...| DATE=u'20160430'| ELEMENT=u'PRCP'|   DATA_VALUE=u'0'| M-FLAG=None| Q-FLAG=None| S-FLAG=u'7'| OBS-TIME=u'0700')|\n",
      "|Row(ID=u'NOE00133...| DATE=u'20160430'| ELEMENT=u'PRCP'| DATA_VALUE=u'262'| M-FLAG=None| Q-FLAG=None| S-FLAG=u'E'|    OBS-TIME=None)|\n",
      "|Row(ID=u'USC00167...| DATE=u'20160430'| ELEMENT=u'PRCP'| DATA_VALUE=u'356'| M-FLAG=None| Q-FLAG=None| S-FLAG=u'7'| OBS-TIME=u'1300')|\n",
      "|Row(ID=u'US1AZPN0...| DATE=u'20160430'| ELEMENT=u'PRCP'|   DATA_VALUE=u'0'| M-FLAG=None| Q-FLAG=None| S-FLAG=u'N'|    OBS-TIME=None)|\n",
      "|Row(ID=u'US1AZPN0...| DATE=u'20160430'| ELEMENT=u'PRCP'|   DATA_VALUE=u'0'| M-FLAG=None| Q-FLAG=None| S-FLAG=u'N'|    OBS-TIME=None)|\n",
      "|Row(ID=u'USS0021D...| DATE=u'20160430'| ELEMENT=u'PRCP'|  DATA_VALUE=u'25'| M-FLAG=None| Q-FLAG=None| S-FLAG=u'T'|    OBS-TIME=None)|\n",
      "|Row(ID=u'USS0020L...| DATE=u'20160430'| ELEMENT=u'PRCP'|   DATA_VALUE=u'0'| M-FLAG=None| Q-FLAG=None| S-FLAG=u'T'|    OBS-TIME=None)|\n",
      "|Row(ID=u'US1AZPM0...| DATE=u'20160430'| ELEMENT=u'PRCP'|   DATA_VALUE=u'0'| M-FLAG=None| Q-FLAG=None| S-FLAG=u'N'|    OBS-TIME=None)|\n",
      "|Row(ID=u'US1AZPM0...| DATE=u'20160430'| ELEMENT=u'PRCP'|   DATA_VALUE=u'0'| M-FLAG=None| Q-FLAG=None| S-FLAG=u'N'|    OBS-TIME=None)|\n",
      "|Row(ID=u'USS0019L...| DATE=u'20160430'| ELEMENT=u'PRCP'|  DATA_VALUE=u'25'| M-FLAG=None| Q-FLAG=None| S-FLAG=u'T'|    OBS-TIME=None)|\n",
      "|Row(ID=u'CA001100...| DATE=u'20160430'| ELEMENT=u'PRCP'|   DATA_VALUE=u'0'| M-FLAG=None| Q-FLAG=None| S-FLAG=u'C'|    OBS-TIME=None)|\n",
      "+--------------------+-----------------+----------------+------------------+------------+------------+------------+------------------+\n",
      "only showing top 20 rows\n",
      "\n"
     ]
    }
   ],
   "source": [
    "year2016csv_filtered_DF.show()"
   ]
  },
  {
   "cell_type": "code",
   "execution_count": 56,
   "metadata": {},
   "outputs": [
    {
     "data": {
      "text/plain": [
       "DataFrame[_c0: string, _c1: string, _c2: string, _c3: string, _c4: string, _c5: string, _c6: string, _c7: string]"
      ]
     },
     "execution_count": 56,
     "metadata": {},
     "output_type": "execute_result"
    }
   ],
   "source": [
    "year2016csv_filtered_RDD"
   ]
  },
  {
   "cell_type": "code",
   "execution_count": 65,
   "metadata": {},
   "outputs": [
    {
     "data": {
      "text/plain": [
       "DataFrame[_c0: string, _c1: string, _c2: string, _c3: string, _c4: string, _c5: string, _c6: string, _c7: string]"
      ]
     },
     "execution_count": 65,
     "metadata": {},
     "output_type": "execute_result"
    }
   ],
   "source": [
    "year2016csv_filtered_RDD"
   ]
  },
  {
   "cell_type": "code",
   "execution_count": 66,
   "metadata": {
    "collapsed": true
   },
   "outputs": [],
   "source": [
    "year2016csv_filtered_DF=year2016csv_filtered_RDD"
   ]
  },
  {
   "cell_type": "code",
   "execution_count": 67,
   "metadata": {},
   "outputs": [
    {
     "data": {
      "text/plain": [
       "DataFrame[_c0: string, _c1: string, _c2: string, _c3: string, _c4: string, _c5: string, _c6: string, _c7: string]"
      ]
     },
     "execution_count": 67,
     "metadata": {},
     "output_type": "execute_result"
    }
   ],
   "source": [
    "year2016csv_filtered_DF"
   ]
  },
  {
   "cell_type": "code",
   "execution_count": 68,
   "metadata": {
    "collapsed": true
   },
   "outputs": [],
   "source": [
    "year2016csv_filtered_DF=year2016csv_filtered_DF.withColumnRenamed('_c0','ID')"
   ]
  },
  {
   "cell_type": "code",
   "execution_count": 69,
   "metadata": {
    "collapsed": true
   },
   "outputs": [],
   "source": [
    "year2016csv_filtered_DF=year2016csv_filtered_DF.withColumnRenamed('_c1','DATE')"
   ]
  },
  {
   "cell_type": "code",
   "execution_count": 70,
   "metadata": {
    "collapsed": true
   },
   "outputs": [],
   "source": [
    "year2016csv_filtered_DF=year2016csv_filtered_DF.withColumnRenamed('_c2','ELEMENT')"
   ]
  },
  {
   "cell_type": "code",
   "execution_count": 71,
   "metadata": {
    "collapsed": true
   },
   "outputs": [],
   "source": [
    "year2016csv_filtered_DF=year2016csv_filtered_DF.withColumnRenamed('_c3','DATA_VALUE')"
   ]
  },
  {
   "cell_type": "code",
   "execution_count": 72,
   "metadata": {
    "collapsed": true
   },
   "outputs": [],
   "source": [
    "year2016csv_filtered_DF=year2016csv_filtered_DF.withColumnRenamed('_c4','M-FLAG')"
   ]
  },
  {
   "cell_type": "code",
   "execution_count": 73,
   "metadata": {
    "collapsed": true
   },
   "outputs": [],
   "source": [
    "year2016csv_filtered_DF=year2016csv_filtered_DF.withColumnRenamed('_c5','Q-FLAG')"
   ]
  },
  {
   "cell_type": "code",
   "execution_count": 74,
   "metadata": {
    "collapsed": true
   },
   "outputs": [],
   "source": [
    "year2016csv_filtered_DF=year2016csv_filtered_DF.withColumnRenamed('_c6','S-FLAG')"
   ]
  },
  {
   "cell_type": "code",
   "execution_count": 75,
   "metadata": {
    "collapsed": true
   },
   "outputs": [],
   "source": [
    "year2016csv_filtered_DF=year2016csv_filtered_DF.withColumnRenamed('_c7','OBS-TIME')"
   ]
  },
  {
   "cell_type": "code",
   "execution_count": 76,
   "metadata": {},
   "outputs": [
    {
     "data": {
      "text/plain": [
       "DataFrame[ID: string, DATE: string, ELEMENT: string, DATA_VALUE: string, M-FLAG: string, Q-FLAG: string, S-FLAG: string, OBS-TIME: string]"
      ]
     },
     "execution_count": 76,
     "metadata": {},
     "output_type": "execute_result"
    }
   ],
   "source": [
    "year2016csv_filtered_DF"
   ]
  },
  {
   "cell_type": "code",
   "execution_count": 77,
   "metadata": {},
   "outputs": [
    {
     "name": "stdout",
     "output_type": "stream",
     "text": [
      "+--------------------+-----------------+----------------+------------------+------------+------------+------------+------------------+\n",
      "|                  ID|             DATE|         ELEMENT|        DATA_VALUE|      M-FLAG|      Q-FLAG|      S-FLAG|          OBS-TIME|\n",
      "+--------------------+-----------------+----------------+------------------+------------+------------+------------+------------------+\n",
      "|Row(ID=u'RSM00028...| DATE=u'20160430'| ELEMENT=u'PRCP'|   DATA_VALUE=u'0'| M-FLAG=u'B'| Q-FLAG=None| S-FLAG=u'S'|    OBS-TIME=None)|\n",
      "|Row(ID=u'USC00242...| DATE=u'20160430'| ELEMENT=u'PRCP'|   DATA_VALUE=u'0'| M-FLAG=None| Q-FLAG=None| S-FLAG=u'7'| OBS-TIME=u'1800')|\n",
      "|Row(ID=u'USC00231...| DATE=u'20160430'| ELEMENT=u'PRCP'|   DATA_VALUE=u'0'| M-FLAG=u'T'| Q-FLAG=None| S-FLAG=u'7'| OBS-TIME=u'0800')|\n",
      "|Row(ID=u'USC00225...| DATE=u'20160430'| ELEMENT=u'PRCP'|   DATA_VALUE=u'0'| M-FLAG=None| Q-FLAG=None| S-FLAG=u'7'| OBS-TIME=u'0700')|\n",
      "|Row(ID=u'RSM00020...| DATE=u'20160430'| ELEMENT=u'PRCP'|   DATA_VALUE=u'0'| M-FLAG=u'B'| Q-FLAG=None| S-FLAG=u'S'|    OBS-TIME=None)|\n",
      "|Row(ID=u'ASN00023...| DATE=u'20160430'| ELEMENT=u'PRCP'|   DATA_VALUE=u'0'| M-FLAG=None| Q-FLAG=None| S-FLAG=u'a'|    OBS-TIME=None)|\n",
      "|Row(ID=u'USC00213...| DATE=u'20160430'| ELEMENT=u'PRCP'|   DATA_VALUE=u'0'| M-FLAG=None| Q-FLAG=None| S-FLAG=u'7'| OBS-TIME=u'2400')|\n",
      "|Row(ID=u'USC00175...| DATE=u'20160430'| ELEMENT=u'PRCP'|   DATA_VALUE=u'0'| M-FLAG=None| Q-FLAG=None| S-FLAG=u'7'| OBS-TIME=u'0700')|\n",
      "|Row(ID=u'USC00202...| DATE=u'20160430'| ELEMENT=u'PRCP'|  DATA_VALUE=u'10'| M-FLAG=None| Q-FLAG=None| S-FLAG=u'7'| OBS-TIME=u'0630')|\n",
      "|Row(ID=u'USC00210...| DATE=u'20160430'| ELEMENT=u'PRCP'|   DATA_VALUE=u'0'| M-FLAG=None| Q-FLAG=None| S-FLAG=u'7'| OBS-TIME=u'0700')|\n",
      "|Row(ID=u'NOE00133...| DATE=u'20160430'| ELEMENT=u'PRCP'| DATA_VALUE=u'262'| M-FLAG=None| Q-FLAG=None| S-FLAG=u'E'|    OBS-TIME=None)|\n",
      "|Row(ID=u'USC00167...| DATE=u'20160430'| ELEMENT=u'PRCP'| DATA_VALUE=u'356'| M-FLAG=None| Q-FLAG=None| S-FLAG=u'7'| OBS-TIME=u'1300')|\n",
      "|Row(ID=u'US1AZPN0...| DATE=u'20160430'| ELEMENT=u'PRCP'|   DATA_VALUE=u'0'| M-FLAG=None| Q-FLAG=None| S-FLAG=u'N'|    OBS-TIME=None)|\n",
      "|Row(ID=u'US1AZPN0...| DATE=u'20160430'| ELEMENT=u'PRCP'|   DATA_VALUE=u'0'| M-FLAG=None| Q-FLAG=None| S-FLAG=u'N'|    OBS-TIME=None)|\n",
      "|Row(ID=u'USS0021D...| DATE=u'20160430'| ELEMENT=u'PRCP'|  DATA_VALUE=u'25'| M-FLAG=None| Q-FLAG=None| S-FLAG=u'T'|    OBS-TIME=None)|\n",
      "|Row(ID=u'USS0020L...| DATE=u'20160430'| ELEMENT=u'PRCP'|   DATA_VALUE=u'0'| M-FLAG=None| Q-FLAG=None| S-FLAG=u'T'|    OBS-TIME=None)|\n",
      "|Row(ID=u'US1AZPM0...| DATE=u'20160430'| ELEMENT=u'PRCP'|   DATA_VALUE=u'0'| M-FLAG=None| Q-FLAG=None| S-FLAG=u'N'|    OBS-TIME=None)|\n",
      "|Row(ID=u'US1AZPM0...| DATE=u'20160430'| ELEMENT=u'PRCP'|   DATA_VALUE=u'0'| M-FLAG=None| Q-FLAG=None| S-FLAG=u'N'|    OBS-TIME=None)|\n",
      "|Row(ID=u'USS0019L...| DATE=u'20160430'| ELEMENT=u'PRCP'|  DATA_VALUE=u'25'| M-FLAG=None| Q-FLAG=None| S-FLAG=u'T'|    OBS-TIME=None)|\n",
      "|Row(ID=u'CA001100...| DATE=u'20160430'| ELEMENT=u'PRCP'|   DATA_VALUE=u'0'| M-FLAG=None| Q-FLAG=None| S-FLAG=u'C'|    OBS-TIME=None)|\n",
      "+--------------------+-----------------+----------------+------------------+------------+------------+------------+------------------+\n",
      "only showing top 20 rows\n",
      "\n"
     ]
    }
   ],
   "source": [
    "year2016csv_filtered_DF.show()"
   ]
  },
  {
   "cell_type": "code",
   "execution_count": 78,
   "metadata": {},
   "outputs": [
    {
     "data": {
      "text/plain": [
       "DataFrame[ID: string, DATE: string, ELEMENT: string, DATA_VALUE: string]"
      ]
     },
     "execution_count": 78,
     "metadata": {},
     "output_type": "execute_result"
    }
   ],
   "source": [
    "pruebaDF"
   ]
  },
  {
   "cell_type": "code",
   "execution_count": 79,
   "metadata": {},
   "outputs": [
    {
     "name": "stdout",
     "output_type": "stream",
     "text": [
      "+-----------+--------+-------+----------+\n",
      "|         ID|    DATE|ELEMENT|DATA_VALUE|\n",
      "+-----------+--------+-------+----------+\n",
      "|US1NCCR0043|20160101|   PRCP|        79|\n",
      "|CA1AB000023|20160101|   PRCP|         0|\n",
      "|US1NCBC0113|20160101|   PRCP|         5|\n",
      "|ASN00015643|20160101|   PRCP|         0|\n",
      "|US1MTMH0019|20160101|   PRCP|         0|\n",
      "|ASN00085296|20160101|   PRCP|         0|\n",
      "|US1MNWR0029|20160101|   PRCP|         0|\n",
      "|ASN00040209|20160101|   PRCP|         1|\n",
      "|ASN00085280|20160101|   PRCP|         0|\n",
      "|US1MNCV0008|20160101|   PRCP|         0|\n",
      "|US1MISW0005|20160101|   PRCP|         3|\n",
      "|US1LAEB0041|20160101|   PRCP|        64|\n",
      "|CA007020860|20160101|   PRCP|        20|\n",
      "|US1KSSG0097|20160101|   PRCP|         0|\n",
      "|US1KSGO0009|20160101|   PRCP|         0|\n",
      "|ASN00009661|20160101|   PRCP|         0|\n",
      "|US1KSEL0074|20160101|   PRCP|         0|\n",
      "|ASN00078001|20160101|   PRCP|         0|\n",
      "|US1INWN0004|20160101|   PRCP|         0|\n",
      "|US1INFL0003|20160101|   PRCP|         0|\n",
      "+-----------+--------+-------+----------+\n",
      "only showing top 20 rows\n",
      "\n"
     ]
    }
   ],
   "source": [
    "pruebaDF.show()"
   ]
  },
  {
   "cell_type": "code",
   "execution_count": 80,
   "metadata": {
    "collapsed": true
   },
   "outputs": [],
   "source": [
    "pruebaDF.select(\"ID\",\"DATE\",\"ELEMENT\",\"DATA_VALUE\").write.save(\"/home/utad/spark-2.2.0-bin-hadoop2.7/con01/pruebaDF.parquet\",format=\"parquet\")"
   ]
  },
  {
   "cell_type": "code",
   "execution_count": 81,
   "metadata": {
    "collapsed": true
   },
   "outputs": [],
   "source": [
    "pruebaDF=spark.read.load(\"/home/utad/spark-2.2.0-bin-hadoop2.7/con01/pruebaDF.parquet\")"
   ]
  },
  {
   "cell_type": "code",
   "execution_count": 82,
   "metadata": {},
   "outputs": [
    {
     "data": {
      "text/plain": [
       "DataFrame[ID: string, DATE: string, ELEMENT: string, DATA_VALUE: string]"
      ]
     },
     "execution_count": 82,
     "metadata": {},
     "output_type": "execute_result"
    }
   ],
   "source": [
    "pruebaDF"
   ]
  },
  {
   "cell_type": "code",
   "execution_count": 83,
   "metadata": {},
   "outputs": [
    {
     "name": "stdout",
     "output_type": "stream",
     "text": [
      "+-----------+--------+-------+----------+\n",
      "|         ID|    DATE|ELEMENT|DATA_VALUE|\n",
      "+-----------+--------+-------+----------+\n",
      "|RSM00028224|20160430|   PRCP|         0|\n",
      "|USC00242793|20160430|   PRCP|         0|\n",
      "|USC00231924|20160430|   PRCP|         0|\n",
      "|USC00225070|20160430|   PRCP|         0|\n",
      "|RSM00020087|20160430|   PRCP|         0|\n",
      "|ASN00023748|20160430|   PRCP|         0|\n",
      "|USC00213303|20160430|   PRCP|         0|\n",
      "|USC00175305|20160430|   PRCP|         0|\n",
      "|USC00202804|20160430|   PRCP|        10|\n",
      "|USC00210939|20160430|   PRCP|         0|\n",
      "|NOE00133314|20160430|   PRCP|       262|\n",
      "|USC00167304|20160430|   PRCP|       356|\n",
      "|US1AZPN0008|20160430|   PRCP|         0|\n",
      "|US1AZPN0037|20160430|   PRCP|         0|\n",
      "|USS0021D01S|20160430|   PRCP|        25|\n",
      "|USS0020L10S|20160430|   PRCP|         0|\n",
      "|US1AZPM0249|20160430|   PRCP|         0|\n",
      "|US1AZPM0014|20160430|   PRCP|         0|\n",
      "|USS0019L05S|20160430|   PRCP|        25|\n",
      "|CA001100120|20160430|   PRCP|         0|\n",
      "+-----------+--------+-------+----------+\n",
      "only showing top 20 rows\n",
      "\n"
     ]
    }
   ],
   "source": [
    "pruebaDF.show()"
   ]
  },
  {
   "cell_type": "code",
   "execution_count": 84,
   "metadata": {
    "collapsed": true
   },
   "outputs": [],
   "source": [
    "pruebaParquetDF=spark.read.load(\"/home/utad/spark-2.2.0-bin-hadoop2.7/con01/pruebaDF.parquet\")"
   ]
  },
  {
   "cell_type": "code",
   "execution_count": 85,
   "metadata": {},
   "outputs": [
    {
     "name": "stdout",
     "output_type": "stream",
     "text": [
      "+-----------+--------+-------+----------+\n",
      "|         ID|    DATE|ELEMENT|DATA_VALUE|\n",
      "+-----------+--------+-------+----------+\n",
      "|RSM00028224|20160430|   PRCP|         0|\n",
      "|USC00242793|20160430|   PRCP|         0|\n",
      "|USC00231924|20160430|   PRCP|         0|\n",
      "|USC00225070|20160430|   PRCP|         0|\n",
      "|RSM00020087|20160430|   PRCP|         0|\n",
      "|ASN00023748|20160430|   PRCP|         0|\n",
      "|USC00213303|20160430|   PRCP|         0|\n",
      "|USC00175305|20160430|   PRCP|         0|\n",
      "|USC00202804|20160430|   PRCP|        10|\n",
      "|USC00210939|20160430|   PRCP|         0|\n",
      "|NOE00133314|20160430|   PRCP|       262|\n",
      "|USC00167304|20160430|   PRCP|       356|\n",
      "|US1AZPN0008|20160430|   PRCP|         0|\n",
      "|US1AZPN0037|20160430|   PRCP|         0|\n",
      "|USS0021D01S|20160430|   PRCP|        25|\n",
      "|USS0020L10S|20160430|   PRCP|         0|\n",
      "|US1AZPM0249|20160430|   PRCP|         0|\n",
      "|US1AZPM0014|20160430|   PRCP|         0|\n",
      "|USS0019L05S|20160430|   PRCP|        25|\n",
      "|CA001100120|20160430|   PRCP|         0|\n",
      "+-----------+--------+-------+----------+\n",
      "only showing top 20 rows\n",
      "\n"
     ]
    }
   ],
   "source": [
    "pruebaParquetDF.show()"
   ]
  },
  {
   "cell_type": "code",
   "execution_count": 86,
   "metadata": {},
   "outputs": [
    {
     "name": "stdout",
     "output_type": "stream",
     "text": [
      "root\n",
      " |-- ID: string (nullable = true)\n",
      " |-- DATE: string (nullable = true)\n",
      " |-- ELEMENT: string (nullable = true)\n",
      " |-- DATA_VALUE: string (nullable = true)\n",
      "\n"
     ]
    }
   ],
   "source": [
    "pruebaParquetDF.printSchema()"
   ]
  },
  {
   "cell_type": "code",
   "execution_count": 87,
   "metadata": {},
   "outputs": [
    {
     "data": {
      "text/plain": [
       "DataFrame[ID: string, DATE: string, ELEMENT: string, DATA_VALUE: string]"
      ]
     },
     "execution_count": 87,
     "metadata": {},
     "output_type": "execute_result"
    }
   ],
   "source": [
    "pruebaDF"
   ]
  },
  {
   "cell_type": "code",
   "execution_count": 88,
   "metadata": {},
   "outputs": [
    {
     "name": "stdout",
     "output_type": "stream",
     "text": [
      "+-----------+--------+-------+----------+\n",
      "|         ID|    DATE|ELEMENT|DATA_VALUE|\n",
      "+-----------+--------+-------+----------+\n",
      "|RSM00028224|20160430|   PRCP|         0|\n",
      "|USC00242793|20160430|   PRCP|         0|\n",
      "|USC00231924|20160430|   PRCP|         0|\n",
      "|USC00225070|20160430|   PRCP|         0|\n",
      "|RSM00020087|20160430|   PRCP|         0|\n",
      "|ASN00023748|20160430|   PRCP|         0|\n",
      "|USC00213303|20160430|   PRCP|         0|\n",
      "|USC00175305|20160430|   PRCP|         0|\n",
      "|USC00202804|20160430|   PRCP|        10|\n",
      "|USC00210939|20160430|   PRCP|         0|\n",
      "|NOE00133314|20160430|   PRCP|       262|\n",
      "|USC00167304|20160430|   PRCP|       356|\n",
      "|US1AZPN0008|20160430|   PRCP|         0|\n",
      "|US1AZPN0037|20160430|   PRCP|         0|\n",
      "|USS0021D01S|20160430|   PRCP|        25|\n",
      "|USS0020L10S|20160430|   PRCP|         0|\n",
      "|US1AZPM0249|20160430|   PRCP|         0|\n",
      "|US1AZPM0014|20160430|   PRCP|         0|\n",
      "|USS0019L05S|20160430|   PRCP|        25|\n",
      "|CA001100120|20160430|   PRCP|         0|\n",
      "+-----------+--------+-------+----------+\n",
      "only showing top 20 rows\n",
      "\n"
     ]
    }
   ],
   "source": [
    "pruebaDF.show()"
   ]
  },
  {
   "cell_type": "code",
   "execution_count": 89,
   "metadata": {
    "collapsed": true
   },
   "outputs": [],
   "source": [
    "#con esto ya has aprendido q el mejor formato para guardar y cargar fichero en disco es el parquet \n",
    "#pq da muchos menos problemas q le texto o el csv"
   ]
  },
  {
   "cell_type": "code",
   "execution_count": 116,
   "metadata": {},
   "outputs": [
    {
     "name": "stdout",
     "output_type": "stream",
     "text": [
      "+-----------+\n",
      "|         ID|\n",
      "+-----------+\n",
      "|RSM00028224|\n",
      "|USC00242793|\n",
      "|USC00231924|\n",
      "|USC00225070|\n",
      "|RSM00020087|\n",
      "|ASN00023748|\n",
      "|USC00213303|\n",
      "|USC00175305|\n",
      "|USC00202804|\n",
      "|USC00210939|\n",
      "|NOE00133314|\n",
      "|USC00167304|\n",
      "|US1AZPN0008|\n",
      "|US1AZPN0037|\n",
      "|USS0021D01S|\n",
      "|USS0020L10S|\n",
      "|US1AZPM0249|\n",
      "|US1AZPM0014|\n",
      "|USS0019L05S|\n",
      "|CA001100120|\n",
      "+-----------+\n",
      "only showing top 20 rows\n",
      "\n"
     ]
    }
   ],
   "source": [
    "pruebaDF.select(\"ID\").show()"
   ]
  },
  {
   "cell_type": "code",
   "execution_count": 121,
   "metadata": {
    "collapsed": true
   },
   "outputs": [],
   "source": [
    "pruebaDF.createGlobalTempView(\"prueba\")"
   ]
  },
  {
   "cell_type": "code",
   "execution_count": 123,
   "metadata": {},
   "outputs": [
    {
     "name": "stdout",
     "output_type": "stream",
     "text": [
      "+-----------+--------+-------+----------+\n",
      "|         ID|    DATE|ELEMENT|DATA_VALUE|\n",
      "+-----------+--------+-------+----------+\n",
      "|RSM00028224|20160430|   PRCP|         0|\n",
      "|USC00242793|20160430|   PRCP|         0|\n",
      "|USC00231924|20160430|   PRCP|         0|\n",
      "|USC00225070|20160430|   PRCP|         0|\n",
      "|RSM00020087|20160430|   PRCP|         0|\n",
      "|ASN00023748|20160430|   PRCP|         0|\n",
      "|USC00213303|20160430|   PRCP|         0|\n",
      "|USC00175305|20160430|   PRCP|         0|\n",
      "|USC00202804|20160430|   PRCP|        10|\n",
      "|USC00210939|20160430|   PRCP|         0|\n",
      "|NOE00133314|20160430|   PRCP|       262|\n",
      "|USC00167304|20160430|   PRCP|       356|\n",
      "|US1AZPN0008|20160430|   PRCP|         0|\n",
      "|US1AZPN0037|20160430|   PRCP|         0|\n",
      "|USS0021D01S|20160430|   PRCP|        25|\n",
      "|USS0020L10S|20160430|   PRCP|         0|\n",
      "|US1AZPM0249|20160430|   PRCP|         0|\n",
      "|US1AZPM0014|20160430|   PRCP|         0|\n",
      "|USS0019L05S|20160430|   PRCP|        25|\n",
      "|CA001100120|20160430|   PRCP|         0|\n",
      "+-----------+--------+-------+----------+\n",
      "only showing top 20 rows\n",
      "\n"
     ]
    }
   ],
   "source": [
    "spark.sql(\"SELECT * FROM global_temp.prueba\").show()"
   ]
  },
  {
   "cell_type": "code",
   "execution_count": 126,
   "metadata": {
    "collapsed": true
   },
   "outputs": [],
   "source": [
    "pruebaRDD = pruebaDF.rdd"
   ]
  },
  {
   "cell_type": "code",
   "execution_count": 127,
   "metadata": {
    "scrolled": true
   },
   "outputs": [
    {
     "data": {
      "text/plain": [
       "[Row(ID=u'RSM00028224', DATE=u'20160430', ELEMENT=u'PRCP', DATA_VALUE=u'0'),\n",
       " Row(ID=u'USC00242793', DATE=u'20160430', ELEMENT=u'PRCP', DATA_VALUE=u'0'),\n",
       " Row(ID=u'USC00231924', DATE=u'20160430', ELEMENT=u'PRCP', DATA_VALUE=u'0'),\n",
       " Row(ID=u'USC00225070', DATE=u'20160430', ELEMENT=u'PRCP', DATA_VALUE=u'0'),\n",
       " Row(ID=u'RSM00020087', DATE=u'20160430', ELEMENT=u'PRCP', DATA_VALUE=u'0'),\n",
       " Row(ID=u'ASN00023748', DATE=u'20160430', ELEMENT=u'PRCP', DATA_VALUE=u'0'),\n",
       " Row(ID=u'USC00213303', DATE=u'20160430', ELEMENT=u'PRCP', DATA_VALUE=u'0'),\n",
       " Row(ID=u'USC00175305', DATE=u'20160430', ELEMENT=u'PRCP', DATA_VALUE=u'0'),\n",
       " Row(ID=u'USC00202804', DATE=u'20160430', ELEMENT=u'PRCP', DATA_VALUE=u'10'),\n",
       " Row(ID=u'USC00210939', DATE=u'20160430', ELEMENT=u'PRCP', DATA_VALUE=u'0')]"
      ]
     },
     "execution_count": 127,
     "metadata": {},
     "output_type": "execute_result"
    }
   ],
   "source": [
    "pruebaRDD.take(10)"
   ]
  },
  {
   "cell_type": "code",
   "execution_count": 157,
   "metadata": {
    "collapsed": true
   },
   "outputs": [],
   "source": [
    "from pyspark.sql import Row"
   ]
  },
  {
   "cell_type": "code",
   "execution_count": 158,
   "metadata": {
    "collapsed": true
   },
   "outputs": [],
   "source": [
    "IDsSubStringedRDD = pruebaRDD.map(lambda p: Row(p[0][:2],p[1],p[2],p[3]))"
   ]
  },
  {
   "cell_type": "code",
   "execution_count": 159,
   "metadata": {},
   "outputs": [
    {
     "data": {
      "text/plain": [
       "PythonRDD[199] at RDD at PythonRDD.scala:48"
      ]
     },
     "execution_count": 159,
     "metadata": {},
     "output_type": "execute_result"
    }
   ],
   "source": [
    "IDsSubStringedRDD"
   ]
  },
  {
   "cell_type": "code",
   "execution_count": 160,
   "metadata": {},
   "outputs": [
    {
     "data": {
      "text/plain": [
       "[<Row(RS, 20160430, PRCP, 0)>,\n",
       " <Row(US, 20160430, PRCP, 0)>,\n",
       " <Row(US, 20160430, PRCP, 0)>,\n",
       " <Row(US, 20160430, PRCP, 0)>,\n",
       " <Row(RS, 20160430, PRCP, 0)>,\n",
       " <Row(AS, 20160430, PRCP, 0)>,\n",
       " <Row(US, 20160430, PRCP, 0)>,\n",
       " <Row(US, 20160430, PRCP, 0)>,\n",
       " <Row(US, 20160430, PRCP, 10)>,\n",
       " <Row(US, 20160430, PRCP, 0)>]"
      ]
     },
     "execution_count": 160,
     "metadata": {},
     "output_type": "execute_result"
    }
   ],
   "source": [
    "IDsSubStringedRDD.take(10)"
   ]
  },
  {
   "cell_type": "code",
   "execution_count": 161,
   "metadata": {
    "collapsed": true
   },
   "outputs": [],
   "source": [
    "from pyspark.sql import *"
   ]
  },
  {
   "cell_type": "code",
   "execution_count": 162,
   "metadata": {
    "collapsed": true
   },
   "outputs": [],
   "source": [
    "#una vez q has conseguido cortar los strings prueba a convertirlo otra vez en dataframe a ver si puedes \n",
    "#mirando apuntes arriba toDF"
   ]
  },
  {
   "cell_type": "code",
   "execution_count": 163,
   "metadata": {
    "collapsed": true
   },
   "outputs": [],
   "source": [
    "IDsSubStringedDF = IDsSubStringedRDD.toDF(['COUNTRY','DATE','ELEMENT','DATA_VALUE'])"
   ]
  },
  {
   "cell_type": "code",
   "execution_count": 164,
   "metadata": {
    "scrolled": true
   },
   "outputs": [
    {
     "name": "stdout",
     "output_type": "stream",
     "text": [
      "+-------+--------+-------+----------+\n",
      "|COUNTRY|    DATE|ELEMENT|DATA_VALUE|\n",
      "+-------+--------+-------+----------+\n",
      "|     RS|20160430|   PRCP|         0|\n",
      "|     US|20160430|   PRCP|         0|\n",
      "|     US|20160430|   PRCP|         0|\n",
      "|     US|20160430|   PRCP|         0|\n",
      "|     RS|20160430|   PRCP|         0|\n",
      "|     AS|20160430|   PRCP|         0|\n",
      "|     US|20160430|   PRCP|         0|\n",
      "|     US|20160430|   PRCP|         0|\n",
      "|     US|20160430|   PRCP|        10|\n",
      "|     US|20160430|   PRCP|         0|\n",
      "|     NO|20160430|   PRCP|       262|\n",
      "|     US|20160430|   PRCP|       356|\n",
      "|     US|20160430|   PRCP|         0|\n",
      "|     US|20160430|   PRCP|         0|\n",
      "|     US|20160430|   PRCP|        25|\n",
      "|     US|20160430|   PRCP|         0|\n",
      "|     US|20160430|   PRCP|         0|\n",
      "|     US|20160430|   PRCP|         0|\n",
      "|     US|20160430|   PRCP|        25|\n",
      "|     CA|20160430|   PRCP|         0|\n",
      "+-------+--------+-------+----------+\n",
      "only showing top 20 rows\n",
      "\n"
     ]
    }
   ],
   "source": [
    "IDsSubStringedDF.show()"
   ]
  },
  {
   "cell_type": "code",
   "execution_count": 168,
   "metadata": {},
   "outputs": [
    {
     "ename": "ImportError",
     "evalue": "No module named DataFrame",
     "output_type": "error",
     "traceback": [
      "\u001b[0;31m---------------------------------------------------------------------------\u001b[0m",
      "\u001b[0;31mImportError\u001b[0m                               Traceback (most recent call last)",
      "\u001b[0;32m<ipython-input-168-5c2109c627de>\u001b[0m in \u001b[0;36m<module>\u001b[0;34m()\u001b[0m\n\u001b[0;32m----> 1\u001b[0;31m \u001b[0;32mfrom\u001b[0m \u001b[0mpyspark\u001b[0m\u001b[0;34m.\u001b[0m\u001b[0msql\u001b[0m\u001b[0;34m.\u001b[0m\u001b[0mDataFrame\u001b[0m \u001b[0;32mimport\u001b[0m \u001b[0mwithColumn\u001b[0m\u001b[0;34m\u001b[0m\u001b[0m\n\u001b[0m",
      "\u001b[0;31mImportError\u001b[0m: No module named DataFrame"
     ]
    }
   ],
   "source": [
    "from pyspark.sql.DataFrame import withColumn"
   ]
  },
  {
   "cell_type": "code",
   "execution_count": 173,
   "metadata": {
    "collapsed": true
   },
   "outputs": [],
   "source": [
    "IDsSubStringed_PRCP_DF = IDsSubStringedDF.withColumn('PRCP',IDsSubStringedDF.DATA_VALUE - IDsSubStringedDF.DATA_VALUE - 9999)"
   ]
  },
  {
   "cell_type": "code",
   "execution_count": 174,
   "metadata": {},
   "outputs": [
    {
     "name": "stdout",
     "output_type": "stream",
     "text": [
      "+-------+--------+-------+----------+-------+\n",
      "|COUNTRY|    DATE|ELEMENT|DATA_VALUE|   PRCP|\n",
      "+-------+--------+-------+----------+-------+\n",
      "|     RS|20160430|   PRCP|         0|-9999.0|\n",
      "|     US|20160430|   PRCP|         0|-9999.0|\n",
      "|     US|20160430|   PRCP|         0|-9999.0|\n",
      "|     US|20160430|   PRCP|         0|-9999.0|\n",
      "|     RS|20160430|   PRCP|         0|-9999.0|\n",
      "|     AS|20160430|   PRCP|         0|-9999.0|\n",
      "|     US|20160430|   PRCP|         0|-9999.0|\n",
      "|     US|20160430|   PRCP|         0|-9999.0|\n",
      "|     US|20160430|   PRCP|        10|-9999.0|\n",
      "|     US|20160430|   PRCP|         0|-9999.0|\n",
      "|     NO|20160430|   PRCP|       262|-9999.0|\n",
      "|     US|20160430|   PRCP|       356|-9999.0|\n",
      "|     US|20160430|   PRCP|         0|-9999.0|\n",
      "|     US|20160430|   PRCP|         0|-9999.0|\n",
      "|     US|20160430|   PRCP|        25|-9999.0|\n",
      "|     US|20160430|   PRCP|         0|-9999.0|\n",
      "|     US|20160430|   PRCP|         0|-9999.0|\n",
      "|     US|20160430|   PRCP|         0|-9999.0|\n",
      "|     US|20160430|   PRCP|        25|-9999.0|\n",
      "|     CA|20160430|   PRCP|         0|-9999.0|\n",
      "+-------+--------+-------+----------+-------+\n",
      "only showing top 20 rows\n",
      "\n"
     ]
    }
   ],
   "source": [
    "IDsSubStringed_PRCP_DF.show()"
   ]
  },
  {
   "cell_type": "code",
   "execution_count": 175,
   "metadata": {
    "collapsed": true
   },
   "outputs": [],
   "source": [
    "IDsSubStringed_addedColumns_DF = IDsSubStringed_PRCP_DF.withColumn('SNOW',IDsSubStringed_PRCP_DF.DATA_VALUE - IDsSubStringed_PRCP_DF.DATA_VALUE - 9999)"
   ]
  },
  {
   "cell_type": "code",
   "execution_count": 176,
   "metadata": {},
   "outputs": [
    {
     "name": "stdout",
     "output_type": "stream",
     "text": [
      "+-------+--------+-------+----------+-------+-------+\n",
      "|COUNTRY|    DATE|ELEMENT|DATA_VALUE|   PRCP|   SNOW|\n",
      "+-------+--------+-------+----------+-------+-------+\n",
      "|     RS|20160430|   PRCP|         0|-9999.0|-9999.0|\n",
      "|     US|20160430|   PRCP|         0|-9999.0|-9999.0|\n",
      "|     US|20160430|   PRCP|         0|-9999.0|-9999.0|\n",
      "|     US|20160430|   PRCP|         0|-9999.0|-9999.0|\n",
      "|     RS|20160430|   PRCP|         0|-9999.0|-9999.0|\n",
      "|     AS|20160430|   PRCP|         0|-9999.0|-9999.0|\n",
      "|     US|20160430|   PRCP|         0|-9999.0|-9999.0|\n",
      "|     US|20160430|   PRCP|         0|-9999.0|-9999.0|\n",
      "|     US|20160430|   PRCP|        10|-9999.0|-9999.0|\n",
      "|     US|20160430|   PRCP|         0|-9999.0|-9999.0|\n",
      "|     NO|20160430|   PRCP|       262|-9999.0|-9999.0|\n",
      "|     US|20160430|   PRCP|       356|-9999.0|-9999.0|\n",
      "|     US|20160430|   PRCP|         0|-9999.0|-9999.0|\n",
      "|     US|20160430|   PRCP|         0|-9999.0|-9999.0|\n",
      "|     US|20160430|   PRCP|        25|-9999.0|-9999.0|\n",
      "|     US|20160430|   PRCP|         0|-9999.0|-9999.0|\n",
      "|     US|20160430|   PRCP|         0|-9999.0|-9999.0|\n",
      "|     US|20160430|   PRCP|         0|-9999.0|-9999.0|\n",
      "|     US|20160430|   PRCP|        25|-9999.0|-9999.0|\n",
      "|     CA|20160430|   PRCP|         0|-9999.0|-9999.0|\n",
      "+-------+--------+-------+----------+-------+-------+\n",
      "only showing top 20 rows\n",
      "\n"
     ]
    }
   ],
   "source": [
    "IDsSubStringed_addedColumns_DF.show()"
   ]
  },
  {
   "cell_type": "code",
   "execution_count": 177,
   "metadata": {},
   "outputs": [
    {
     "name": "stdout",
     "output_type": "stream",
     "text": [
      "root\n",
      " |-- COUNTRY: string (nullable = true)\n",
      " |-- DATE: string (nullable = true)\n",
      " |-- ELEMENT: string (nullable = true)\n",
      " |-- DATA_VALUE: string (nullable = true)\n",
      " |-- PRCP: double (nullable = true)\n",
      " |-- SNOW: double (nullable = true)\n",
      "\n"
     ]
    }
   ],
   "source": [
    "IDsSubStringed_addedColumns_DF.printSchema()"
   ]
  },
  {
   "cell_type": "code",
   "execution_count": 178,
   "metadata": {
    "collapsed": true
   },
   "outputs": [],
   "source": [
    "IDsSubStringed_addedColumns_DF = IDsSubStringed_addedColumns_DF.withColumn('SNWD',IDsSubStringed_addedColumns_DF.DATA_VALUE - IDsSubStringed_addedColumns_DF.DATA_VALUE - 9999)"
   ]
  },
  {
   "cell_type": "code",
   "execution_count": 179,
   "metadata": {},
   "outputs": [
    {
     "name": "stdout",
     "output_type": "stream",
     "text": [
      "+-------+--------+-------+----------+-------+-------+-------+\n",
      "|COUNTRY|    DATE|ELEMENT|DATA_VALUE|   PRCP|   SNOW|   SNWD|\n",
      "+-------+--------+-------+----------+-------+-------+-------+\n",
      "|     RS|20160430|   PRCP|         0|-9999.0|-9999.0|-9999.0|\n",
      "|     US|20160430|   PRCP|         0|-9999.0|-9999.0|-9999.0|\n",
      "|     US|20160430|   PRCP|         0|-9999.0|-9999.0|-9999.0|\n",
      "|     US|20160430|   PRCP|         0|-9999.0|-9999.0|-9999.0|\n",
      "|     RS|20160430|   PRCP|         0|-9999.0|-9999.0|-9999.0|\n",
      "|     AS|20160430|   PRCP|         0|-9999.0|-9999.0|-9999.0|\n",
      "|     US|20160430|   PRCP|         0|-9999.0|-9999.0|-9999.0|\n",
      "|     US|20160430|   PRCP|         0|-9999.0|-9999.0|-9999.0|\n",
      "|     US|20160430|   PRCP|        10|-9999.0|-9999.0|-9999.0|\n",
      "|     US|20160430|   PRCP|         0|-9999.0|-9999.0|-9999.0|\n",
      "|     NO|20160430|   PRCP|       262|-9999.0|-9999.0|-9999.0|\n",
      "|     US|20160430|   PRCP|       356|-9999.0|-9999.0|-9999.0|\n",
      "|     US|20160430|   PRCP|         0|-9999.0|-9999.0|-9999.0|\n",
      "|     US|20160430|   PRCP|         0|-9999.0|-9999.0|-9999.0|\n",
      "|     US|20160430|   PRCP|        25|-9999.0|-9999.0|-9999.0|\n",
      "|     US|20160430|   PRCP|         0|-9999.0|-9999.0|-9999.0|\n",
      "|     US|20160430|   PRCP|         0|-9999.0|-9999.0|-9999.0|\n",
      "|     US|20160430|   PRCP|         0|-9999.0|-9999.0|-9999.0|\n",
      "|     US|20160430|   PRCP|        25|-9999.0|-9999.0|-9999.0|\n",
      "|     CA|20160430|   PRCP|         0|-9999.0|-9999.0|-9999.0|\n",
      "+-------+--------+-------+----------+-------+-------+-------+\n",
      "only showing top 20 rows\n",
      "\n"
     ]
    }
   ],
   "source": [
    "IDsSubStringed_addedColumns_DF.show()"
   ]
  },
  {
   "cell_type": "code",
   "execution_count": 180,
   "metadata": {
    "collapsed": true
   },
   "outputs": [],
   "source": [
    "IDsSubStringed_addedColumns_DF = IDsSubStringed_addedColumns_DF.withColumn('TMAX',IDsSubStringed_addedColumns_DF.DATA_VALUE - IDsSubStringed_addedColumns_DF.DATA_VALUE - 9999)"
   ]
  },
  {
   "cell_type": "code",
   "execution_count": 181,
   "metadata": {},
   "outputs": [
    {
     "name": "stdout",
     "output_type": "stream",
     "text": [
      "+-------+--------+-------+----------+-------+-------+-------+-------+\n",
      "|COUNTRY|    DATE|ELEMENT|DATA_VALUE|   PRCP|   SNOW|   SNWD|   TMAX|\n",
      "+-------+--------+-------+----------+-------+-------+-------+-------+\n",
      "|     RS|20160430|   PRCP|         0|-9999.0|-9999.0|-9999.0|-9999.0|\n",
      "|     US|20160430|   PRCP|         0|-9999.0|-9999.0|-9999.0|-9999.0|\n",
      "|     US|20160430|   PRCP|         0|-9999.0|-9999.0|-9999.0|-9999.0|\n",
      "|     US|20160430|   PRCP|         0|-9999.0|-9999.0|-9999.0|-9999.0|\n",
      "|     RS|20160430|   PRCP|         0|-9999.0|-9999.0|-9999.0|-9999.0|\n",
      "|     AS|20160430|   PRCP|         0|-9999.0|-9999.0|-9999.0|-9999.0|\n",
      "|     US|20160430|   PRCP|         0|-9999.0|-9999.0|-9999.0|-9999.0|\n",
      "|     US|20160430|   PRCP|         0|-9999.0|-9999.0|-9999.0|-9999.0|\n",
      "|     US|20160430|   PRCP|        10|-9999.0|-9999.0|-9999.0|-9999.0|\n",
      "|     US|20160430|   PRCP|         0|-9999.0|-9999.0|-9999.0|-9999.0|\n",
      "|     NO|20160430|   PRCP|       262|-9999.0|-9999.0|-9999.0|-9999.0|\n",
      "|     US|20160430|   PRCP|       356|-9999.0|-9999.0|-9999.0|-9999.0|\n",
      "|     US|20160430|   PRCP|         0|-9999.0|-9999.0|-9999.0|-9999.0|\n",
      "|     US|20160430|   PRCP|         0|-9999.0|-9999.0|-9999.0|-9999.0|\n",
      "|     US|20160430|   PRCP|        25|-9999.0|-9999.0|-9999.0|-9999.0|\n",
      "|     US|20160430|   PRCP|         0|-9999.0|-9999.0|-9999.0|-9999.0|\n",
      "|     US|20160430|   PRCP|         0|-9999.0|-9999.0|-9999.0|-9999.0|\n",
      "|     US|20160430|   PRCP|         0|-9999.0|-9999.0|-9999.0|-9999.0|\n",
      "|     US|20160430|   PRCP|        25|-9999.0|-9999.0|-9999.0|-9999.0|\n",
      "|     CA|20160430|   PRCP|         0|-9999.0|-9999.0|-9999.0|-9999.0|\n",
      "+-------+--------+-------+----------+-------+-------+-------+-------+\n",
      "only showing top 20 rows\n",
      "\n"
     ]
    }
   ],
   "source": [
    "IDsSubStringed_addedColumns_DF.show()"
   ]
  },
  {
   "cell_type": "code",
   "execution_count": 182,
   "metadata": {
    "collapsed": true
   },
   "outputs": [],
   "source": [
    "IDsSubStringed_addedColumns_DF = IDsSubStringed_addedColumns_DF.withColumn('TMIN',IDsSubStringed_addedColumns_DF.DATA_VALUE - IDsSubStringed_addedColumns_DF.DATA_VALUE - 9999)"
   ]
  },
  {
   "cell_type": "code",
   "execution_count": 183,
   "metadata": {},
   "outputs": [
    {
     "name": "stdout",
     "output_type": "stream",
     "text": [
      "+-------+--------+-------+----------+-------+-------+-------+-------+-------+\n",
      "|COUNTRY|    DATE|ELEMENT|DATA_VALUE|   PRCP|   SNOW|   SNWD|   TMAX|   TMIN|\n",
      "+-------+--------+-------+----------+-------+-------+-------+-------+-------+\n",
      "|     RS|20160430|   PRCP|         0|-9999.0|-9999.0|-9999.0|-9999.0|-9999.0|\n",
      "|     US|20160430|   PRCP|         0|-9999.0|-9999.0|-9999.0|-9999.0|-9999.0|\n",
      "|     US|20160430|   PRCP|         0|-9999.0|-9999.0|-9999.0|-9999.0|-9999.0|\n",
      "|     US|20160430|   PRCP|         0|-9999.0|-9999.0|-9999.0|-9999.0|-9999.0|\n",
      "|     RS|20160430|   PRCP|         0|-9999.0|-9999.0|-9999.0|-9999.0|-9999.0|\n",
      "|     AS|20160430|   PRCP|         0|-9999.0|-9999.0|-9999.0|-9999.0|-9999.0|\n",
      "|     US|20160430|   PRCP|         0|-9999.0|-9999.0|-9999.0|-9999.0|-9999.0|\n",
      "|     US|20160430|   PRCP|         0|-9999.0|-9999.0|-9999.0|-9999.0|-9999.0|\n",
      "|     US|20160430|   PRCP|        10|-9999.0|-9999.0|-9999.0|-9999.0|-9999.0|\n",
      "|     US|20160430|   PRCP|         0|-9999.0|-9999.0|-9999.0|-9999.0|-9999.0|\n",
      "|     NO|20160430|   PRCP|       262|-9999.0|-9999.0|-9999.0|-9999.0|-9999.0|\n",
      "|     US|20160430|   PRCP|       356|-9999.0|-9999.0|-9999.0|-9999.0|-9999.0|\n",
      "|     US|20160430|   PRCP|         0|-9999.0|-9999.0|-9999.0|-9999.0|-9999.0|\n",
      "|     US|20160430|   PRCP|         0|-9999.0|-9999.0|-9999.0|-9999.0|-9999.0|\n",
      "|     US|20160430|   PRCP|        25|-9999.0|-9999.0|-9999.0|-9999.0|-9999.0|\n",
      "|     US|20160430|   PRCP|         0|-9999.0|-9999.0|-9999.0|-9999.0|-9999.0|\n",
      "|     US|20160430|   PRCP|         0|-9999.0|-9999.0|-9999.0|-9999.0|-9999.0|\n",
      "|     US|20160430|   PRCP|         0|-9999.0|-9999.0|-9999.0|-9999.0|-9999.0|\n",
      "|     US|20160430|   PRCP|        25|-9999.0|-9999.0|-9999.0|-9999.0|-9999.0|\n",
      "|     CA|20160430|   PRCP|         0|-9999.0|-9999.0|-9999.0|-9999.0|-9999.0|\n",
      "+-------+--------+-------+----------+-------+-------+-------+-------+-------+\n",
      "only showing top 20 rows\n",
      "\n"
     ]
    }
   ],
   "source": [
    "IDsSubStringed_addedColumns_DF.show()"
   ]
  },
  {
   "cell_type": "code",
   "execution_count": 184,
   "metadata": {},
   "outputs": [
    {
     "data": {
      "text/plain": [
       "26185832"
      ]
     },
     "execution_count": 184,
     "metadata": {},
     "output_type": "execute_result"
    }
   ],
   "source": [
    "IDsSubStringed_addedColumns_DF.count()"
   ]
  },
  {
   "cell_type": "code",
   "execution_count": 185,
   "metadata": {
    "collapsed": true
   },
   "outputs": [],
   "source": [
    "#con la instruccion anterior comprobamos que no hemos perdido columnas por el camino"
   ]
  },
  {
   "cell_type": "code",
   "execution_count": 186,
   "metadata": {
    "collapsed": true
   },
   "outputs": [],
   "source": [
    "IDsSubStringed_addedColumns_DF.createOrReplaceTempView(\"2016csvFinalDF_table\")"
   ]
  },
  {
   "cell_type": "code",
   "execution_count": 187,
   "metadata": {},
   "outputs": [
    {
     "name": "stdout",
     "output_type": "stream",
     "text": [
      "+-------+--------+-------+----------+-------+-------+-------+-------+-------+\n",
      "|COUNTRY|    DATE|ELEMENT|DATA_VALUE|   PRCP|   SNOW|   SNWD|   TMAX|   TMIN|\n",
      "+-------+--------+-------+----------+-------+-------+-------+-------+-------+\n",
      "|     RS|20160430|   PRCP|         0|-9999.0|-9999.0|-9999.0|-9999.0|-9999.0|\n",
      "|     US|20160430|   PRCP|         0|-9999.0|-9999.0|-9999.0|-9999.0|-9999.0|\n",
      "|     US|20160430|   PRCP|         0|-9999.0|-9999.0|-9999.0|-9999.0|-9999.0|\n",
      "|     US|20160430|   PRCP|         0|-9999.0|-9999.0|-9999.0|-9999.0|-9999.0|\n",
      "|     RS|20160430|   PRCP|         0|-9999.0|-9999.0|-9999.0|-9999.0|-9999.0|\n",
      "|     AS|20160430|   PRCP|         0|-9999.0|-9999.0|-9999.0|-9999.0|-9999.0|\n",
      "|     US|20160430|   PRCP|         0|-9999.0|-9999.0|-9999.0|-9999.0|-9999.0|\n",
      "|     US|20160430|   PRCP|         0|-9999.0|-9999.0|-9999.0|-9999.0|-9999.0|\n",
      "|     US|20160430|   PRCP|        10|-9999.0|-9999.0|-9999.0|-9999.0|-9999.0|\n",
      "|     US|20160430|   PRCP|         0|-9999.0|-9999.0|-9999.0|-9999.0|-9999.0|\n",
      "|     NO|20160430|   PRCP|       262|-9999.0|-9999.0|-9999.0|-9999.0|-9999.0|\n",
      "|     US|20160430|   PRCP|       356|-9999.0|-9999.0|-9999.0|-9999.0|-9999.0|\n",
      "|     US|20160430|   PRCP|         0|-9999.0|-9999.0|-9999.0|-9999.0|-9999.0|\n",
      "|     US|20160430|   PRCP|         0|-9999.0|-9999.0|-9999.0|-9999.0|-9999.0|\n",
      "|     US|20160430|   PRCP|        25|-9999.0|-9999.0|-9999.0|-9999.0|-9999.0|\n",
      "|     US|20160430|   PRCP|         0|-9999.0|-9999.0|-9999.0|-9999.0|-9999.0|\n",
      "|     US|20160430|   PRCP|         0|-9999.0|-9999.0|-9999.0|-9999.0|-9999.0|\n",
      "|     US|20160430|   PRCP|         0|-9999.0|-9999.0|-9999.0|-9999.0|-9999.0|\n",
      "|     US|20160430|   PRCP|        25|-9999.0|-9999.0|-9999.0|-9999.0|-9999.0|\n",
      "|     CA|20160430|   PRCP|         0|-9999.0|-9999.0|-9999.0|-9999.0|-9999.0|\n",
      "+-------+--------+-------+----------+-------+-------+-------+-------+-------+\n",
      "only showing top 20 rows\n",
      "\n"
     ]
    }
   ],
   "source": [
    "spark.sql(\"SELECT * FROM 2016csvFinalDF_table\").show()"
   ]
  },
  {
   "cell_type": "code",
   "execution_count": 198,
   "metadata": {},
   "outputs": [
    {
     "ename": "ParseException",
     "evalue": "u\"\\nno viable alternative at input 'ALTER TABLE 2016csvFinalDF_table ALTER'(line 1, pos 33)\\n\\n== SQL ==\\nALTER TABLE 2016csvFinalDF_table ALTER COLUMN 2016csvFinalDF_table.DATA_VALUE DOUBLE\\n---------------------------------^^^\\n\"",
     "output_type": "error",
     "traceback": [
      "\u001b[0;31m---------------------------------------------------------------------------\u001b[0m",
      "\u001b[0;31mParseException\u001b[0m                            Traceback (most recent call last)",
      "\u001b[0;32m<ipython-input-198-b4b3ab33f9d1>\u001b[0m in \u001b[0;36m<module>\u001b[0;34m()\u001b[0m\n\u001b[0;32m----> 1\u001b[0;31m \u001b[0mspark\u001b[0m\u001b[0;34m.\u001b[0m\u001b[0msql\u001b[0m\u001b[0;34m(\u001b[0m\u001b[0;34m\"ALTER TABLE 2016csvFinalDF_table ALTER COLUMN 2016csvFinalDF_table.DATA_VALUE DOUBLE\"\u001b[0m\u001b[0;34m)\u001b[0m\u001b[0;34m\u001b[0m\u001b[0m\n\u001b[0m",
      "\u001b[0;32m/home/utad/spark-2.2.0-bin-hadoop2.7/python/pyspark/sql/session.pyc\u001b[0m in \u001b[0;36msql\u001b[0;34m(self, sqlQuery)\u001b[0m\n\u001b[1;32m    554\u001b[0m         \u001b[0;34m[\u001b[0m\u001b[0mRow\u001b[0m\u001b[0;34m(\u001b[0m\u001b[0mf1\u001b[0m\u001b[0;34m=\u001b[0m\u001b[0;36m1\u001b[0m\u001b[0;34m,\u001b[0m \u001b[0mf2\u001b[0m\u001b[0;34m=\u001b[0m\u001b[0;34mu'row1'\u001b[0m\u001b[0;34m)\u001b[0m\u001b[0;34m,\u001b[0m \u001b[0mRow\u001b[0m\u001b[0;34m(\u001b[0m\u001b[0mf1\u001b[0m\u001b[0;34m=\u001b[0m\u001b[0;36m2\u001b[0m\u001b[0;34m,\u001b[0m \u001b[0mf2\u001b[0m\u001b[0;34m=\u001b[0m\u001b[0;34mu'row2'\u001b[0m\u001b[0;34m)\u001b[0m\u001b[0;34m,\u001b[0m \u001b[0mRow\u001b[0m\u001b[0;34m(\u001b[0m\u001b[0mf1\u001b[0m\u001b[0;34m=\u001b[0m\u001b[0;36m3\u001b[0m\u001b[0;34m,\u001b[0m \u001b[0mf2\u001b[0m\u001b[0;34m=\u001b[0m\u001b[0;34mu'row3'\u001b[0m\u001b[0;34m)\u001b[0m\u001b[0;34m]\u001b[0m\u001b[0;34m\u001b[0m\u001b[0m\n\u001b[1;32m    555\u001b[0m         \"\"\"\n\u001b[0;32m--> 556\u001b[0;31m         \u001b[0;32mreturn\u001b[0m \u001b[0mDataFrame\u001b[0m\u001b[0;34m(\u001b[0m\u001b[0mself\u001b[0m\u001b[0;34m.\u001b[0m\u001b[0m_jsparkSession\u001b[0m\u001b[0;34m.\u001b[0m\u001b[0msql\u001b[0m\u001b[0;34m(\u001b[0m\u001b[0msqlQuery\u001b[0m\u001b[0;34m)\u001b[0m\u001b[0;34m,\u001b[0m \u001b[0mself\u001b[0m\u001b[0;34m.\u001b[0m\u001b[0m_wrapped\u001b[0m\u001b[0;34m)\u001b[0m\u001b[0;34m\u001b[0m\u001b[0m\n\u001b[0m\u001b[1;32m    557\u001b[0m \u001b[0;34m\u001b[0m\u001b[0m\n\u001b[1;32m    558\u001b[0m     \u001b[0;34m@\u001b[0m\u001b[0msince\u001b[0m\u001b[0;34m(\u001b[0m\u001b[0;36m2.0\u001b[0m\u001b[0;34m)\u001b[0m\u001b[0;34m\u001b[0m\u001b[0m\n",
      "\u001b[0;32m/home/utad/spark-2.2.0-bin-hadoop2.7/python/lib/py4j-0.10.4-src.zip/py4j/java_gateway.py\u001b[0m in \u001b[0;36m__call__\u001b[0;34m(self, *args)\u001b[0m\n\u001b[1;32m   1131\u001b[0m         \u001b[0manswer\u001b[0m \u001b[0;34m=\u001b[0m \u001b[0mself\u001b[0m\u001b[0;34m.\u001b[0m\u001b[0mgateway_client\u001b[0m\u001b[0;34m.\u001b[0m\u001b[0msend_command\u001b[0m\u001b[0;34m(\u001b[0m\u001b[0mcommand\u001b[0m\u001b[0;34m)\u001b[0m\u001b[0;34m\u001b[0m\u001b[0m\n\u001b[1;32m   1132\u001b[0m         return_value = get_return_value(\n\u001b[0;32m-> 1133\u001b[0;31m             answer, self.gateway_client, self.target_id, self.name)\n\u001b[0m\u001b[1;32m   1134\u001b[0m \u001b[0;34m\u001b[0m\u001b[0m\n\u001b[1;32m   1135\u001b[0m         \u001b[0;32mfor\u001b[0m \u001b[0mtemp_arg\u001b[0m \u001b[0;32min\u001b[0m \u001b[0mtemp_args\u001b[0m\u001b[0;34m:\u001b[0m\u001b[0;34m\u001b[0m\u001b[0m\n",
      "\u001b[0;32m/home/utad/spark-2.2.0-bin-hadoop2.7/python/pyspark/sql/utils.pyc\u001b[0m in \u001b[0;36mdeco\u001b[0;34m(*a, **kw)\u001b[0m\n\u001b[1;32m     71\u001b[0m                 \u001b[0;32mraise\u001b[0m \u001b[0mAnalysisException\u001b[0m\u001b[0;34m(\u001b[0m\u001b[0ms\u001b[0m\u001b[0;34m.\u001b[0m\u001b[0msplit\u001b[0m\u001b[0;34m(\u001b[0m\u001b[0;34m': '\u001b[0m\u001b[0;34m,\u001b[0m \u001b[0;36m1\u001b[0m\u001b[0;34m)\u001b[0m\u001b[0;34m[\u001b[0m\u001b[0;36m1\u001b[0m\u001b[0;34m]\u001b[0m\u001b[0;34m,\u001b[0m \u001b[0mstackTrace\u001b[0m\u001b[0;34m)\u001b[0m\u001b[0;34m\u001b[0m\u001b[0m\n\u001b[1;32m     72\u001b[0m             \u001b[0;32mif\u001b[0m \u001b[0ms\u001b[0m\u001b[0;34m.\u001b[0m\u001b[0mstartswith\u001b[0m\u001b[0;34m(\u001b[0m\u001b[0;34m'org.apache.spark.sql.catalyst.parser.ParseException: '\u001b[0m\u001b[0;34m)\u001b[0m\u001b[0;34m:\u001b[0m\u001b[0;34m\u001b[0m\u001b[0m\n\u001b[0;32m---> 73\u001b[0;31m                 \u001b[0;32mraise\u001b[0m \u001b[0mParseException\u001b[0m\u001b[0;34m(\u001b[0m\u001b[0ms\u001b[0m\u001b[0;34m.\u001b[0m\u001b[0msplit\u001b[0m\u001b[0;34m(\u001b[0m\u001b[0;34m': '\u001b[0m\u001b[0;34m,\u001b[0m \u001b[0;36m1\u001b[0m\u001b[0;34m)\u001b[0m\u001b[0;34m[\u001b[0m\u001b[0;36m1\u001b[0m\u001b[0;34m]\u001b[0m\u001b[0;34m,\u001b[0m \u001b[0mstackTrace\u001b[0m\u001b[0;34m)\u001b[0m\u001b[0;34m\u001b[0m\u001b[0m\n\u001b[0m\u001b[1;32m     74\u001b[0m             \u001b[0;32mif\u001b[0m \u001b[0ms\u001b[0m\u001b[0;34m.\u001b[0m\u001b[0mstartswith\u001b[0m\u001b[0;34m(\u001b[0m\u001b[0;34m'org.apache.spark.sql.streaming.StreamingQueryException: '\u001b[0m\u001b[0;34m)\u001b[0m\u001b[0;34m:\u001b[0m\u001b[0;34m\u001b[0m\u001b[0m\n\u001b[1;32m     75\u001b[0m                 \u001b[0;32mraise\u001b[0m \u001b[0mStreamingQueryException\u001b[0m\u001b[0;34m(\u001b[0m\u001b[0ms\u001b[0m\u001b[0;34m.\u001b[0m\u001b[0msplit\u001b[0m\u001b[0;34m(\u001b[0m\u001b[0;34m': '\u001b[0m\u001b[0;34m,\u001b[0m \u001b[0;36m1\u001b[0m\u001b[0;34m)\u001b[0m\u001b[0;34m[\u001b[0m\u001b[0;36m1\u001b[0m\u001b[0;34m]\u001b[0m\u001b[0;34m,\u001b[0m \u001b[0mstackTrace\u001b[0m\u001b[0;34m)\u001b[0m\u001b[0;34m\u001b[0m\u001b[0m\n",
      "\u001b[0;31mParseException\u001b[0m: u\"\\nno viable alternative at input 'ALTER TABLE 2016csvFinalDF_table ALTER'(line 1, pos 33)\\n\\n== SQL ==\\nALTER TABLE 2016csvFinalDF_table ALTER COLUMN 2016csvFinalDF_table.DATA_VALUE DOUBLE\\n---------------------------------^^^\\n\""
     ]
    }
   ],
   "source": [
    "spark.sql(\"ALTER TABLE 2016csvFinalDF_table ALTER COLUMN 2016csvFinalDF_table.DATA_VALUE DOUBLE\")"
   ]
  },
  {
   "cell_type": "code",
   "execution_count": 199,
   "metadata": {},
   "outputs": [
    {
     "name": "stdout",
     "output_type": "stream",
     "text": [
      "+-------+--------+-------+----------+-------+-------+-------+-------+-------+\n",
      "|COUNTRY|    DATE|ELEMENT|DATA_VALUE|   PRCP|   SNOW|   SNWD|   TMAX|   TMIN|\n",
      "+-------+--------+-------+----------+-------+-------+-------+-------+-------+\n",
      "|     RS|20160430|   PRCP|         0|-9999.0|-9999.0|-9999.0|-9999.0|-9999.0|\n",
      "|     US|20160430|   PRCP|         0|-9999.0|-9999.0|-9999.0|-9999.0|-9999.0|\n",
      "|     US|20160430|   PRCP|         0|-9999.0|-9999.0|-9999.0|-9999.0|-9999.0|\n",
      "|     US|20160430|   PRCP|         0|-9999.0|-9999.0|-9999.0|-9999.0|-9999.0|\n",
      "|     RS|20160430|   PRCP|         0|-9999.0|-9999.0|-9999.0|-9999.0|-9999.0|\n",
      "|     AS|20160430|   PRCP|         0|-9999.0|-9999.0|-9999.0|-9999.0|-9999.0|\n",
      "|     US|20160430|   PRCP|         0|-9999.0|-9999.0|-9999.0|-9999.0|-9999.0|\n",
      "|     US|20160430|   PRCP|         0|-9999.0|-9999.0|-9999.0|-9999.0|-9999.0|\n",
      "|     US|20160430|   PRCP|        10|-9999.0|-9999.0|-9999.0|-9999.0|-9999.0|\n",
      "|     US|20160430|   PRCP|         0|-9999.0|-9999.0|-9999.0|-9999.0|-9999.0|\n",
      "|     NO|20160430|   PRCP|       262|-9999.0|-9999.0|-9999.0|-9999.0|-9999.0|\n",
      "|     US|20160430|   PRCP|       356|-9999.0|-9999.0|-9999.0|-9999.0|-9999.0|\n",
      "|     US|20160430|   PRCP|         0|-9999.0|-9999.0|-9999.0|-9999.0|-9999.0|\n",
      "|     US|20160430|   PRCP|         0|-9999.0|-9999.0|-9999.0|-9999.0|-9999.0|\n",
      "|     US|20160430|   PRCP|        25|-9999.0|-9999.0|-9999.0|-9999.0|-9999.0|\n",
      "|     US|20160430|   PRCP|         0|-9999.0|-9999.0|-9999.0|-9999.0|-9999.0|\n",
      "|     US|20160430|   PRCP|         0|-9999.0|-9999.0|-9999.0|-9999.0|-9999.0|\n",
      "|     US|20160430|   PRCP|         0|-9999.0|-9999.0|-9999.0|-9999.0|-9999.0|\n",
      "|     US|20160430|   PRCP|        25|-9999.0|-9999.0|-9999.0|-9999.0|-9999.0|\n",
      "|     CA|20160430|   PRCP|         0|-9999.0|-9999.0|-9999.0|-9999.0|-9999.0|\n",
      "+-------+--------+-------+----------+-------+-------+-------+-------+-------+\n",
      "only showing top 20 rows\n",
      "\n"
     ]
    }
   ],
   "source": [
    "IDsSubStringed_addedColumns_DF.show()"
   ]
  },
  {
   "cell_type": "code",
   "execution_count": 201,
   "metadata": {
    "collapsed": true
   },
   "outputs": [],
   "source": [
    "year2016csvPRCP_updated_DF=IDsSubStringed_addedColumns_DF.where(IDsSubStringed_addedColumns_DF.ELEMENT==\"PRCP\")"
   ]
  },
  {
   "cell_type": "code",
   "execution_count": 202,
   "metadata": {},
   "outputs": [
    {
     "name": "stdout",
     "output_type": "stream",
     "text": [
      "+-------+--------+-------+----------+-------+-------+-------+-------+-------+\n",
      "|COUNTRY|    DATE|ELEMENT|DATA_VALUE|   PRCP|   SNOW|   SNWD|   TMAX|   TMIN|\n",
      "+-------+--------+-------+----------+-------+-------+-------+-------+-------+\n",
      "|     RS|20160430|   PRCP|         0|-9999.0|-9999.0|-9999.0|-9999.0|-9999.0|\n",
      "|     US|20160430|   PRCP|         0|-9999.0|-9999.0|-9999.0|-9999.0|-9999.0|\n",
      "|     US|20160430|   PRCP|         0|-9999.0|-9999.0|-9999.0|-9999.0|-9999.0|\n",
      "|     US|20160430|   PRCP|         0|-9999.0|-9999.0|-9999.0|-9999.0|-9999.0|\n",
      "|     RS|20160430|   PRCP|         0|-9999.0|-9999.0|-9999.0|-9999.0|-9999.0|\n",
      "|     AS|20160430|   PRCP|         0|-9999.0|-9999.0|-9999.0|-9999.0|-9999.0|\n",
      "|     US|20160430|   PRCP|         0|-9999.0|-9999.0|-9999.0|-9999.0|-9999.0|\n",
      "|     US|20160430|   PRCP|         0|-9999.0|-9999.0|-9999.0|-9999.0|-9999.0|\n",
      "|     US|20160430|   PRCP|        10|-9999.0|-9999.0|-9999.0|-9999.0|-9999.0|\n",
      "|     US|20160430|   PRCP|         0|-9999.0|-9999.0|-9999.0|-9999.0|-9999.0|\n",
      "|     NO|20160430|   PRCP|       262|-9999.0|-9999.0|-9999.0|-9999.0|-9999.0|\n",
      "|     US|20160430|   PRCP|       356|-9999.0|-9999.0|-9999.0|-9999.0|-9999.0|\n",
      "|     US|20160430|   PRCP|         0|-9999.0|-9999.0|-9999.0|-9999.0|-9999.0|\n",
      "|     US|20160430|   PRCP|         0|-9999.0|-9999.0|-9999.0|-9999.0|-9999.0|\n",
      "|     US|20160430|   PRCP|        25|-9999.0|-9999.0|-9999.0|-9999.0|-9999.0|\n",
      "|     US|20160430|   PRCP|         0|-9999.0|-9999.0|-9999.0|-9999.0|-9999.0|\n",
      "|     US|20160430|   PRCP|         0|-9999.0|-9999.0|-9999.0|-9999.0|-9999.0|\n",
      "|     US|20160430|   PRCP|         0|-9999.0|-9999.0|-9999.0|-9999.0|-9999.0|\n",
      "|     US|20160430|   PRCP|        25|-9999.0|-9999.0|-9999.0|-9999.0|-9999.0|\n",
      "|     CA|20160430|   PRCP|         0|-9999.0|-9999.0|-9999.0|-9999.0|-9999.0|\n",
      "+-------+--------+-------+----------+-------+-------+-------+-------+-------+\n",
      "only showing top 20 rows\n",
      "\n"
     ]
    }
   ],
   "source": [
    "year2016csvPRCP_updated_DF.show()"
   ]
  },
  {
   "cell_type": "code",
   "execution_count": 216,
   "metadata": {
    "collapsed": true
   },
   "outputs": [],
   "source": [
    "year2016csvPRCP_updated_DF=year2016csvPRCP_updated_DF.drop('PRCP')"
   ]
  },
  {
   "cell_type": "code",
   "execution_count": 218,
   "metadata": {},
   "outputs": [
    {
     "name": "stdout",
     "output_type": "stream",
     "text": [
      "+-------+--------+-------+----------+-------+-------+-------+-------+\n",
      "|COUNTRY|    DATE|ELEMENT|DATA_VALUE|   SNOW|   SNWD|   TMAX|   TMIN|\n",
      "+-------+--------+-------+----------+-------+-------+-------+-------+\n",
      "|     RS|20160430|   PRCP|         0|-9999.0|-9999.0|-9999.0|-9999.0|\n",
      "|     US|20160430|   PRCP|         0|-9999.0|-9999.0|-9999.0|-9999.0|\n",
      "|     US|20160430|   PRCP|         0|-9999.0|-9999.0|-9999.0|-9999.0|\n",
      "|     US|20160430|   PRCP|         0|-9999.0|-9999.0|-9999.0|-9999.0|\n",
      "|     RS|20160430|   PRCP|         0|-9999.0|-9999.0|-9999.0|-9999.0|\n",
      "|     AS|20160430|   PRCP|         0|-9999.0|-9999.0|-9999.0|-9999.0|\n",
      "|     US|20160430|   PRCP|         0|-9999.0|-9999.0|-9999.0|-9999.0|\n",
      "|     US|20160430|   PRCP|         0|-9999.0|-9999.0|-9999.0|-9999.0|\n",
      "|     US|20160430|   PRCP|        10|-9999.0|-9999.0|-9999.0|-9999.0|\n",
      "|     US|20160430|   PRCP|         0|-9999.0|-9999.0|-9999.0|-9999.0|\n",
      "|     NO|20160430|   PRCP|       262|-9999.0|-9999.0|-9999.0|-9999.0|\n",
      "|     US|20160430|   PRCP|       356|-9999.0|-9999.0|-9999.0|-9999.0|\n",
      "|     US|20160430|   PRCP|         0|-9999.0|-9999.0|-9999.0|-9999.0|\n",
      "|     US|20160430|   PRCP|         0|-9999.0|-9999.0|-9999.0|-9999.0|\n",
      "|     US|20160430|   PRCP|        25|-9999.0|-9999.0|-9999.0|-9999.0|\n",
      "|     US|20160430|   PRCP|         0|-9999.0|-9999.0|-9999.0|-9999.0|\n",
      "|     US|20160430|   PRCP|         0|-9999.0|-9999.0|-9999.0|-9999.0|\n",
      "|     US|20160430|   PRCP|         0|-9999.0|-9999.0|-9999.0|-9999.0|\n",
      "|     US|20160430|   PRCP|        25|-9999.0|-9999.0|-9999.0|-9999.0|\n",
      "|     CA|20160430|   PRCP|         0|-9999.0|-9999.0|-9999.0|-9999.0|\n",
      "+-------+--------+-------+----------+-------+-------+-------+-------+\n",
      "only showing top 20 rows\n",
      "\n"
     ]
    }
   ],
   "source": [
    "year2016csvPRCP_updated_DF.show()"
   ]
  },
  {
   "cell_type": "code",
   "execution_count": 220,
   "metadata": {
    "collapsed": true
   },
   "outputs": [],
   "source": [
    "year2016csvPRCP_updated_DF=year2016csvPRCP_updated_DF.withColumnRenamed('DATA_VALUE','PRCP')"
   ]
  },
  {
   "cell_type": "code",
   "execution_count": 221,
   "metadata": {},
   "outputs": [
    {
     "name": "stdout",
     "output_type": "stream",
     "text": [
      "+-------+--------+-------+----+-------+-------+-------+-------+\n",
      "|COUNTRY|    DATE|ELEMENT|PRCP|   SNOW|   SNWD|   TMAX|   TMIN|\n",
      "+-------+--------+-------+----+-------+-------+-------+-------+\n",
      "|     RS|20160430|   PRCP|   0|-9999.0|-9999.0|-9999.0|-9999.0|\n",
      "|     US|20160430|   PRCP|   0|-9999.0|-9999.0|-9999.0|-9999.0|\n",
      "|     US|20160430|   PRCP|   0|-9999.0|-9999.0|-9999.0|-9999.0|\n",
      "|     US|20160430|   PRCP|   0|-9999.0|-9999.0|-9999.0|-9999.0|\n",
      "|     RS|20160430|   PRCP|   0|-9999.0|-9999.0|-9999.0|-9999.0|\n",
      "|     AS|20160430|   PRCP|   0|-9999.0|-9999.0|-9999.0|-9999.0|\n",
      "|     US|20160430|   PRCP|   0|-9999.0|-9999.0|-9999.0|-9999.0|\n",
      "|     US|20160430|   PRCP|   0|-9999.0|-9999.0|-9999.0|-9999.0|\n",
      "|     US|20160430|   PRCP|  10|-9999.0|-9999.0|-9999.0|-9999.0|\n",
      "|     US|20160430|   PRCP|   0|-9999.0|-9999.0|-9999.0|-9999.0|\n",
      "|     NO|20160430|   PRCP| 262|-9999.0|-9999.0|-9999.0|-9999.0|\n",
      "|     US|20160430|   PRCP| 356|-9999.0|-9999.0|-9999.0|-9999.0|\n",
      "|     US|20160430|   PRCP|   0|-9999.0|-9999.0|-9999.0|-9999.0|\n",
      "|     US|20160430|   PRCP|   0|-9999.0|-9999.0|-9999.0|-9999.0|\n",
      "|     US|20160430|   PRCP|  25|-9999.0|-9999.0|-9999.0|-9999.0|\n",
      "|     US|20160430|   PRCP|   0|-9999.0|-9999.0|-9999.0|-9999.0|\n",
      "|     US|20160430|   PRCP|   0|-9999.0|-9999.0|-9999.0|-9999.0|\n",
      "|     US|20160430|   PRCP|   0|-9999.0|-9999.0|-9999.0|-9999.0|\n",
      "|     US|20160430|   PRCP|  25|-9999.0|-9999.0|-9999.0|-9999.0|\n",
      "|     CA|20160430|   PRCP|   0|-9999.0|-9999.0|-9999.0|-9999.0|\n",
      "+-------+--------+-------+----+-------+-------+-------+-------+\n",
      "only showing top 20 rows\n",
      "\n"
     ]
    }
   ],
   "source": [
    "year2016csvPRCP_updated_DF.show()"
   ]
  },
  {
   "cell_type": "code",
   "execution_count": 222,
   "metadata": {
    "collapsed": true
   },
   "outputs": [],
   "source": [
    "year2016csvSNOW_updated_DF=IDsSubStringed_addedColumns_DF.where(IDsSubStringed_addedColumns_DF.ELEMENT==\"SNOW\")"
   ]
  },
  {
   "cell_type": "code",
   "execution_count": 223,
   "metadata": {},
   "outputs": [
    {
     "name": "stdout",
     "output_type": "stream",
     "text": [
      "+-------+--------+-------+----------+-------+-------+-------+-------+-------+\n",
      "|COUNTRY|    DATE|ELEMENT|DATA_VALUE|   PRCP|   SNOW|   SNWD|   TMAX|   TMIN|\n",
      "+-------+--------+-------+----------+-------+-------+-------+-------+-------+\n",
      "|     CA|20160101|   SNOW|         0|-9999.0|-9999.0|-9999.0|-9999.0|-9999.0|\n",
      "|     US|20160101|   SNOW|         0|-9999.0|-9999.0|-9999.0|-9999.0|-9999.0|\n",
      "|     US|20160101|   SNOW|         0|-9999.0|-9999.0|-9999.0|-9999.0|-9999.0|\n",
      "|     US|20160101|   SNOW|         5|-9999.0|-9999.0|-9999.0|-9999.0|-9999.0|\n",
      "|     CA|20160101|   SNOW|        20|-9999.0|-9999.0|-9999.0|-9999.0|-9999.0|\n",
      "|     US|20160101|   SNOW|         0|-9999.0|-9999.0|-9999.0|-9999.0|-9999.0|\n",
      "|     US|20160101|   SNOW|         0|-9999.0|-9999.0|-9999.0|-9999.0|-9999.0|\n",
      "|     US|20160101|   SNOW|         0|-9999.0|-9999.0|-9999.0|-9999.0|-9999.0|\n",
      "|     US|20160101|   SNOW|         0|-9999.0|-9999.0|-9999.0|-9999.0|-9999.0|\n",
      "|     US|20160101|   SNOW|         0|-9999.0|-9999.0|-9999.0|-9999.0|-9999.0|\n",
      "|     US|20160101|   SNOW|         0|-9999.0|-9999.0|-9999.0|-9999.0|-9999.0|\n",
      "|     US|20160101|   SNOW|         0|-9999.0|-9999.0|-9999.0|-9999.0|-9999.0|\n",
      "|     US|20160101|   SNOW|         0|-9999.0|-9999.0|-9999.0|-9999.0|-9999.0|\n",
      "|     CA|20160101|   SNOW|         0|-9999.0|-9999.0|-9999.0|-9999.0|-9999.0|\n",
      "|     US|20160101|   SNOW|         0|-9999.0|-9999.0|-9999.0|-9999.0|-9999.0|\n",
      "|     US|20160101|   SNOW|         0|-9999.0|-9999.0|-9999.0|-9999.0|-9999.0|\n",
      "|     US|20160101|   SNOW|         0|-9999.0|-9999.0|-9999.0|-9999.0|-9999.0|\n",
      "|     US|20160101|   SNOW|         0|-9999.0|-9999.0|-9999.0|-9999.0|-9999.0|\n",
      "|     US|20160101|   SNOW|         0|-9999.0|-9999.0|-9999.0|-9999.0|-9999.0|\n",
      "|     US|20160101|   SNOW|         0|-9999.0|-9999.0|-9999.0|-9999.0|-9999.0|\n",
      "+-------+--------+-------+----------+-------+-------+-------+-------+-------+\n",
      "only showing top 20 rows\n",
      "\n"
     ]
    }
   ],
   "source": [
    "year2016csvSNOW_updated_DF.show()"
   ]
  },
  {
   "cell_type": "code",
   "execution_count": 224,
   "metadata": {
    "collapsed": true
   },
   "outputs": [],
   "source": [
    "year2016csvSNOW_updated_DF=year2016csvSNOW_updated_DF.drop('SNOW')"
   ]
  },
  {
   "cell_type": "code",
   "execution_count": 225,
   "metadata": {},
   "outputs": [
    {
     "name": "stdout",
     "output_type": "stream",
     "text": [
      "+-------+--------+-------+----------+-------+-------+-------+-------+\n",
      "|COUNTRY|    DATE|ELEMENT|DATA_VALUE|   PRCP|   SNWD|   TMAX|   TMIN|\n",
      "+-------+--------+-------+----------+-------+-------+-------+-------+\n",
      "|     CA|20160101|   SNOW|         0|-9999.0|-9999.0|-9999.0|-9999.0|\n",
      "|     US|20160101|   SNOW|         0|-9999.0|-9999.0|-9999.0|-9999.0|\n",
      "|     US|20160101|   SNOW|         0|-9999.0|-9999.0|-9999.0|-9999.0|\n",
      "|     US|20160101|   SNOW|         5|-9999.0|-9999.0|-9999.0|-9999.0|\n",
      "|     CA|20160101|   SNOW|        20|-9999.0|-9999.0|-9999.0|-9999.0|\n",
      "|     US|20160101|   SNOW|         0|-9999.0|-9999.0|-9999.0|-9999.0|\n",
      "|     US|20160101|   SNOW|         0|-9999.0|-9999.0|-9999.0|-9999.0|\n",
      "|     US|20160101|   SNOW|         0|-9999.0|-9999.0|-9999.0|-9999.0|\n",
      "|     US|20160101|   SNOW|         0|-9999.0|-9999.0|-9999.0|-9999.0|\n",
      "|     US|20160101|   SNOW|         0|-9999.0|-9999.0|-9999.0|-9999.0|\n",
      "|     US|20160101|   SNOW|         0|-9999.0|-9999.0|-9999.0|-9999.0|\n",
      "|     US|20160101|   SNOW|         0|-9999.0|-9999.0|-9999.0|-9999.0|\n",
      "|     US|20160101|   SNOW|         0|-9999.0|-9999.0|-9999.0|-9999.0|\n",
      "|     CA|20160101|   SNOW|         0|-9999.0|-9999.0|-9999.0|-9999.0|\n",
      "|     US|20160101|   SNOW|         0|-9999.0|-9999.0|-9999.0|-9999.0|\n",
      "|     US|20160101|   SNOW|         0|-9999.0|-9999.0|-9999.0|-9999.0|\n",
      "|     US|20160101|   SNOW|         0|-9999.0|-9999.0|-9999.0|-9999.0|\n",
      "|     US|20160101|   SNOW|         0|-9999.0|-9999.0|-9999.0|-9999.0|\n",
      "|     US|20160101|   SNOW|         0|-9999.0|-9999.0|-9999.0|-9999.0|\n",
      "|     US|20160101|   SNOW|         0|-9999.0|-9999.0|-9999.0|-9999.0|\n",
      "+-------+--------+-------+----------+-------+-------+-------+-------+\n",
      "only showing top 20 rows\n",
      "\n"
     ]
    }
   ],
   "source": [
    "year2016csvSNOW_updated_DF.show()"
   ]
  },
  {
   "cell_type": "code",
   "execution_count": 226,
   "metadata": {
    "collapsed": true
   },
   "outputs": [],
   "source": [
    "year2016csvSNOW_updated_DF=year2016csvSNOW_updated_DF.withColumnRenamed('DATA_VALUE','SNOW')"
   ]
  },
  {
   "cell_type": "code",
   "execution_count": 228,
   "metadata": {},
   "outputs": [
    {
     "data": {
      "text/plain": [
       "[Row(COUNTRY=u'CA', DATE=u'20160101', ELEMENT=u'SNOW', SNOW=u'0', PRCP=-9999.0, SNWD=-9999.0, TMAX=-9999.0, TMIN=-9999.0),\n",
       " Row(COUNTRY=u'US', DATE=u'20160101', ELEMENT=u'SNOW', SNOW=u'0', PRCP=-9999.0, SNWD=-9999.0, TMAX=-9999.0, TMIN=-9999.0),\n",
       " Row(COUNTRY=u'US', DATE=u'20160101', ELEMENT=u'SNOW', SNOW=u'0', PRCP=-9999.0, SNWD=-9999.0, TMAX=-9999.0, TMIN=-9999.0),\n",
       " Row(COUNTRY=u'US', DATE=u'20160101', ELEMENT=u'SNOW', SNOW=u'5', PRCP=-9999.0, SNWD=-9999.0, TMAX=-9999.0, TMIN=-9999.0),\n",
       " Row(COUNTRY=u'CA', DATE=u'20160101', ELEMENT=u'SNOW', SNOW=u'20', PRCP=-9999.0, SNWD=-9999.0, TMAX=-9999.0, TMIN=-9999.0),\n",
       " Row(COUNTRY=u'US', DATE=u'20160101', ELEMENT=u'SNOW', SNOW=u'0', PRCP=-9999.0, SNWD=-9999.0, TMAX=-9999.0, TMIN=-9999.0),\n",
       " Row(COUNTRY=u'US', DATE=u'20160101', ELEMENT=u'SNOW', SNOW=u'0', PRCP=-9999.0, SNWD=-9999.0, TMAX=-9999.0, TMIN=-9999.0),\n",
       " Row(COUNTRY=u'US', DATE=u'20160101', ELEMENT=u'SNOW', SNOW=u'0', PRCP=-9999.0, SNWD=-9999.0, TMAX=-9999.0, TMIN=-9999.0),\n",
       " Row(COUNTRY=u'US', DATE=u'20160101', ELEMENT=u'SNOW', SNOW=u'0', PRCP=-9999.0, SNWD=-9999.0, TMAX=-9999.0, TMIN=-9999.0),\n",
       " Row(COUNTRY=u'US', DATE=u'20160101', ELEMENT=u'SNOW', SNOW=u'0', PRCP=-9999.0, SNWD=-9999.0, TMAX=-9999.0, TMIN=-9999.0),\n",
       " Row(COUNTRY=u'US', DATE=u'20160101', ELEMENT=u'SNOW', SNOW=u'0', PRCP=-9999.0, SNWD=-9999.0, TMAX=-9999.0, TMIN=-9999.0),\n",
       " Row(COUNTRY=u'US', DATE=u'20160101', ELEMENT=u'SNOW', SNOW=u'0', PRCP=-9999.0, SNWD=-9999.0, TMAX=-9999.0, TMIN=-9999.0),\n",
       " Row(COUNTRY=u'US', DATE=u'20160101', ELEMENT=u'SNOW', SNOW=u'0', PRCP=-9999.0, SNWD=-9999.0, TMAX=-9999.0, TMIN=-9999.0),\n",
       " Row(COUNTRY=u'CA', DATE=u'20160101', ELEMENT=u'SNOW', SNOW=u'0', PRCP=-9999.0, SNWD=-9999.0, TMAX=-9999.0, TMIN=-9999.0),\n",
       " Row(COUNTRY=u'US', DATE=u'20160101', ELEMENT=u'SNOW', SNOW=u'0', PRCP=-9999.0, SNWD=-9999.0, TMAX=-9999.0, TMIN=-9999.0),\n",
       " Row(COUNTRY=u'US', DATE=u'20160101', ELEMENT=u'SNOW', SNOW=u'0', PRCP=-9999.0, SNWD=-9999.0, TMAX=-9999.0, TMIN=-9999.0),\n",
       " Row(COUNTRY=u'US', DATE=u'20160101', ELEMENT=u'SNOW', SNOW=u'0', PRCP=-9999.0, SNWD=-9999.0, TMAX=-9999.0, TMIN=-9999.0),\n",
       " Row(COUNTRY=u'US', DATE=u'20160101', ELEMENT=u'SNOW', SNOW=u'0', PRCP=-9999.0, SNWD=-9999.0, TMAX=-9999.0, TMIN=-9999.0),\n",
       " Row(COUNTRY=u'US', DATE=u'20160101', ELEMENT=u'SNOW', SNOW=u'0', PRCP=-9999.0, SNWD=-9999.0, TMAX=-9999.0, TMIN=-9999.0),\n",
       " Row(COUNTRY=u'US', DATE=u'20160101', ELEMENT=u'SNOW', SNOW=u'0', PRCP=-9999.0, SNWD=-9999.0, TMAX=-9999.0, TMIN=-9999.0)]"
      ]
     },
     "execution_count": 228,
     "metadata": {},
     "output_type": "execute_result"
    }
   ],
   "source": [
    "year2016csvSNOW_updated_DF.take(20)"
   ]
  },
  {
   "cell_type": "code",
   "execution_count": 231,
   "metadata": {
    "scrolled": true
   },
   "outputs": [
    {
     "name": "stdout",
     "output_type": "stream",
     "text": [
      "root\n",
      " |-- COUNTRY: string (nullable = true)\n",
      " |-- DATE: string (nullable = true)\n",
      " |-- ELEMENT: string (nullable = true)\n",
      " |-- SNOW: string (nullable = true)\n",
      " |-- PRCP: double (nullable = true)\n",
      " |-- SNWD: double (nullable = true)\n",
      " |-- TMAX: double (nullable = true)\n",
      " |-- TMIN: double (nullable = true)\n",
      "\n"
     ]
    }
   ],
   "source": [
    "year2016csvSNOW_updated_DF.printSchema()"
   ]
  },
  {
   "cell_type": "code",
   "execution_count": 236,
   "metadata": {
    "collapsed": true
   },
   "outputs": [],
   "source": [
    "from pyspark.sql import *"
   ]
  },
  {
   "cell_type": "code",
   "execution_count": 241,
   "metadata": {
    "collapsed": true
   },
   "outputs": [],
   "source": [
    "cols=(['COUNTRY','DATE','ELEMENT','PRCP','SNOW','SNWD','TMAX','TMIN'])"
   ]
  },
  {
   "cell_type": "code",
   "execution_count": 242,
   "metadata": {},
   "outputs": [
    {
     "data": {
      "text/plain": [
       "['COUNTRY', 'DATE', 'ELEMENT', 'PRCP', 'SNOW', 'SNWD', 'TMAX', 'TMIN']"
      ]
     },
     "execution_count": 242,
     "metadata": {},
     "output_type": "execute_result"
    }
   ],
   "source": [
    "cols"
   ]
  },
  {
   "cell_type": "code",
   "execution_count": 243,
   "metadata": {
    "collapsed": true
   },
   "outputs": [],
   "source": [
    "year2016csvSNOW_updated_DF=year2016csvSNOW_updated_DF[cols]"
   ]
  },
  {
   "cell_type": "code",
   "execution_count": 244,
   "metadata": {},
   "outputs": [
    {
     "data": {
      "text/plain": [
       "[Row(COUNTRY=u'CA', DATE=u'20160101', ELEMENT=u'SNOW', PRCP=-9999.0, SNOW=u'0', SNWD=-9999.0, TMAX=-9999.0, TMIN=-9999.0),\n",
       " Row(COUNTRY=u'US', DATE=u'20160101', ELEMENT=u'SNOW', PRCP=-9999.0, SNOW=u'0', SNWD=-9999.0, TMAX=-9999.0, TMIN=-9999.0),\n",
       " Row(COUNTRY=u'US', DATE=u'20160101', ELEMENT=u'SNOW', PRCP=-9999.0, SNOW=u'0', SNWD=-9999.0, TMAX=-9999.0, TMIN=-9999.0),\n",
       " Row(COUNTRY=u'US', DATE=u'20160101', ELEMENT=u'SNOW', PRCP=-9999.0, SNOW=u'5', SNWD=-9999.0, TMAX=-9999.0, TMIN=-9999.0),\n",
       " Row(COUNTRY=u'CA', DATE=u'20160101', ELEMENT=u'SNOW', PRCP=-9999.0, SNOW=u'20', SNWD=-9999.0, TMAX=-9999.0, TMIN=-9999.0),\n",
       " Row(COUNTRY=u'US', DATE=u'20160101', ELEMENT=u'SNOW', PRCP=-9999.0, SNOW=u'0', SNWD=-9999.0, TMAX=-9999.0, TMIN=-9999.0),\n",
       " Row(COUNTRY=u'US', DATE=u'20160101', ELEMENT=u'SNOW', PRCP=-9999.0, SNOW=u'0', SNWD=-9999.0, TMAX=-9999.0, TMIN=-9999.0),\n",
       " Row(COUNTRY=u'US', DATE=u'20160101', ELEMENT=u'SNOW', PRCP=-9999.0, SNOW=u'0', SNWD=-9999.0, TMAX=-9999.0, TMIN=-9999.0),\n",
       " Row(COUNTRY=u'US', DATE=u'20160101', ELEMENT=u'SNOW', PRCP=-9999.0, SNOW=u'0', SNWD=-9999.0, TMAX=-9999.0, TMIN=-9999.0),\n",
       " Row(COUNTRY=u'US', DATE=u'20160101', ELEMENT=u'SNOW', PRCP=-9999.0, SNOW=u'0', SNWD=-9999.0, TMAX=-9999.0, TMIN=-9999.0),\n",
       " Row(COUNTRY=u'US', DATE=u'20160101', ELEMENT=u'SNOW', PRCP=-9999.0, SNOW=u'0', SNWD=-9999.0, TMAX=-9999.0, TMIN=-9999.0),\n",
       " Row(COUNTRY=u'US', DATE=u'20160101', ELEMENT=u'SNOW', PRCP=-9999.0, SNOW=u'0', SNWD=-9999.0, TMAX=-9999.0, TMIN=-9999.0),\n",
       " Row(COUNTRY=u'US', DATE=u'20160101', ELEMENT=u'SNOW', PRCP=-9999.0, SNOW=u'0', SNWD=-9999.0, TMAX=-9999.0, TMIN=-9999.0),\n",
       " Row(COUNTRY=u'CA', DATE=u'20160101', ELEMENT=u'SNOW', PRCP=-9999.0, SNOW=u'0', SNWD=-9999.0, TMAX=-9999.0, TMIN=-9999.0),\n",
       " Row(COUNTRY=u'US', DATE=u'20160101', ELEMENT=u'SNOW', PRCP=-9999.0, SNOW=u'0', SNWD=-9999.0, TMAX=-9999.0, TMIN=-9999.0),\n",
       " Row(COUNTRY=u'US', DATE=u'20160101', ELEMENT=u'SNOW', PRCP=-9999.0, SNOW=u'0', SNWD=-9999.0, TMAX=-9999.0, TMIN=-9999.0),\n",
       " Row(COUNTRY=u'US', DATE=u'20160101', ELEMENT=u'SNOW', PRCP=-9999.0, SNOW=u'0', SNWD=-9999.0, TMAX=-9999.0, TMIN=-9999.0),\n",
       " Row(COUNTRY=u'US', DATE=u'20160101', ELEMENT=u'SNOW', PRCP=-9999.0, SNOW=u'0', SNWD=-9999.0, TMAX=-9999.0, TMIN=-9999.0),\n",
       " Row(COUNTRY=u'US', DATE=u'20160101', ELEMENT=u'SNOW', PRCP=-9999.0, SNOW=u'0', SNWD=-9999.0, TMAX=-9999.0, TMIN=-9999.0),\n",
       " Row(COUNTRY=u'US', DATE=u'20160101', ELEMENT=u'SNOW', PRCP=-9999.0, SNOW=u'0', SNWD=-9999.0, TMAX=-9999.0, TMIN=-9999.0)]"
      ]
     },
     "execution_count": 244,
     "metadata": {},
     "output_type": "execute_result"
    }
   ],
   "source": [
    "year2016csvSNOW_updated_DF.take(20)"
   ]
  },
  {
   "cell_type": "code",
   "execution_count": 245,
   "metadata": {},
   "outputs": [
    {
     "name": "stdout",
     "output_type": "stream",
     "text": [
      "root\n",
      " |-- COUNTRY: string (nullable = true)\n",
      " |-- DATE: string (nullable = true)\n",
      " |-- ELEMENT: string (nullable = true)\n",
      " |-- PRCP: double (nullable = true)\n",
      " |-- SNOW: string (nullable = true)\n",
      " |-- SNWD: double (nullable = true)\n",
      " |-- TMAX: double (nullable = true)\n",
      " |-- TMIN: double (nullable = true)\n",
      "\n"
     ]
    }
   ],
   "source": [
    "year2016csvSNOW_updated_DF.printSchema()"
   ]
  },
  {
   "cell_type": "code",
   "execution_count": 246,
   "metadata": {},
   "outputs": [
    {
     "name": "stdout",
     "output_type": "stream",
     "text": [
      "root\n",
      " |-- COUNTRY: string (nullable = true)\n",
      " |-- DATE: string (nullable = true)\n",
      " |-- ELEMENT: string (nullable = true)\n",
      " |-- PRCP: string (nullable = true)\n",
      " |-- SNOW: double (nullable = true)\n",
      " |-- SNWD: double (nullable = true)\n",
      " |-- TMAX: double (nullable = true)\n",
      " |-- TMIN: double (nullable = true)\n",
      "\n"
     ]
    }
   ],
   "source": [
    "year2016csvPRCP_updated_DF.printSchema()"
   ]
  },
  {
   "cell_type": "code",
   "execution_count": 250,
   "metadata": {
    "collapsed": true
   },
   "outputs": [],
   "source": [
    "year2016csvUpdatedDF=year2016csvPRCP_updated_DF.union(year2016csvSNOW_updated_DF)"
   ]
  },
  {
   "cell_type": "code",
   "execution_count": 251,
   "metadata": {},
   "outputs": [
    {
     "name": "stdout",
     "output_type": "stream",
     "text": [
      "root\n",
      " |-- COUNTRY: string (nullable = true)\n",
      " |-- DATE: string (nullable = true)\n",
      " |-- ELEMENT: string (nullable = true)\n",
      " |-- PRCP: string (nullable = true)\n",
      " |-- SNOW: string (nullable = true)\n",
      " |-- SNWD: double (nullable = true)\n",
      " |-- TMAX: double (nullable = true)\n",
      " |-- TMIN: double (nullable = true)\n",
      "\n"
     ]
    }
   ],
   "source": [
    "year2016csvUpdatedDF.printSchema()"
   ]
  },
  {
   "cell_type": "code",
   "execution_count": 252,
   "metadata": {},
   "outputs": [
    {
     "data": {
      "text/plain": [
       "14308969"
      ]
     },
     "execution_count": 252,
     "metadata": {},
     "output_type": "execute_result"
    }
   ],
   "source": [
    "year2016csvUpdatedDF.count()"
   ]
  },
  {
   "cell_type": "code",
   "execution_count": 261,
   "metadata": {
    "collapsed": true
   },
   "outputs": [],
   "source": [
    "year2016csvSNWD_updated_DF=IDsSubStringed_addedColumns_DF.where(IDsSubStringed_addedColumns_DF.ELEMENT==\"SNWD\")"
   ]
  },
  {
   "cell_type": "code",
   "execution_count": 262,
   "metadata": {},
   "outputs": [
    {
     "data": {
      "text/plain": [
       "DataFrame[COUNTRY: string, DATE: string, ELEMENT: string, PRCP: string, SNOW: string, SNWD: double, TMAX: double, TMIN: double]"
      ]
     },
     "execution_count": 262,
     "metadata": {},
     "output_type": "execute_result"
    }
   ],
   "source": [
    "year2016csvUpdatedDF.cache()"
   ]
  },
  {
   "cell_type": "code",
   "execution_count": 263,
   "metadata": {},
   "outputs": [
    {
     "name": "stdout",
     "output_type": "stream",
     "text": [
      "root\n",
      " |-- COUNTRY: string (nullable = true)\n",
      " |-- DATE: string (nullable = true)\n",
      " |-- ELEMENT: string (nullable = true)\n",
      " |-- DATA_VALUE: string (nullable = true)\n",
      " |-- PRCP: double (nullable = true)\n",
      " |-- SNOW: double (nullable = true)\n",
      " |-- SNWD: double (nullable = true)\n",
      " |-- TMAX: double (nullable = true)\n",
      " |-- TMIN: double (nullable = true)\n",
      "\n"
     ]
    }
   ],
   "source": [
    "year2016csvSNWD_updated_DF.printSchema()"
   ]
  },
  {
   "cell_type": "code",
   "execution_count": 264,
   "metadata": {
    "collapsed": true
   },
   "outputs": [],
   "source": [
    "year2016csvSNWD_updated_DF=year2016csvSNWD_updated_DF.drop('SNWD')"
   ]
  },
  {
   "cell_type": "code",
   "execution_count": 265,
   "metadata": {},
   "outputs": [
    {
     "name": "stdout",
     "output_type": "stream",
     "text": [
      "root\n",
      " |-- COUNTRY: string (nullable = true)\n",
      " |-- DATE: string (nullable = true)\n",
      " |-- ELEMENT: string (nullable = true)\n",
      " |-- DATA_VALUE: string (nullable = true)\n",
      " |-- PRCP: double (nullable = true)\n",
      " |-- SNOW: double (nullable = true)\n",
      " |-- TMAX: double (nullable = true)\n",
      " |-- TMIN: double (nullable = true)\n",
      "\n"
     ]
    }
   ],
   "source": [
    "year2016csvSNWD_updated_DF.printSchema()"
   ]
  },
  {
   "cell_type": "code",
   "execution_count": 266,
   "metadata": {
    "collapsed": true
   },
   "outputs": [],
   "source": [
    "year2016csvSNWD_updated_DF=year2016csvSNWD_updated_DF.withColumnRenamed('DATA_VALUE','SNWD')"
   ]
  },
  {
   "cell_type": "code",
   "execution_count": 268,
   "metadata": {},
   "outputs": [
    {
     "name": "stdout",
     "output_type": "stream",
     "text": [
      "root\n",
      " |-- COUNTRY: string (nullable = true)\n",
      " |-- DATE: string (nullable = true)\n",
      " |-- ELEMENT: string (nullable = true)\n",
      " |-- SNWD: string (nullable = true)\n",
      " |-- PRCP: double (nullable = true)\n",
      " |-- SNOW: double (nullable = true)\n",
      " |-- TMAX: double (nullable = true)\n",
      " |-- TMIN: double (nullable = true)\n",
      "\n"
     ]
    }
   ],
   "source": [
    "year2016csvSNWD_updated_DF.printSchema()"
   ]
  },
  {
   "cell_type": "code",
   "execution_count": 269,
   "metadata": {},
   "outputs": [
    {
     "data": {
      "text/plain": [
       "['COUNTRY', 'DATE', 'ELEMENT', 'PRCP', 'SNOW', 'SNWD', 'TMAX', 'TMIN']"
      ]
     },
     "execution_count": 269,
     "metadata": {},
     "output_type": "execute_result"
    }
   ],
   "source": [
    "cols"
   ]
  },
  {
   "cell_type": "code",
   "execution_count": 270,
   "metadata": {
    "collapsed": true
   },
   "outputs": [],
   "source": [
    "year2016csvSNWD_updated_DF=year2016csvSNWD_updated_DF[cols]"
   ]
  },
  {
   "cell_type": "code",
   "execution_count": 271,
   "metadata": {},
   "outputs": [
    {
     "name": "stdout",
     "output_type": "stream",
     "text": [
      "root\n",
      " |-- COUNTRY: string (nullable = true)\n",
      " |-- DATE: string (nullable = true)\n",
      " |-- ELEMENT: string (nullable = true)\n",
      " |-- PRCP: double (nullable = true)\n",
      " |-- SNOW: double (nullable = true)\n",
      " |-- SNWD: string (nullable = true)\n",
      " |-- TMAX: double (nullable = true)\n",
      " |-- TMIN: double (nullable = true)\n",
      "\n"
     ]
    }
   ],
   "source": [
    "year2016csvSNWD_updated_DF.printSchema()"
   ]
  },
  {
   "cell_type": "code",
   "execution_count": 272,
   "metadata": {},
   "outputs": [
    {
     "name": "stdout",
     "output_type": "stream",
     "text": [
      "root\n",
      " |-- COUNTRY: string (nullable = true)\n",
      " |-- DATE: string (nullable = true)\n",
      " |-- ELEMENT: string (nullable = true)\n",
      " |-- PRCP: string (nullable = true)\n",
      " |-- SNOW: string (nullable = true)\n",
      " |-- SNWD: double (nullable = true)\n",
      " |-- TMAX: double (nullable = true)\n",
      " |-- TMIN: double (nullable = true)\n",
      "\n"
     ]
    }
   ],
   "source": [
    "year2016csvUpdatedDF.printSchema()"
   ]
  },
  {
   "cell_type": "code",
   "execution_count": 273,
   "metadata": {},
   "outputs": [
    {
     "data": {
      "text/plain": [
       "DataFrame[COUNTRY: string, DATE: string, ELEMENT: string, PRCP: double, SNOW: double, SNWD: string, TMAX: double, TMIN: double]"
      ]
     },
     "execution_count": 273,
     "metadata": {},
     "output_type": "execute_result"
    }
   ],
   "source": [
    "year2016csvSNWD_updated_DF.cache()"
   ]
  },
  {
   "cell_type": "code",
   "execution_count": 274,
   "metadata": {
    "collapsed": true
   },
   "outputs": [],
   "source": [
    "year2016csvUpdatedDF=year2016csvUpdatedDF.union(year2016csvSNWD_updated_DF)"
   ]
  },
  {
   "cell_type": "code",
   "execution_count": 276,
   "metadata": {},
   "outputs": [
    {
     "data": {
      "text/plain": [
       "17438604"
      ]
     },
     "execution_count": 276,
     "metadata": {},
     "output_type": "execute_result"
    }
   ],
   "source": [
    "year2016csvUpdatedDF.count()\n",
    "#17.438.604 es lo que debe dar el count de prcp snow y snwd si hacemos las cosas bien --> luego haz un printschema \n"
   ]
  },
  {
   "cell_type": "code",
   "execution_count": 277,
   "metadata": {},
   "outputs": [
    {
     "name": "stdout",
     "output_type": "stream",
     "text": [
      "root\n",
      " |-- COUNTRY: string (nullable = true)\n",
      " |-- DATE: string (nullable = true)\n",
      " |-- ELEMENT: string (nullable = true)\n",
      " |-- PRCP: string (nullable = true)\n",
      " |-- SNOW: string (nullable = true)\n",
      " |-- SNWD: string (nullable = true)\n",
      " |-- TMAX: double (nullable = true)\n",
      " |-- TMIN: double (nullable = true)\n",
      "\n"
     ]
    }
   ],
   "source": [
    "year2016csvUpdatedDF.printSchema()"
   ]
  },
  {
   "cell_type": "code",
   "execution_count": 279,
   "metadata": {},
   "outputs": [
    {
     "data": {
      "text/plain": [
       "DataFrame[COUNTRY: string, DATE: string, ELEMENT: string, PRCP: string, SNOW: string, SNWD: string, TMAX: double, TMIN: double]"
      ]
     },
     "execution_count": 279,
     "metadata": {},
     "output_type": "execute_result"
    }
   ],
   "source": [
    "year2016csvUpdatedDF.cache()"
   ]
  },
  {
   "cell_type": "code",
   "execution_count": 281,
   "metadata": {
    "collapsed": true
   },
   "outputs": [],
   "source": [
    "year2016csvTMAX_updated_DF=IDsSubStringed_addedColumns_DF.where(IDsSubStringed_addedColumns_DF.ELEMENT==\"TMAX\")"
   ]
  },
  {
   "cell_type": "code",
   "execution_count": 282,
   "metadata": {},
   "outputs": [
    {
     "name": "stdout",
     "output_type": "stream",
     "text": [
      "root\n",
      " |-- COUNTRY: string (nullable = true)\n",
      " |-- DATE: string (nullable = true)\n",
      " |-- ELEMENT: string (nullable = true)\n",
      " |-- DATA_VALUE: string (nullable = true)\n",
      " |-- PRCP: double (nullable = true)\n",
      " |-- SNOW: double (nullable = true)\n",
      " |-- SNWD: double (nullable = true)\n",
      " |-- TMAX: double (nullable = true)\n",
      " |-- TMIN: double (nullable = true)\n",
      "\n"
     ]
    }
   ],
   "source": [
    "year2016csvTMAX_updated_DF.printSchema()"
   ]
  },
  {
   "cell_type": "code",
   "execution_count": 283,
   "metadata": {
    "collapsed": true
   },
   "outputs": [],
   "source": [
    "year2016csvTMAX_updated_DF=year2016csvTMAX_updated_DF.drop('TMAX')"
   ]
  },
  {
   "cell_type": "code",
   "execution_count": 284,
   "metadata": {},
   "outputs": [
    {
     "name": "stdout",
     "output_type": "stream",
     "text": [
      "root\n",
      " |-- COUNTRY: string (nullable = true)\n",
      " |-- DATE: string (nullable = true)\n",
      " |-- ELEMENT: string (nullable = true)\n",
      " |-- DATA_VALUE: string (nullable = true)\n",
      " |-- PRCP: double (nullable = true)\n",
      " |-- SNOW: double (nullable = true)\n",
      " |-- SNWD: double (nullable = true)\n",
      " |-- TMIN: double (nullable = true)\n",
      "\n"
     ]
    }
   ],
   "source": [
    "year2016csvTMAX_updated_DF.printSchema()"
   ]
  },
  {
   "cell_type": "code",
   "execution_count": 285,
   "metadata": {
    "collapsed": true
   },
   "outputs": [],
   "source": [
    "year2016csvTMAX_updated_DF=year2016csvTMAX_updated_DF.withColumnRenamed('DATA_VALUE','TMAX')"
   ]
  },
  {
   "cell_type": "code",
   "execution_count": 286,
   "metadata": {},
   "outputs": [
    {
     "name": "stdout",
     "output_type": "stream",
     "text": [
      "root\n",
      " |-- COUNTRY: string (nullable = true)\n",
      " |-- DATE: string (nullable = true)\n",
      " |-- ELEMENT: string (nullable = true)\n",
      " |-- TMAX: string (nullable = true)\n",
      " |-- PRCP: double (nullable = true)\n",
      " |-- SNOW: double (nullable = true)\n",
      " |-- SNWD: double (nullable = true)\n",
      " |-- TMIN: double (nullable = true)\n",
      "\n"
     ]
    }
   ],
   "source": [
    "year2016csvTMAX_updated_DF.printSchema()"
   ]
  },
  {
   "cell_type": "code",
   "execution_count": 287,
   "metadata": {},
   "outputs": [
    {
     "data": {
      "text/plain": [
       "['COUNTRY', 'DATE', 'ELEMENT', 'PRCP', 'SNOW', 'SNWD', 'TMAX', 'TMIN']"
      ]
     },
     "execution_count": 287,
     "metadata": {},
     "output_type": "execute_result"
    }
   ],
   "source": [
    "cols"
   ]
  },
  {
   "cell_type": "code",
   "execution_count": 288,
   "metadata": {
    "collapsed": true
   },
   "outputs": [],
   "source": [
    "year2016csvTMAX_updated_DF=year2016csvTMAX_updated_DF[cols]"
   ]
  },
  {
   "cell_type": "code",
   "execution_count": 289,
   "metadata": {},
   "outputs": [
    {
     "name": "stdout",
     "output_type": "stream",
     "text": [
      "root\n",
      " |-- COUNTRY: string (nullable = true)\n",
      " |-- DATE: string (nullable = true)\n",
      " |-- ELEMENT: string (nullable = true)\n",
      " |-- PRCP: double (nullable = true)\n",
      " |-- SNOW: double (nullable = true)\n",
      " |-- SNWD: double (nullable = true)\n",
      " |-- TMAX: string (nullable = true)\n",
      " |-- TMIN: double (nullable = true)\n",
      "\n"
     ]
    }
   ],
   "source": [
    "year2016csvTMAX_updated_DF.printSchema()"
   ]
  },
  {
   "cell_type": "code",
   "execution_count": 290,
   "metadata": {},
   "outputs": [
    {
     "name": "stdout",
     "output_type": "stream",
     "text": [
      "root\n",
      " |-- COUNTRY: string (nullable = true)\n",
      " |-- DATE: string (nullable = true)\n",
      " |-- ELEMENT: string (nullable = true)\n",
      " |-- PRCP: string (nullable = true)\n",
      " |-- SNOW: string (nullable = true)\n",
      " |-- SNWD: string (nullable = true)\n",
      " |-- TMAX: double (nullable = true)\n",
      " |-- TMIN: double (nullable = true)\n",
      "\n"
     ]
    }
   ],
   "source": [
    "year2016csvUpdatedDF.printSchema()"
   ]
  },
  {
   "cell_type": "code",
   "execution_count": 291,
   "metadata": {
    "collapsed": true
   },
   "outputs": [],
   "source": [
    "year2016csvUpdatedDF=year2016csvUpdatedDF.union(year2016csvTMAX_updated_DF)"
   ]
  },
  {
   "cell_type": "code",
   "execution_count": 292,
   "metadata": {},
   "outputs": [
    {
     "name": "stdout",
     "output_type": "stream",
     "text": [
      "root\n",
      " |-- COUNTRY: string (nullable = true)\n",
      " |-- DATE: string (nullable = true)\n",
      " |-- ELEMENT: string (nullable = true)\n",
      " |-- PRCP: string (nullable = true)\n",
      " |-- SNOW: string (nullable = true)\n",
      " |-- SNWD: string (nullable = true)\n",
      " |-- TMAX: string (nullable = true)\n",
      " |-- TMIN: double (nullable = true)\n",
      "\n"
     ]
    }
   ],
   "source": [
    "year2016csvUpdatedDF.printSchema()"
   ]
  },
  {
   "cell_type": "code",
   "execution_count": 293,
   "metadata": {},
   "outputs": [
    {
     "name": "stdout",
     "output_type": "stream",
     "text": [
      "+-------+--------+-------+----+-------+-------+-------+-------+\n",
      "|COUNTRY|    DATE|ELEMENT|PRCP|   SNOW|   SNWD|   TMAX|   TMIN|\n",
      "+-------+--------+-------+----+-------+-------+-------+-------+\n",
      "|     RS|20160430|   PRCP|   0|-9999.0|-9999.0|-9999.0|-9999.0|\n",
      "|     US|20160430|   PRCP|   0|-9999.0|-9999.0|-9999.0|-9999.0|\n",
      "|     US|20160430|   PRCP|   0|-9999.0|-9999.0|-9999.0|-9999.0|\n",
      "|     US|20160430|   PRCP|   0|-9999.0|-9999.0|-9999.0|-9999.0|\n",
      "|     RS|20160430|   PRCP|   0|-9999.0|-9999.0|-9999.0|-9999.0|\n",
      "|     AS|20160430|   PRCP|   0|-9999.0|-9999.0|-9999.0|-9999.0|\n",
      "|     US|20160430|   PRCP|   0|-9999.0|-9999.0|-9999.0|-9999.0|\n",
      "|     US|20160430|   PRCP|   0|-9999.0|-9999.0|-9999.0|-9999.0|\n",
      "|     US|20160430|   PRCP|  10|-9999.0|-9999.0|-9999.0|-9999.0|\n",
      "|     US|20160430|   PRCP|   0|-9999.0|-9999.0|-9999.0|-9999.0|\n",
      "|     NO|20160430|   PRCP| 262|-9999.0|-9999.0|-9999.0|-9999.0|\n",
      "|     US|20160430|   PRCP| 356|-9999.0|-9999.0|-9999.0|-9999.0|\n",
      "|     US|20160430|   PRCP|   0|-9999.0|-9999.0|-9999.0|-9999.0|\n",
      "|     US|20160430|   PRCP|   0|-9999.0|-9999.0|-9999.0|-9999.0|\n",
      "|     US|20160430|   PRCP|  25|-9999.0|-9999.0|-9999.0|-9999.0|\n",
      "|     US|20160430|   PRCP|   0|-9999.0|-9999.0|-9999.0|-9999.0|\n",
      "|     US|20160430|   PRCP|   0|-9999.0|-9999.0|-9999.0|-9999.0|\n",
      "|     US|20160430|   PRCP|   0|-9999.0|-9999.0|-9999.0|-9999.0|\n",
      "|     US|20160430|   PRCP|  25|-9999.0|-9999.0|-9999.0|-9999.0|\n",
      "|     CA|20160430|   PRCP|   0|-9999.0|-9999.0|-9999.0|-9999.0|\n",
      "+-------+--------+-------+----+-------+-------+-------+-------+\n",
      "only showing top 20 rows\n",
      "\n"
     ]
    }
   ],
   "source": [
    "year2016csvUpdatedDF.show()"
   ]
  },
  {
   "cell_type": "code",
   "execution_count": 295,
   "metadata": {},
   "outputs": [
    {
     "data": {
      "text/plain": [
       "21813640"
      ]
     },
     "execution_count": 295,
     "metadata": {},
     "output_type": "execute_result"
    }
   ],
   "source": [
    "year2016csvUpdatedDF.count()\n",
    "#21813640 tiene q dar esta cuenta para que hayamos unido TMAX bien"
   ]
  },
  {
   "cell_type": "code",
   "execution_count": 298,
   "metadata": {
    "collapsed": true
   },
   "outputs": [],
   "source": [
    "year2016csvTMIN_updated_DF=IDsSubStringed_addedColumns_DF.where(IDsSubStringed_addedColumns_DF.ELEMENT==\"TMIN\")"
   ]
  },
  {
   "cell_type": "code",
   "execution_count": 299,
   "metadata": {
    "collapsed": true
   },
   "outputs": [],
   "source": [
    "year2016csvTMIN_updated_DF=year2016csvTMIN_updated_DF.drop('TMIN')"
   ]
  },
  {
   "cell_type": "code",
   "execution_count": 300,
   "metadata": {},
   "outputs": [
    {
     "name": "stdout",
     "output_type": "stream",
     "text": [
      "root\n",
      " |-- COUNTRY: string (nullable = true)\n",
      " |-- DATE: string (nullable = true)\n",
      " |-- ELEMENT: string (nullable = true)\n",
      " |-- DATA_VALUE: string (nullable = true)\n",
      " |-- PRCP: double (nullable = true)\n",
      " |-- SNOW: double (nullable = true)\n",
      " |-- SNWD: double (nullable = true)\n",
      " |-- TMAX: double (nullable = true)\n",
      "\n"
     ]
    }
   ],
   "source": [
    "year2016csvTMIN_updated_DF.printSchema()"
   ]
  },
  {
   "cell_type": "code",
   "execution_count": 301,
   "metadata": {
    "collapsed": true
   },
   "outputs": [],
   "source": [
    "year2016csvTMIN_updated_DF=year2016csvTMIN_updated_DF.withColumnRenamed('DATA_VALUE','TMIN')"
   ]
  },
  {
   "cell_type": "code",
   "execution_count": 302,
   "metadata": {},
   "outputs": [
    {
     "name": "stdout",
     "output_type": "stream",
     "text": [
      "root\n",
      " |-- COUNTRY: string (nullable = true)\n",
      " |-- DATE: string (nullable = true)\n",
      " |-- ELEMENT: string (nullable = true)\n",
      " |-- TMIN: string (nullable = true)\n",
      " |-- PRCP: double (nullable = true)\n",
      " |-- SNOW: double (nullable = true)\n",
      " |-- SNWD: double (nullable = true)\n",
      " |-- TMAX: double (nullable = true)\n",
      "\n"
     ]
    }
   ],
   "source": [
    "year2016csvTMIN_updated_DF.printSchema()"
   ]
  },
  {
   "cell_type": "code",
   "execution_count": 303,
   "metadata": {},
   "outputs": [
    {
     "data": {
      "text/plain": [
       "['COUNTRY', 'DATE', 'ELEMENT', 'PRCP', 'SNOW', 'SNWD', 'TMAX', 'TMIN']"
      ]
     },
     "execution_count": 303,
     "metadata": {},
     "output_type": "execute_result"
    }
   ],
   "source": [
    "cols"
   ]
  },
  {
   "cell_type": "code",
   "execution_count": 304,
   "metadata": {
    "collapsed": true
   },
   "outputs": [],
   "source": [
    "year2016csvTMIN_updated_DF=year2016csvTMIN_updated_DF[cols]"
   ]
  },
  {
   "cell_type": "code",
   "execution_count": 305,
   "metadata": {},
   "outputs": [
    {
     "name": "stdout",
     "output_type": "stream",
     "text": [
      "root\n",
      " |-- COUNTRY: string (nullable = true)\n",
      " |-- DATE: string (nullable = true)\n",
      " |-- ELEMENT: string (nullable = true)\n",
      " |-- PRCP: double (nullable = true)\n",
      " |-- SNOW: double (nullable = true)\n",
      " |-- SNWD: double (nullable = true)\n",
      " |-- TMAX: double (nullable = true)\n",
      " |-- TMIN: string (nullable = true)\n",
      "\n"
     ]
    }
   ],
   "source": [
    "year2016csvTMIN_updated_DF.printSchema()"
   ]
  },
  {
   "cell_type": "code",
   "execution_count": 306,
   "metadata": {
    "collapsed": true
   },
   "outputs": [],
   "source": [
    "year2016csvUpdatedDF=year2016csvUpdatedDF.union(year2016csvTMIN_updated_DF)"
   ]
  },
  {
   "cell_type": "code",
   "execution_count": 307,
   "metadata": {},
   "outputs": [
    {
     "name": "stdout",
     "output_type": "stream",
     "text": [
      "root\n",
      " |-- COUNTRY: string (nullable = true)\n",
      " |-- DATE: string (nullable = true)\n",
      " |-- ELEMENT: string (nullable = true)\n",
      " |-- PRCP: string (nullable = true)\n",
      " |-- SNOW: string (nullable = true)\n",
      " |-- SNWD: string (nullable = true)\n",
      " |-- TMAX: string (nullable = true)\n",
      " |-- TMIN: string (nullable = true)\n",
      "\n"
     ]
    }
   ],
   "source": [
    "year2016csvUpdatedDF.printSchema()"
   ]
  },
  {
   "cell_type": "code",
   "execution_count": 320,
   "metadata": {},
   "outputs": [
    {
     "name": "stdout",
     "output_type": "stream",
     "text": [
      "+-------+--------+-------+-------+-------+-------+-------+----+\n",
      "|COUNTRY|    DATE|ELEMENT|   PRCP|   SNOW|   SNWD|   TMAX|TMIN|\n",
      "+-------+--------+-------+-------+-------+-------+-------+----+\n",
      "|     RS|20160430|   TMIN|-9999.0|-9999.0|-9999.0|-9999.0| -20|\n",
      "|     US|20160430|   TMIN|-9999.0|-9999.0|-9999.0|-9999.0|  28|\n",
      "|     US|20160430|   TMIN|-9999.0|-9999.0|-9999.0|-9999.0|  72|\n",
      "|     US|20160430|   TMIN|-9999.0|-9999.0|-9999.0|-9999.0|  17|\n",
      "|     US|20160430|   TMIN|-9999.0|-9999.0|-9999.0|-9999.0| -83|\n",
      "|     US|20160430|   TMIN|-9999.0|-9999.0|-9999.0|-9999.0| -17|\n",
      "|     US|20160430|   TMIN|-9999.0|-9999.0|-9999.0|-9999.0|   0|\n",
      "|     NO|20160430|   TMIN|-9999.0|-9999.0|-9999.0|-9999.0|   7|\n",
      "|     NO|20160430|   TMIN|-9999.0|-9999.0|-9999.0|-9999.0|  34|\n",
      "|     US|20160430|   TMIN|-9999.0|-9999.0|-9999.0|-9999.0|  36|\n",
      "|     US|20160430|   TMIN|-9999.0|-9999.0|-9999.0|-9999.0|   7|\n",
      "|     US|20160430|   TMIN|-9999.0|-9999.0|-9999.0|-9999.0| -22|\n",
      "|     CA|20160430|   TMIN|-9999.0|-9999.0|-9999.0|-9999.0|  50|\n",
      "|     US|20160430|   TMIN|-9999.0|-9999.0|-9999.0|-9999.0| -26|\n",
      "|     US|20160430|   TMIN|-9999.0|-9999.0|-9999.0|-9999.0| -61|\n",
      "|     US|20160430|   TMIN|-9999.0|-9999.0|-9999.0|-9999.0| -11|\n",
      "|     US|20160430|   TMIN|-9999.0|-9999.0|-9999.0|-9999.0| -18|\n",
      "|     US|20160430|   TMIN|-9999.0|-9999.0|-9999.0|-9999.0| -55|\n",
      "|     US|20160430|   TMIN|-9999.0|-9999.0|-9999.0|-9999.0|  -6|\n",
      "|     US|20160430|   TMIN|-9999.0|-9999.0|-9999.0|-9999.0| 250|\n",
      "+-------+--------+-------+-------+-------+-------+-------+----+\n",
      "only showing top 20 rows\n",
      "\n"
     ]
    }
   ],
   "source": [
    "year2016csvTMIN_updated_DF.show()"
   ]
  },
  {
   "cell_type": "code",
   "execution_count": 310,
   "metadata": {},
   "outputs": [
    {
     "data": {
      "text/plain": [
       "26185832"
      ]
     },
     "execution_count": 310,
     "metadata": {},
     "output_type": "execute_result"
    }
   ],
   "source": [
    "year2016csvUpdatedDF.count()\n",
    "# 26.185.832 debe dar el count() si hemos hecho las transformaciones bien\n"
   ]
  },
  {
   "cell_type": "code",
   "execution_count": 321,
   "metadata": {},
   "outputs": [
    {
     "data": {
      "text/plain": [
       "Row(COUNTRY=u'RS', DATE=u'20160430', ELEMENT=u'PRCP', PRCP=u'0', SNOW=u'-9999.0', SNWD=u'-9999.0', TMAX=u'-9999.0', TMIN=u'-9999.0')"
      ]
     },
     "execution_count": 321,
     "metadata": {},
     "output_type": "execute_result"
    }
   ],
   "source": [
    "year2016csvUpdatedDF.first()"
   ]
  },
  {
   "cell_type": "code",
   "execution_count": 318,
   "metadata": {},
   "outputs": [
    {
     "name": "stdout",
     "output_type": "stream",
     "text": [
      "root\n",
      " |-- COUNTRY: string (nullable = true)\n",
      " |-- DATE: string (nullable = true)\n",
      " |-- ELEMENT: string (nullable = true)\n",
      " |-- PRCP: string (nullable = true)\n",
      " |-- SNOW: string (nullable = true)\n",
      " |-- SNWD: string (nullable = true)\n",
      " |-- TMAX: string (nullable = true)\n",
      " |-- TMIN: string (nullable = true)\n",
      "\n"
     ]
    }
   ],
   "source": [
    "year2016csvUpdatedDF.printSchema()"
   ]
  },
  {
   "cell_type": "code",
   "execution_count": 322,
   "metadata": {},
   "outputs": [
    {
     "name": "stdout",
     "output_type": "stream",
     "text": [
      "+-------+--------+-------+----+-------+-------+-------+-------+\n",
      "|COUNTRY|    DATE|ELEMENT|PRCP|   SNOW|   SNWD|   TMAX|   TMIN|\n",
      "+-------+--------+-------+----+-------+-------+-------+-------+\n",
      "|     RS|20160430|   PRCP|   0|-9999.0|-9999.0|-9999.0|-9999.0|\n",
      "|     US|20160430|   PRCP|   0|-9999.0|-9999.0|-9999.0|-9999.0|\n",
      "|     US|20160430|   PRCP|   0|-9999.0|-9999.0|-9999.0|-9999.0|\n",
      "|     US|20160430|   PRCP|   0|-9999.0|-9999.0|-9999.0|-9999.0|\n",
      "|     RS|20160430|   PRCP|   0|-9999.0|-9999.0|-9999.0|-9999.0|\n",
      "|     AS|20160430|   PRCP|   0|-9999.0|-9999.0|-9999.0|-9999.0|\n",
      "|     US|20160430|   PRCP|   0|-9999.0|-9999.0|-9999.0|-9999.0|\n",
      "|     US|20160430|   PRCP|   0|-9999.0|-9999.0|-9999.0|-9999.0|\n",
      "|     US|20160430|   PRCP|  10|-9999.0|-9999.0|-9999.0|-9999.0|\n",
      "|     US|20160430|   PRCP|   0|-9999.0|-9999.0|-9999.0|-9999.0|\n",
      "|     NO|20160430|   PRCP| 262|-9999.0|-9999.0|-9999.0|-9999.0|\n",
      "|     US|20160430|   PRCP| 356|-9999.0|-9999.0|-9999.0|-9999.0|\n",
      "|     US|20160430|   PRCP|   0|-9999.0|-9999.0|-9999.0|-9999.0|\n",
      "|     US|20160430|   PRCP|   0|-9999.0|-9999.0|-9999.0|-9999.0|\n",
      "|     US|20160430|   PRCP|  25|-9999.0|-9999.0|-9999.0|-9999.0|\n",
      "|     US|20160430|   PRCP|   0|-9999.0|-9999.0|-9999.0|-9999.0|\n",
      "|     US|20160430|   PRCP|   0|-9999.0|-9999.0|-9999.0|-9999.0|\n",
      "|     US|20160430|   PRCP|   0|-9999.0|-9999.0|-9999.0|-9999.0|\n",
      "|     US|20160430|   PRCP|  25|-9999.0|-9999.0|-9999.0|-9999.0|\n",
      "|     CA|20160430|   PRCP|   0|-9999.0|-9999.0|-9999.0|-9999.0|\n",
      "+-------+--------+-------+----+-------+-------+-------+-------+\n",
      "only showing top 20 rows\n",
      "\n"
     ]
    }
   ],
   "source": [
    "year2016csvUpdatedDF.show()"
   ]
  },
  {
   "cell_type": "code",
   "execution_count": 324,
   "metadata": {
    "collapsed": true
   },
   "outputs": [],
   "source": [
    "year2016csvUpdatedDF.select(\"COUNTRY\",\"DATE\",\"ELEMENT\",\"PRCP\",\"SNOW\",\"SNWD\",\"TMAX\",\"TMIN\").write.save(\"/home/utad/spark-2.2.0-bin-hadoop2.7/con01/year2016csvUpdatedDF.parquet\",format=\"parquet\")"
   ]
  },
  {
   "cell_type": "code",
   "execution_count": 325,
   "metadata": {
    "collapsed": true
   },
   "outputs": [],
   "source": [
    "year2016csvNoDuplicatesDF=year2016csvUpdatedDF.dropDuplicates()"
   ]
  },
  {
   "cell_type": "code",
   "execution_count": 326,
   "metadata": {},
   "outputs": [
    {
     "data": {
      "text/plain": [
       "2527723"
      ]
     },
     "execution_count": 326,
     "metadata": {},
     "output_type": "execute_result"
    }
   ],
   "source": [
    "year2016csvNoDuplicatesDF.count()"
   ]
  },
  {
   "cell_type": "code",
   "execution_count": 327,
   "metadata": {},
   "outputs": [
    {
     "name": "stdout",
     "output_type": "stream",
     "text": [
      "+-------+--------+-------+----+-------+-------+-------+-------+\n",
      "|COUNTRY|    DATE|ELEMENT|PRCP|   SNOW|   SNWD|   TMAX|   TMIN|\n",
      "+-------+--------+-------+----+-------+-------+-------+-------+\n",
      "|     US|20160430|   PRCP|  18|-9999.0|-9999.0|-9999.0|-9999.0|\n",
      "|     AS|20160501|   PRCP| 300|-9999.0|-9999.0|-9999.0|-9999.0|\n",
      "|     US|20160501|   PRCP| 206|-9999.0|-9999.0|-9999.0|-9999.0|\n",
      "|     AS|20160501|   PRCP|  13|-9999.0|-9999.0|-9999.0|-9999.0|\n",
      "|     AS|20160501|   PRCP|  55|-9999.0|-9999.0|-9999.0|-9999.0|\n",
      "|     VQ|20160501|   PRCP|  25|-9999.0|-9999.0|-9999.0|-9999.0|\n",
      "|     BR|20160501|   PRCP| 231|-9999.0|-9999.0|-9999.0|-9999.0|\n",
      "|     NO|20160501|   PRCP|  81|-9999.0|-9999.0|-9999.0|-9999.0|\n",
      "|     US|20160501|   PRCP|  19|-9999.0|-9999.0|-9999.0|-9999.0|\n",
      "|     US|20160502|   PRCP| 864|-9999.0|-9999.0|-9999.0|-9999.0|\n",
      "|     RS|20160502|   PRCP|  20|-9999.0|-9999.0|-9999.0|-9999.0|\n",
      "|     AS|20160502|   PRCP| 166|-9999.0|-9999.0|-9999.0|-9999.0|\n",
      "|     BG|20160502|   PRCP|  20|-9999.0|-9999.0|-9999.0|-9999.0|\n",
      "|     BO|20160502|   PRCP|  18|-9999.0|-9999.0|-9999.0|-9999.0|\n",
      "|     US|20160503|   PRCP| 140|-9999.0|-9999.0|-9999.0|-9999.0|\n",
      "|     US|20160503|   PRCP| 231|-9999.0|-9999.0|-9999.0|-9999.0|\n",
      "|     RS|20160503|   PRCP| 180|-9999.0|-9999.0|-9999.0|-9999.0|\n",
      "|     CA|20160503|   PRCP|  34|-9999.0|-9999.0|-9999.0|-9999.0|\n",
      "|     CH|20160503|   PRCP| 445|-9999.0|-9999.0|-9999.0|-9999.0|\n",
      "|     GM|20160503|   PRCP|  10|-9999.0|-9999.0|-9999.0|-9999.0|\n",
      "+-------+--------+-------+----+-------+-------+-------+-------+\n",
      "only showing top 20 rows\n",
      "\n"
     ]
    }
   ],
   "source": [
    "year2016csvNoDuplicatesDF.show()"
   ]
  },
  {
   "cell_type": "code",
   "execution_count": 328,
   "metadata": {
    "collapsed": true
   },
   "outputs": [],
   "source": [
    "year2016csvNoDuplicatesDF.select(\"COUNTRY\",\"DATE\",\"ELEMENT\",\"PRCP\",\"SNOW\",\"SNWD\",\"TMAX\",\"TMIN\").write.save(\"/home/utad/spark-2.2.0-bin-hadoop2.7/con01/year2016csvNoDuplicatesDF.parquet\",format=\"parquet\")"
   ]
  },
  {
   "cell_type": "code",
   "execution_count": 1,
   "metadata": {
    "collapsed": true
   },
   "outputs": [],
   "source": [
    "year2016csvNoDuplicatesDF=spark.read.load(\"/home/utad/spark-2.2.0-bin-hadoop2.7/con01/year2016csvNoDuplicatesDF.parquet\")"
   ]
  },
  {
   "cell_type": "code",
   "execution_count": 2,
   "metadata": {},
   "outputs": [
    {
     "data": {
      "text/plain": [
       "DataFrame[COUNTRY: string, DATE: string, ELEMENT: string, PRCP: string, SNOW: string, SNWD: string, TMAX: string, TMIN: string]"
      ]
     },
     "execution_count": 2,
     "metadata": {},
     "output_type": "execute_result"
    }
   ],
   "source": [
    "year2016csvNoDuplicatesDF.cache()"
   ]
  },
  {
   "cell_type": "code",
   "execution_count": 3,
   "metadata": {},
   "outputs": [
    {
     "data": {
      "text/html": [
       "\n",
       "            <div>\n",
       "                <p><b>SparkSession - hive</b></p>\n",
       "                \n",
       "        <div>\n",
       "            <p><b>SparkContext</b></p>\n",
       "\n",
       "            <p><a href=\"http://192.168.32.172:4040\">Spark UI</a></p>\n",
       "\n",
       "            <dl>\n",
       "              <dt>Version</dt>\n",
       "                <dd><code>v2.2.0</code></dd>\n",
       "              <dt>Master</dt>\n",
       "                <dd><code>local[*]</code></dd>\n",
       "              <dt>AppName</dt>\n",
       "                <dd><code>PySparkShell</code></dd>\n",
       "            </dl>\n",
       "        </div>\n",
       "        \n",
       "            </div>\n",
       "        "
      ],
      "text/plain": [
       "<pyspark.sql.session.SparkSession at 0x7f148164d890>"
      ]
     },
     "execution_count": 3,
     "metadata": {},
     "output_type": "execute_result"
    }
   ],
   "source": [
    "spark"
   ]
  },
  {
   "cell_type": "code",
   "execution_count": 4,
   "metadata": {},
   "outputs": [
    {
     "data": {
      "text/html": [
       "\n",
       "        <div>\n",
       "            <p><b>SparkContext</b></p>\n",
       "\n",
       "            <p><a href=\"http://192.168.32.172:4040\">Spark UI</a></p>\n",
       "\n",
       "            <dl>\n",
       "              <dt>Version</dt>\n",
       "                <dd><code>v2.2.0</code></dd>\n",
       "              <dt>Master</dt>\n",
       "                <dd><code>local[*]</code></dd>\n",
       "              <dt>AppName</dt>\n",
       "                <dd><code>PySparkShell</code></dd>\n",
       "            </dl>\n",
       "        </div>\n",
       "        "
      ],
      "text/plain": [
       "<SparkContext master=local[*] appName=PySparkShell>"
      ]
     },
     "execution_count": 4,
     "metadata": {},
     "output_type": "execute_result"
    }
   ],
   "source": [
    "sc"
   ]
  },
  {
   "cell_type": "code",
   "execution_count": 5,
   "metadata": {},
   "outputs": [
    {
     "name": "stdout",
     "output_type": "stream",
     "text": [
      "root\n",
      " |-- COUNTRY: string (nullable = true)\n",
      " |-- DATE: string (nullable = true)\n",
      " |-- ELEMENT: string (nullable = true)\n",
      " |-- PRCP: string (nullable = true)\n",
      " |-- SNOW: string (nullable = true)\n",
      " |-- SNWD: string (nullable = true)\n",
      " |-- TMAX: string (nullable = true)\n",
      " |-- TMIN: string (nullable = true)\n",
      "\n"
     ]
    }
   ],
   "source": [
    "year2016csvNoDuplicatesDF.printSchema()"
   ]
  },
  {
   "cell_type": "code",
   "execution_count": 6,
   "metadata": {
    "collapsed": true
   },
   "outputs": [],
   "source": [
    "#empezamos a convertir las 5 magnitudes core a float"
   ]
  },
  {
   "cell_type": "code",
   "execution_count": 7,
   "metadata": {
    "scrolled": true
   },
   "outputs": [
    {
     "name": "stdout",
     "output_type": "stream",
     "text": [
      "+-------+--------+-------+----+-------+-------+-------+-------+\n",
      "|COUNTRY|    DATE|ELEMENT|PRCP|   SNOW|   SNWD|   TMAX|   TMIN|\n",
      "+-------+--------+-------+----+-------+-------+-------+-------+\n",
      "|     AS|20160430|   PRCP|  30|-9999.0|-9999.0|-9999.0|-9999.0|\n",
      "|     RS|20160501|   PRCP| 231|-9999.0|-9999.0|-9999.0|-9999.0|\n",
      "|     TU|20160501|   PRCP|  46|-9999.0|-9999.0|-9999.0|-9999.0|\n",
      "|     UV|20160501|   PRCP|   0|-9999.0|-9999.0|-9999.0|-9999.0|\n",
      "|     AS|20160501|   PRCP| 332|-9999.0|-9999.0|-9999.0|-9999.0|\n",
      "|     US|20160502|   PRCP|  33|-9999.0|-9999.0|-9999.0|-9999.0|\n",
      "|     VQ|20160502|   PRCP| 315|-9999.0|-9999.0|-9999.0|-9999.0|\n",
      "|     US|20160502|   PRCP| 437|-9999.0|-9999.0|-9999.0|-9999.0|\n",
      "|     US|20160502|   PRCP| 257|-9999.0|-9999.0|-9999.0|-9999.0|\n",
      "|     CE|20160502|   PRCP|  13|-9999.0|-9999.0|-9999.0|-9999.0|\n",
      "|     RS|20160502|   PRCP|  28|-9999.0|-9999.0|-9999.0|-9999.0|\n",
      "|     BU|20160502|   PRCP|  23|-9999.0|-9999.0|-9999.0|-9999.0|\n",
      "|     BD|20160502|   PRCP|   0|-9999.0|-9999.0|-9999.0|-9999.0|\n",
      "|     AS|20160502|   PRCP| 114|-9999.0|-9999.0|-9999.0|-9999.0|\n",
      "|     AS|20160503|   PRCP|  85|-9999.0|-9999.0|-9999.0|-9999.0|\n",
      "|     CA|20160503|   PRCP| 135|-9999.0|-9999.0|-9999.0|-9999.0|\n",
      "|     MY|20160503|   PRCP|  36|-9999.0|-9999.0|-9999.0|-9999.0|\n",
      "|     HU|20160503|   PRCP|  18|-9999.0|-9999.0|-9999.0|-9999.0|\n",
      "|     LO|20160503|   PRCP|   3|-9999.0|-9999.0|-9999.0|-9999.0|\n",
      "|     HR|20160503|   PRCP|  15|-9999.0|-9999.0|-9999.0|-9999.0|\n",
      "+-------+--------+-------+----+-------+-------+-------+-------+\n",
      "only showing top 20 rows\n",
      "\n"
     ]
    }
   ],
   "source": [
    "year2016csvNoDuplicatesDF.show()"
   ]
  },
  {
   "cell_type": "code",
   "execution_count": 10,
   "metadata": {
    "collapsed": true
   },
   "outputs": [],
   "source": [
    "from pyspark.sql.types import *"
   ]
  },
  {
   "cell_type": "code",
   "execution_count": 15,
   "metadata": {
    "collapsed": true
   },
   "outputs": [],
   "source": [
    "from pyspark.sql import *"
   ]
  },
  {
   "cell_type": "code",
   "execution_count": 25,
   "metadata": {
    "collapsed": true
   },
   "outputs": [],
   "source": [
    "year2016csvTypesChangedDF=year2016csvNoDuplicatesDF.select('COUNTRY','DATE','ELEMENT', \\\n",
    "                                                        year2016csvNoDuplicatesDF.PRCP.cast('float').alias('PRCP'), \\\n",
    "                                                        year2016csvNoDuplicatesDF.SNOW.cast('float').alias('SNOW'), \\\n",
    "                                                        year2016csvNoDuplicatesDF.SNWD.cast('float').alias('SNWD'), \\\n",
    "                                                        year2016csvNoDuplicatesDF.TMAX.cast('float').alias('TMAX'), \\\n",
    "                                                        year2016csvNoDuplicatesDF.TMIN.cast('float').alias('TMIN'))"
   ]
  },
  {
   "cell_type": "code",
   "execution_count": 26,
   "metadata": {},
   "outputs": [
    {
     "name": "stdout",
     "output_type": "stream",
     "text": [
      "root\n",
      " |-- COUNTRY: string (nullable = true)\n",
      " |-- DATE: string (nullable = true)\n",
      " |-- ELEMENT: string (nullable = true)\n",
      " |-- PRCP: float (nullable = true)\n",
      " |-- SNOW: float (nullable = true)\n",
      " |-- SNWD: float (nullable = true)\n",
      " |-- TMAX: float (nullable = true)\n",
      " |-- TMIN: float (nullable = true)\n",
      "\n"
     ]
    }
   ],
   "source": [
    "year2016csvTypesChangedDF.printSchema()"
   ]
  },
  {
   "cell_type": "code",
   "execution_count": 34,
   "metadata": {},
   "outputs": [
    {
     "name": "stdout",
     "output_type": "stream",
     "text": [
      "+-------+--------+-------+-----+-------+-------+-------+-------+\n",
      "|COUNTRY|    DATE|ELEMENT| PRCP|   SNOW|   SNWD|   TMAX|   TMIN|\n",
      "+-------+--------+-------+-----+-------+-------+-------+-------+\n",
      "|     AS|20160430|   PRCP| 30.0|-9999.0|-9999.0|-9999.0|-9999.0|\n",
      "|     RS|20160501|   PRCP|231.0|-9999.0|-9999.0|-9999.0|-9999.0|\n",
      "|     TU|20160501|   PRCP| 46.0|-9999.0|-9999.0|-9999.0|-9999.0|\n",
      "|     UV|20160501|   PRCP|  0.0|-9999.0|-9999.0|-9999.0|-9999.0|\n",
      "|     AS|20160501|   PRCP|332.0|-9999.0|-9999.0|-9999.0|-9999.0|\n",
      "|     US|20160502|   PRCP| 33.0|-9999.0|-9999.0|-9999.0|-9999.0|\n",
      "|     VQ|20160502|   PRCP|315.0|-9999.0|-9999.0|-9999.0|-9999.0|\n",
      "|     US|20160502|   PRCP|437.0|-9999.0|-9999.0|-9999.0|-9999.0|\n",
      "|     US|20160502|   PRCP|257.0|-9999.0|-9999.0|-9999.0|-9999.0|\n",
      "|     CE|20160502|   PRCP| 13.0|-9999.0|-9999.0|-9999.0|-9999.0|\n",
      "|     RS|20160502|   PRCP| 28.0|-9999.0|-9999.0|-9999.0|-9999.0|\n",
      "|     BU|20160502|   PRCP| 23.0|-9999.0|-9999.0|-9999.0|-9999.0|\n",
      "|     BD|20160502|   PRCP|  0.0|-9999.0|-9999.0|-9999.0|-9999.0|\n",
      "|     AS|20160502|   PRCP|114.0|-9999.0|-9999.0|-9999.0|-9999.0|\n",
      "|     AS|20160503|   PRCP| 85.0|-9999.0|-9999.0|-9999.0|-9999.0|\n",
      "|     CA|20160503|   PRCP|135.0|-9999.0|-9999.0|-9999.0|-9999.0|\n",
      "|     MY|20160503|   PRCP| 36.0|-9999.0|-9999.0|-9999.0|-9999.0|\n",
      "|     HU|20160503|   PRCP| 18.0|-9999.0|-9999.0|-9999.0|-9999.0|\n",
      "|     LO|20160503|   PRCP|  3.0|-9999.0|-9999.0|-9999.0|-9999.0|\n",
      "|     HR|20160503|   PRCP| 15.0|-9999.0|-9999.0|-9999.0|-9999.0|\n",
      "+-------+--------+-------+-----+-------+-------+-------+-------+\n",
      "only showing top 20 rows\n",
      "\n"
     ]
    }
   ],
   "source": [
    "year2016csvTypesChangedDF.show()"
   ]
  },
  {
   "cell_type": "code",
   "execution_count": 35,
   "metadata": {
    "scrolled": true
   },
   "outputs": [
    {
     "data": {
      "text/plain": [
       "DataFrame[COUNTRY: string, DATE: string, ELEMENT: string, PRCP: float, SNOW: float, SNWD: float, TMAX: float, TMIN: float]"
      ]
     },
     "execution_count": 35,
     "metadata": {},
     "output_type": "execute_result"
    }
   ],
   "source": [
    "year2016csvTypesChangedDF.cache()"
   ]
  },
  {
   "cell_type": "code",
   "execution_count": 36,
   "metadata": {
    "collapsed": true
   },
   "outputs": [],
   "source": [
    "from pyspark.sql.functions import to_date"
   ]
  },
  {
   "cell_type": "code",
   "execution_count": 40,
   "metadata": {},
   "outputs": [
    {
     "data": {
      "text/plain": [
       "\"\\nyear2016csvDateTypeChangedDF=year2016csvTypesChangedDF.select('COUNTRY',                                                 to_date(year2016csvTypesChangedDF.DATE).alias('DATE'),                                                 'ELEMENT','PRCP','SNOW','SNWD','TMAX','TMIN')\\n\""
      ]
     },
     "execution_count": 40,
     "metadata": {},
     "output_type": "execute_result"
    }
   ],
   "source": [
    "\"\"\"\n",
    "year2016csvDateTypeChangedDF=year2016csvTypesChangedDF.select('COUNTRY', \\\n",
    "                                                to_date(year2016csvTypesChangedDF.DATE).alias('DATE'), \\\n",
    "                                                'ELEMENT','PRCP','SNOW','SNWD','TMAX','TMIN')\n",
    "\"\"\""
   ]
  },
  {
   "cell_type": "code",
   "execution_count": 41,
   "metadata": {},
   "outputs": [
    {
     "name": "stdout",
     "output_type": "stream",
     "text": [
      "root\n",
      " |-- COUNTRY: string (nullable = true)\n",
      " |-- DATE: string (nullable = true)\n",
      " |-- ELEMENT: string (nullable = true)\n",
      " |-- PRCP: float (nullable = true)\n",
      " |-- SNOW: float (nullable = true)\n",
      " |-- SNWD: float (nullable = true)\n",
      " |-- TMAX: float (nullable = true)\n",
      " |-- TMIN: float (nullable = true)\n",
      "\n"
     ]
    }
   ],
   "source": [
    "year2016csvTypesChangedDF.printSchema()"
   ]
  },
  {
   "cell_type": "code",
   "execution_count": 43,
   "metadata": {
    "collapsed": true
   },
   "outputs": [],
   "source": [
    "year2016csvTypesChangedDF=year2016csvTypesChangedDF.select('COUNTRY', \\\n",
    "                                                        year2016csvTypesChangedDF.DATE.cast('integer').alias('DATE'), \\\n",
    "                                                        'ELEMENT', 'PRCP','SNOW','SNWD','TMAX','TMIN')"
   ]
  },
  {
   "cell_type": "code",
   "execution_count": 44,
   "metadata": {},
   "outputs": [
    {
     "name": "stdout",
     "output_type": "stream",
     "text": [
      "root\n",
      " |-- COUNTRY: string (nullable = true)\n",
      " |-- DATE: integer (nullable = true)\n",
      " |-- ELEMENT: string (nullable = true)\n",
      " |-- PRCP: float (nullable = true)\n",
      " |-- SNOW: float (nullable = true)\n",
      " |-- SNWD: float (nullable = true)\n",
      " |-- TMAX: float (nullable = true)\n",
      " |-- TMIN: float (nullable = true)\n",
      "\n"
     ]
    }
   ],
   "source": [
    "year2016csvTypesChangedDF.printSchema()"
   ]
  },
  {
   "cell_type": "code",
   "execution_count": 45,
   "metadata": {},
   "outputs": [
    {
     "name": "stdout",
     "output_type": "stream",
     "text": [
      "+-------+--------+-------+-----+-------+-------+-------+-------+\n",
      "|COUNTRY|    DATE|ELEMENT| PRCP|   SNOW|   SNWD|   TMAX|   TMIN|\n",
      "+-------+--------+-------+-----+-------+-------+-------+-------+\n",
      "|     AS|20160430|   PRCP| 30.0|-9999.0|-9999.0|-9999.0|-9999.0|\n",
      "|     RS|20160501|   PRCP|231.0|-9999.0|-9999.0|-9999.0|-9999.0|\n",
      "|     TU|20160501|   PRCP| 46.0|-9999.0|-9999.0|-9999.0|-9999.0|\n",
      "|     UV|20160501|   PRCP|  0.0|-9999.0|-9999.0|-9999.0|-9999.0|\n",
      "|     AS|20160501|   PRCP|332.0|-9999.0|-9999.0|-9999.0|-9999.0|\n",
      "|     US|20160502|   PRCP| 33.0|-9999.0|-9999.0|-9999.0|-9999.0|\n",
      "|     VQ|20160502|   PRCP|315.0|-9999.0|-9999.0|-9999.0|-9999.0|\n",
      "|     US|20160502|   PRCP|437.0|-9999.0|-9999.0|-9999.0|-9999.0|\n",
      "|     US|20160502|   PRCP|257.0|-9999.0|-9999.0|-9999.0|-9999.0|\n",
      "|     CE|20160502|   PRCP| 13.0|-9999.0|-9999.0|-9999.0|-9999.0|\n",
      "|     RS|20160502|   PRCP| 28.0|-9999.0|-9999.0|-9999.0|-9999.0|\n",
      "|     BU|20160502|   PRCP| 23.0|-9999.0|-9999.0|-9999.0|-9999.0|\n",
      "|     BD|20160502|   PRCP|  0.0|-9999.0|-9999.0|-9999.0|-9999.0|\n",
      "|     AS|20160502|   PRCP|114.0|-9999.0|-9999.0|-9999.0|-9999.0|\n",
      "|     AS|20160503|   PRCP| 85.0|-9999.0|-9999.0|-9999.0|-9999.0|\n",
      "|     CA|20160503|   PRCP|135.0|-9999.0|-9999.0|-9999.0|-9999.0|\n",
      "|     MY|20160503|   PRCP| 36.0|-9999.0|-9999.0|-9999.0|-9999.0|\n",
      "|     HU|20160503|   PRCP| 18.0|-9999.0|-9999.0|-9999.0|-9999.0|\n",
      "|     LO|20160503|   PRCP|  3.0|-9999.0|-9999.0|-9999.0|-9999.0|\n",
      "|     HR|20160503|   PRCP| 15.0|-9999.0|-9999.0|-9999.0|-9999.0|\n",
      "+-------+--------+-------+-----+-------+-------+-------+-------+\n",
      "only showing top 20 rows\n",
      "\n"
     ]
    }
   ],
   "source": [
    "year2016csvTypesChangedDF.show()"
   ]
  },
  {
   "cell_type": "code",
   "execution_count": 46,
   "metadata": {
    "collapsed": true
   },
   "outputs": [],
   "source": [
    "year2016csvTypesChangedDF.select(\"COUNTRY\",\"DATE\",\"ELEMENT\",\"PRCP\",\"SNOW\",\"SNWD\",\"TMAX\",\"TMIN\") \\\n",
    ".write.save(\"/home/utad/spark-2.2.0-bin-hadoop2.7/con01/year2016csvTypesChangedDF.parquet\",format=\"parquet\")"
   ]
  },
  {
   "cell_type": "code",
   "execution_count": 47,
   "metadata": {
    "collapsed": true
   },
   "outputs": [],
   "source": [
    "year2016csvFinalDF=year2016csvTypesChangedDF.select(\"COUNTRY\",\"DATE\",\"PRCP\",\"SNOW\",\"SNWD\",\"TMAX\",\"TMIN\")"
   ]
  },
  {
   "cell_type": "code",
   "execution_count": 48,
   "metadata": {},
   "outputs": [
    {
     "name": "stdout",
     "output_type": "stream",
     "text": [
      "root\n",
      " |-- COUNTRY: string (nullable = true)\n",
      " |-- DATE: integer (nullable = true)\n",
      " |-- PRCP: float (nullable = true)\n",
      " |-- SNOW: float (nullable = true)\n",
      " |-- SNWD: float (nullable = true)\n",
      " |-- TMAX: float (nullable = true)\n",
      " |-- TMIN: float (nullable = true)\n",
      "\n"
     ]
    }
   ],
   "source": [
    "year2016csvFinalDF.printSchema()"
   ]
  },
  {
   "cell_type": "code",
   "execution_count": 49,
   "metadata": {},
   "outputs": [
    {
     "name": "stdout",
     "output_type": "stream",
     "text": [
      "+-------+--------+-----+-------+-------+-------+-------+\n",
      "|COUNTRY|    DATE| PRCP|   SNOW|   SNWD|   TMAX|   TMIN|\n",
      "+-------+--------+-----+-------+-------+-------+-------+\n",
      "|     AS|20160430| 30.0|-9999.0|-9999.0|-9999.0|-9999.0|\n",
      "|     RS|20160501|231.0|-9999.0|-9999.0|-9999.0|-9999.0|\n",
      "|     TU|20160501| 46.0|-9999.0|-9999.0|-9999.0|-9999.0|\n",
      "|     UV|20160501|  0.0|-9999.0|-9999.0|-9999.0|-9999.0|\n",
      "|     AS|20160501|332.0|-9999.0|-9999.0|-9999.0|-9999.0|\n",
      "|     US|20160502| 33.0|-9999.0|-9999.0|-9999.0|-9999.0|\n",
      "|     VQ|20160502|315.0|-9999.0|-9999.0|-9999.0|-9999.0|\n",
      "|     US|20160502|437.0|-9999.0|-9999.0|-9999.0|-9999.0|\n",
      "|     US|20160502|257.0|-9999.0|-9999.0|-9999.0|-9999.0|\n",
      "|     CE|20160502| 13.0|-9999.0|-9999.0|-9999.0|-9999.0|\n",
      "|     RS|20160502| 28.0|-9999.0|-9999.0|-9999.0|-9999.0|\n",
      "|     BU|20160502| 23.0|-9999.0|-9999.0|-9999.0|-9999.0|\n",
      "|     BD|20160502|  0.0|-9999.0|-9999.0|-9999.0|-9999.0|\n",
      "|     AS|20160502|114.0|-9999.0|-9999.0|-9999.0|-9999.0|\n",
      "|     AS|20160503| 85.0|-9999.0|-9999.0|-9999.0|-9999.0|\n",
      "|     CA|20160503|135.0|-9999.0|-9999.0|-9999.0|-9999.0|\n",
      "|     MY|20160503| 36.0|-9999.0|-9999.0|-9999.0|-9999.0|\n",
      "|     HU|20160503| 18.0|-9999.0|-9999.0|-9999.0|-9999.0|\n",
      "|     LO|20160503|  3.0|-9999.0|-9999.0|-9999.0|-9999.0|\n",
      "|     HR|20160503| 15.0|-9999.0|-9999.0|-9999.0|-9999.0|\n",
      "+-------+--------+-----+-------+-------+-------+-------+\n",
      "only showing top 20 rows\n",
      "\n"
     ]
    }
   ],
   "source": [
    "year2016csvFinalDF.show()"
   ]
  },
  {
   "cell_type": "code",
   "execution_count": 50,
   "metadata": {
    "collapsed": true
   },
   "outputs": [],
   "source": [
    "year2016csvFinalDF.select(\"COUNTRY\",\"DATE\",\"PRCP\",\"SNOW\",\"SNWD\",\"TMAX\",\"TMIN\") \\\n",
    ".write.save(\"/home/utad/spark-2.2.0-bin-hadoop2.7/con01/year2016csvFinalDF.parquet\",format=\"parquet\")"
   ]
  },
  {
   "cell_type": "code",
   "execution_count": 52,
   "metadata": {},
   "outputs": [
    {
     "data": {
      "text/plain": [
       "DataFrame[COUNTRY: string, DATE: int, PRCP: float, SNOW: float, SNWD: float, TMAX: float, TMIN: float]"
      ]
     },
     "execution_count": 52,
     "metadata": {},
     "output_type": "execute_result"
    }
   ],
   "source": [
    "year2016csvFinalDF.cache()"
   ]
  },
  {
   "cell_type": "code",
   "execution_count": 53,
   "metadata": {},
   "outputs": [
    {
     "data": {
      "text/plain": [
       "2527723"
      ]
     },
     "execution_count": 53,
     "metadata": {},
     "output_type": "execute_result"
    }
   ],
   "source": [
    "year2016csvFinalDF.count()"
   ]
  },
  {
   "cell_type": "code",
   "execution_count": 1,
   "metadata": {
    "collapsed": true
   },
   "outputs": [],
   "source": [
    "year2016csvFinalDF=spark.read.load(\"/home/utad/spark-2.2.0-bin-hadoop2.7/con01/year2016csvFinalDF.parquet\")"
   ]
  },
  {
   "cell_type": "code",
   "execution_count": 2,
   "metadata": {},
   "outputs": [
    {
     "name": "stdout",
     "output_type": "stream",
     "text": [
      "+-------+--------+-----+-------+-------+-------+-------+\n",
      "|COUNTRY|    DATE| PRCP|   SNOW|   SNWD|   TMAX|   TMIN|\n",
      "+-------+--------+-----+-------+-------+-------+-------+\n",
      "|     AS|20160430| 30.0|-9999.0|-9999.0|-9999.0|-9999.0|\n",
      "|     RS|20160501|231.0|-9999.0|-9999.0|-9999.0|-9999.0|\n",
      "|     TU|20160501| 46.0|-9999.0|-9999.0|-9999.0|-9999.0|\n",
      "|     UV|20160501|  0.0|-9999.0|-9999.0|-9999.0|-9999.0|\n",
      "|     AS|20160501|332.0|-9999.0|-9999.0|-9999.0|-9999.0|\n",
      "|     US|20160502| 33.0|-9999.0|-9999.0|-9999.0|-9999.0|\n",
      "|     VQ|20160502|315.0|-9999.0|-9999.0|-9999.0|-9999.0|\n",
      "|     US|20160502|437.0|-9999.0|-9999.0|-9999.0|-9999.0|\n",
      "|     US|20160502|257.0|-9999.0|-9999.0|-9999.0|-9999.0|\n",
      "|     CE|20160502| 13.0|-9999.0|-9999.0|-9999.0|-9999.0|\n",
      "|     RS|20160502| 28.0|-9999.0|-9999.0|-9999.0|-9999.0|\n",
      "|     BU|20160502| 23.0|-9999.0|-9999.0|-9999.0|-9999.0|\n",
      "|     BD|20160502|  0.0|-9999.0|-9999.0|-9999.0|-9999.0|\n",
      "|     AS|20160502|114.0|-9999.0|-9999.0|-9999.0|-9999.0|\n",
      "|     AS|20160503| 85.0|-9999.0|-9999.0|-9999.0|-9999.0|\n",
      "|     CA|20160503|135.0|-9999.0|-9999.0|-9999.0|-9999.0|\n",
      "|     MY|20160503| 36.0|-9999.0|-9999.0|-9999.0|-9999.0|\n",
      "|     HU|20160503| 18.0|-9999.0|-9999.0|-9999.0|-9999.0|\n",
      "|     LO|20160503|  3.0|-9999.0|-9999.0|-9999.0|-9999.0|\n",
      "|     HR|20160503| 15.0|-9999.0|-9999.0|-9999.0|-9999.0|\n",
      "+-------+--------+-----+-------+-------+-------+-------+\n",
      "only showing top 20 rows\n",
      "\n"
     ]
    }
   ],
   "source": [
    "year2016csvFinalDF.show()"
   ]
  },
  {
   "cell_type": "code",
   "execution_count": 3,
   "metadata": {},
   "outputs": [
    {
     "data": {
      "text/plain": [
       "DataFrame[COUNTRY: string, DATE: int, PRCP: float, SNOW: float, SNWD: float, TMAX: float, TMIN: float]"
      ]
     },
     "execution_count": 3,
     "metadata": {},
     "output_type": "execute_result"
    }
   ],
   "source": [
    "year2016csvFinalDF.cache()"
   ]
  },
  {
   "cell_type": "code",
   "execution_count": 4,
   "metadata": {},
   "outputs": [
    {
     "name": "stdout",
     "output_type": "stream",
     "text": [
      "root\n",
      " |-- COUNTRY: string (nullable = true)\n",
      " |-- DATE: integer (nullable = true)\n",
      " |-- PRCP: float (nullable = true)\n",
      " |-- SNOW: float (nullable = true)\n",
      " |-- SNWD: float (nullable = true)\n",
      " |-- TMAX: float (nullable = true)\n",
      " |-- TMIN: float (nullable = true)\n",
      "\n"
     ]
    }
   ],
   "source": [
    "year2016csvFinalDF.printSchema()"
   ]
  },
  {
   "cell_type": "code",
   "execution_count": 5,
   "metadata": {},
   "outputs": [
    {
     "data": {
      "text/plain": [
       "2527723"
      ]
     },
     "execution_count": 5,
     "metadata": {},
     "output_type": "execute_result"
    }
   ],
   "source": [
    "year2016csvFinalDF.count()"
   ]
  },
  {
   "cell_type": "code",
   "execution_count": 7,
   "metadata": {
    "collapsed": true
   },
   "outputs": [],
   "source": [
    "year2016csvFinalDF.write.csv('/home/utad/spark-2.2.0-bin-hadoop2.7/con01/year2016csvFinalDF.csv')"
   ]
  },
  {
   "cell_type": "code",
   "execution_count": 278,
   "metadata": {
    "collapsed": true
   },
   "outputs": [],
   "source": [
    "#con el where separas los DFs en magnitudes core\n",
    "#eliminas la columna de la magnitud core\n",
    "#la columna data_value la renombras como la magnitud core con valor\n",
    "#vuelves a unir todas las Dfs de cada magnitud core con un union y con eso ya lo tendrias\n",
    "\n",
    "#y continua añadiendo tmax y tmin y cuando lo tengas todo guardalo como text o csv y como parquet y haz un resumen \n",
    "#de instruccion y es tiempo de reportar a jconca\n",
    "#y cargar datos desde hdfs pero ya en maquina quickstart de cloudera"
   ]
  }
 ],
 "metadata": {
  "kernelspec": {
   "display_name": "Python 2",
   "language": "python",
   "name": "python2"
  },
  "language_info": {
   "codemirror_mode": {
    "name": "ipython",
    "version": 2
   },
   "file_extension": ".py",
   "mimetype": "text/x-python",
   "name": "python",
   "nbconvert_exporter": "python",
   "pygments_lexer": "ipython2",
   "version": "2.7.13"
  }
 },
 "nbformat": 4,
 "nbformat_minor": 2
}
